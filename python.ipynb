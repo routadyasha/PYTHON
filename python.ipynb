{
 "cells": [
  {
   "cell_type": "markdown",
   "id": "5eb09579",
   "metadata": {},
   "source": [
    "21-02-2023"
   ]
  },
  {
   "cell_type": "markdown",
   "id": "9bb26b8f",
   "metadata": {},
   "source": [
    "# PYTHON"
   ]
  },
  {
   "cell_type": "markdown",
   "id": "97de6d96",
   "metadata": {},
   "source": [
    "Keywords and Identifiers"
   ]
  },
  {
   "cell_type": "markdown",
   "id": "bc436fa5",
   "metadata": {},
   "source": [
    "Keywords are predefined reserveed words in Python. We cannot use keywords as variable names"
   ]
  },
  {
   "cell_type": "markdown",
   "id": "d84c6d19",
   "metadata": {},
   "source": [
    "Indentifiers are the name given to variables clases module etc, Identifiers cannot be keyword, its case sensitive,\n",
    "it cannot start with special char(_) or number, it connot contain void space."
   ]
  },
  {
   "cell_type": "code",
   "execution_count": 2,
   "id": "f09ecd9c",
   "metadata": {},
   "outputs": [
    {
     "name": "stdout",
     "output_type": "stream",
     "text": [
      "Variable\n"
     ]
    }
   ],
   "source": [
    "print('Variable')"
   ]
  },
  {
   "cell_type": "code",
   "execution_count": 4,
   "id": "5dc602a9",
   "metadata": {},
   "outputs": [],
   "source": [
    "X='Variable'\n",
    "Y='variable'"
   ]
  },
  {
   "cell_type": "code",
   "execution_count": 5,
   "id": "2ae9bbb2",
   "metadata": {},
   "outputs": [
    {
     "name": "stdout",
     "output_type": "stream",
     "text": [
      "Variable variable\n"
     ]
    }
   ],
   "source": [
    "print(X,Y)"
   ]
  },
  {
   "cell_type": "code",
   "execution_count": 6,
   "id": "1ec9bc7a",
   "metadata": {},
   "outputs": [],
   "source": [
    "X='_Variable'\n",
    "Y='@variable'"
   ]
  },
  {
   "cell_type": "code",
   "execution_count": 7,
   "id": "7af12575",
   "metadata": {},
   "outputs": [
    {
     "name": "stdout",
     "output_type": "stream",
     "text": [
      "_Variable @variable\n"
     ]
    }
   ],
   "source": [
    "print(X,Y)"
   ]
  },
  {
   "cell_type": "markdown",
   "id": "26780a1a",
   "metadata": {},
   "source": [
    "python comments #"
   ]
  },
  {
   "cell_type": "code",
   "execution_count": 8,
   "id": "1c0a5956",
   "metadata": {},
   "outputs": [],
   "source": [
    "#creating a variable\n",
    "x='my name is adyasha'"
   ]
  },
  {
   "cell_type": "code",
   "execution_count": 9,
   "id": "53e31d26",
   "metadata": {},
   "outputs": [
    {
     "data": {
      "text/plain": [
       "'my name is adyasha'"
      ]
     },
     "execution_count": 9,
     "metadata": {},
     "output_type": "execute_result"
    }
   ],
   "source": [
    "# printing the value\n",
    "x "
   ]
  },
  {
   "cell_type": "code",
   "execution_count": null,
   "id": "56d36b87",
   "metadata": {},
   "outputs": [],
   "source": [
    "'''i am from odisha \n",
    "i have completed my btech in ece\n",
    "i am poor in coding language'''"
   ]
  },
  {
   "cell_type": "markdown",
   "id": "7a12405f",
   "metadata": {},
   "source": [
    "PYTHON VARIABLES CONSTANTS AND LITERALS"
   ]
  },
  {
   "cell_type": "markdown",
   "id": "e3fdc7a7",
   "metadata": {},
   "source": [
    "Variable is a container that stores data."
   ]
  },
  {
   "cell_type": "code",
   "execution_count": 11,
   "id": "1a001dc4",
   "metadata": {},
   "outputs": [],
   "source": [
    "x=20\n",
    "y=39\n",
    "z=x+y"
   ]
  },
  {
   "cell_type": "code",
   "execution_count": 12,
   "id": "32c51982",
   "metadata": {},
   "outputs": [
    {
     "data": {
      "text/plain": [
       "59"
      ]
     },
     "execution_count": 12,
     "metadata": {},
     "output_type": "execute_result"
    }
   ],
   "source": [
    "z"
   ]
  },
  {
   "cell_type": "code",
   "execution_count": 13,
   "id": "7c0bd2a3",
   "metadata": {},
   "outputs": [],
   "source": [
    "A,B,C=5,4.56,'adus'"
   ]
  },
  {
   "cell_type": "code",
   "execution_count": 18,
   "id": "eb1f2b53",
   "metadata": {},
   "outputs": [
    {
     "name": "stdout",
     "output_type": "stream",
     "text": [
      "5\n"
     ]
    },
    {
     "data": {
      "text/plain": [
       "int"
      ]
     },
     "execution_count": 18,
     "metadata": {},
     "output_type": "execute_result"
    }
   ],
   "source": [
    "print(A)\n",
    "type(A)"
   ]
  },
  {
   "cell_type": "code",
   "execution_count": 21,
   "id": "7c1d2587",
   "metadata": {},
   "outputs": [
    {
     "name": "stdout",
     "output_type": "stream",
     "text": [
      "4.56\n"
     ]
    },
    {
     "data": {
      "text/plain": [
       "float"
      ]
     },
     "execution_count": 21,
     "metadata": {},
     "output_type": "execute_result"
    }
   ],
   "source": [
    "print(B)\n",
    "type(B)"
   ]
  },
  {
   "cell_type": "code",
   "execution_count": 22,
   "id": "b9bcf76c",
   "metadata": {},
   "outputs": [
    {
     "name": "stdout",
     "output_type": "stream",
     "text": [
      "adus\n"
     ]
    },
    {
     "data": {
      "text/plain": [
       "str"
      ]
     },
     "execution_count": 22,
     "metadata": {},
     "output_type": "execute_result"
    }
   ],
   "source": [
    "print(C)\n",
    "type(C)"
   ]
  },
  {
   "cell_type": "code",
   "execution_count": 23,
   "id": "abe5b1a2",
   "metadata": {},
   "outputs": [
    {
     "name": "stdout",
     "output_type": "stream",
     "text": [
      "5.667\n",
      "5.667\n"
     ]
    }
   ],
   "source": [
    "a=b=5.667\n",
    "print(a)\n",
    "print(b)"
   ]
  },
  {
   "cell_type": "code",
   "execution_count": 24,
   "id": "4cb3ed0a",
   "metadata": {},
   "outputs": [
    {
     "ename": "SyntaxError",
     "evalue": "invalid syntax (146322892.py, line 1)",
     "output_type": "error",
     "traceback": [
      "\u001b[1;36m  File \u001b[1;32m\"C:\\Users\\23ady\\AppData\\Local\\Temp\\ipykernel_20324\\146322892.py\"\u001b[1;36m, line \u001b[1;32m1\u001b[0m\n\u001b[1;33m    adya sha=5\u001b[0m\n\u001b[1;37m         ^\u001b[0m\n\u001b[1;31mSyntaxError\u001b[0m\u001b[1;31m:\u001b[0m invalid syntax\n"
     ]
    }
   ],
   "source": [
    "adya sha=5"
   ]
  },
  {
   "cell_type": "code",
   "execution_count": 25,
   "id": "22f265c9",
   "metadata": {},
   "outputs": [],
   "source": [
    "adya_sha=5"
   ]
  },
  {
   "cell_type": "code",
   "execution_count": 26,
   "id": "0268ac7c",
   "metadata": {},
   "outputs": [],
   "source": [
    "adya_Sha=5"
   ]
  },
  {
   "cell_type": "code",
   "execution_count": 27,
   "id": "6f852ad8",
   "metadata": {},
   "outputs": [
    {
     "ename": "SyntaxError",
     "evalue": "invalid syntax (3179386890.py, line 1)",
     "output_type": "error",
     "traceback": [
      "\u001b[1;36m  File \u001b[1;32m\"C:\\Users\\23ady\\AppData\\Local\\Temp\\ipykernel_20324\\3179386890.py\"\u001b[1;36m, line \u001b[1;32m1\u001b[0m\n\u001b[1;33m    8asd=5\u001b[0m\n\u001b[1;37m     ^\u001b[0m\n\u001b[1;31mSyntaxError\u001b[0m\u001b[1;31m:\u001b[0m invalid syntax\n"
     ]
    }
   ],
   "source": [
    "8asd=5"
   ]
  },
  {
   "cell_type": "code",
   "execution_count": 28,
   "id": "d37c43c5",
   "metadata": {},
   "outputs": [],
   "source": [
    "sad=5"
   ]
  },
  {
   "cell_type": "code",
   "execution_count": 29,
   "id": "229353a9",
   "metadata": {},
   "outputs": [],
   "source": [
    "Sad=5"
   ]
  },
  {
   "cell_type": "code",
   "execution_count": 30,
   "id": "dfc27b39",
   "metadata": {},
   "outputs": [],
   "source": [
    "adyaSha=5"
   ]
  },
  {
   "cell_type": "code",
   "execution_count": 31,
   "id": "92944d4c",
   "metadata": {},
   "outputs": [
    {
     "ename": "SyntaxError",
     "evalue": "cannot assign to True (3091963775.py, line 1)",
     "output_type": "error",
     "traceback": [
      "\u001b[1;36m  File \u001b[1;32m\"C:\\Users\\23ady\\AppData\\Local\\Temp\\ipykernel_20324\\3091963775.py\"\u001b[1;36m, line \u001b[1;32m1\u001b[0m\n\u001b[1;33m    True=5\u001b[0m\n\u001b[1;37m    ^\u001b[0m\n\u001b[1;31mSyntaxError\u001b[0m\u001b[1;31m:\u001b[0m cannot assign to True\n"
     ]
    }
   ],
   "source": [
    "True=5"
   ]
  },
  {
   "cell_type": "code",
   "execution_count": null,
   "id": "ec8da434",
   "metadata": {},
   "outputs": [],
   "source": []
  },
  {
   "cell_type": "code",
   "execution_count": null,
   "id": "1f533aca",
   "metadata": {},
   "outputs": [],
   "source": [
    "### Constants are special type of variables whose values cannot be changed\n",
    "ex: pi=3.14, gravity=9.8"
   ]
  },
  {
   "cell_type": "code",
   "execution_count": 33,
   "id": "205668a7",
   "metadata": {},
   "outputs": [
    {
     "ename": "ModuleNotFoundError",
     "evalue": "No module named 'constants'",
     "output_type": "error",
     "traceback": [
      "\u001b[1;31m---------------------------------------------------------------------------\u001b[0m",
      "\u001b[1;31mModuleNotFoundError\u001b[0m                       Traceback (most recent call last)",
      "\u001b[1;32m~\\AppData\\Local\\Temp\\ipykernel_20324\\863007567.py\u001b[0m in \u001b[0;36m<module>\u001b[1;34m\u001b[0m\n\u001b[1;32m----> 1\u001b[1;33m \u001b[1;32mimport\u001b[0m \u001b[0mconstants\u001b[0m\u001b[1;33m\u001b[0m\u001b[1;33m\u001b[0m\u001b[0m\n\u001b[0m",
      "\u001b[1;31mModuleNotFoundError\u001b[0m: No module named 'constants'"
     ]
    }
   ],
   "source": [
    "import constants"
   ]
  },
  {
   "cell_type": "code",
   "execution_count": 45,
   "id": "84b75080",
   "metadata": {},
   "outputs": [
    {
     "name": "stdout",
     "output_type": "stream",
     "text": [
      "Requirement already satisfied: constants in c:\\users\\23ady\\anaconda3\\lib\\site-packages (0.6.0)\n",
      "Note: you may need to restart the kernel to use updated packages.\n"
     ]
    }
   ],
   "source": [
    "pip install constants"
   ]
  },
  {
   "cell_type": "code",
   "execution_count": 46,
   "id": "d85916e2",
   "metadata": {},
   "outputs": [],
   "source": [
    "import constant"
   ]
  },
  {
   "cell_type": "code",
   "execution_count": 49,
   "id": "f1c8e9f1",
   "metadata": {},
   "outputs": [
    {
     "ename": "AttributeError",
     "evalue": "module 'constant' has no attribute 'pi'",
     "output_type": "error",
     "traceback": [
      "\u001b[1;31m---------------------------------------------------------------------------\u001b[0m",
      "\u001b[1;31mAttributeError\u001b[0m                            Traceback (most recent call last)",
      "\u001b[1;32m~\\AppData\\Local\\Temp\\ipykernel_20324\\1720373752.py\u001b[0m in \u001b[0;36m<module>\u001b[1;34m\u001b[0m\n\u001b[1;32m----> 1\u001b[1;33m \u001b[0mprint\u001b[0m\u001b[1;33m(\u001b[0m\u001b[0mconstant\u001b[0m\u001b[1;33m.\u001b[0m\u001b[0mpi\u001b[0m\u001b[1;33m)\u001b[0m\u001b[1;33m\u001b[0m\u001b[1;33m\u001b[0m\u001b[0m\n\u001b[0m",
      "\u001b[1;31mAttributeError\u001b[0m: module 'constant' has no attribute 'pi'"
     ]
    }
   ],
   "source": [
    "print(constant.pi)"
   ]
  },
  {
   "cell_type": "code",
   "execution_count": 55,
   "id": "249c66b4",
   "metadata": {},
   "outputs": [
    {
     "name": "stdout",
     "output_type": "stream",
     "text": [
      "Python is fantastic\n"
     ]
    }
   ],
   "source": [
    "x = \"awesome\"\n",
    "\n",
    "def myfunc():\n",
    "    global x\n",
    "    x = \"fantastic\"\n",
    "myfunc()\n",
    "print(\"Python is \" + x)"
   ]
  },
  {
   "cell_type": "code",
   "execution_count": 61,
   "id": "a80a3f1c",
   "metadata": {},
   "outputs": [
    {
     "ename": "SyntaxError",
     "evalue": "invalid non-printable character U+00A0 (2385234511.py, line 4)",
     "output_type": "error",
     "traceback": [
      "\u001b[1;36m  File \u001b[1;32m\"C:\\Users\\23ady\\AppData\\Local\\Temp\\ipykernel_20324\\2385234511.py\"\u001b[1;36m, line \u001b[1;32m4\u001b[0m\n\u001b[1;33m    print(s)\u001b[0m\n\u001b[1;37m            ^\u001b[0m\n\u001b[1;31mSyntaxError\u001b[0m\u001b[1;31m:\u001b[0m invalid non-printable character U+00A0\n"
     ]
    }
   ],
   "source": [
    "#This function has a variable with# name same as s.    \n",
    "def f():\n",
    "    s = \"Me too.\"\n",
    "    print(s)    \n",
    "# Global\n",
    "s = \"I love Geeksforgeeks\"\n",
    "f()\n",
    "print(s)\n",
    "\n"
   ]
  },
  {
   "cell_type": "code",
   "execution_count": 64,
   "id": "d6147496",
   "metadata": {},
   "outputs": [
    {
     "name": "stdout",
     "output_type": "stream",
     "text": [
      "me too\n",
      "I LOVE GEEKSFORGEEKS\n"
     ]
    }
   ],
   "source": [
    "def f():\n",
    "    s='me too'\n",
    "    print(s)\n",
    "s = 'I LOVE GEEKSFORGEEKS'\n",
    "f()\n",
    "print(s)"
   ]
  },
  {
   "cell_type": "code",
   "execution_count": null,
   "id": "284132ed",
   "metadata": {},
   "outputs": [],
   "source": []
  },
  {
   "cell_type": "markdown",
   "id": "51dd63ec",
   "metadata": {},
   "source": [
    "Literals represents fixed values in a program, they can be number, char, string"
   ]
  },
  {
   "cell_type": "code",
   "execution_count": null,
   "id": "02b4f618",
   "metadata": {},
   "outputs": [],
   "source": []
  },
  {
   "cell_type": "markdown",
   "id": "6bf0b72e",
   "metadata": {},
   "source": [
    "#### Python Datatypes"
   ]
  },
  {
   "cell_type": "markdown",
   "id": "e7dead3e",
   "metadata": {},
   "source": [
    "Python Numerica Datatypes: int(non limited length),float(decimal value, upto 15 decimal place),complex value"
   ]
  },
  {
   "cell_type": "code",
   "execution_count": 65,
   "id": "9f02622f",
   "metadata": {},
   "outputs": [],
   "source": [
    "num = 2"
   ]
  },
  {
   "cell_type": "code",
   "execution_count": 66,
   "id": "6d8cdb85",
   "metadata": {},
   "outputs": [
    {
     "name": "stdout",
     "output_type": "stream",
     "text": [
      "2\n"
     ]
    }
   ],
   "source": [
    "print(num)"
   ]
  },
  {
   "cell_type": "code",
   "execution_count": 68,
   "id": "5342ea01",
   "metadata": {},
   "outputs": [
    {
     "data": {
      "text/plain": [
       "int"
      ]
     },
     "execution_count": 68,
     "metadata": {},
     "output_type": "execute_result"
    }
   ],
   "source": [
    "type(num)"
   ]
  },
  {
   "cell_type": "code",
   "execution_count": 69,
   "id": "35309582",
   "metadata": {},
   "outputs": [
    {
     "name": "stdout",
     "output_type": "stream",
     "text": [
      "3.44\n"
     ]
    },
    {
     "data": {
      "text/plain": [
       "float"
      ]
     },
     "execution_count": 69,
     "metadata": {},
     "output_type": "execute_result"
    }
   ],
   "source": [
    "num=3.44\n",
    "print(num)\n",
    "type(num)"
   ]
  },
  {
   "cell_type": "code",
   "execution_count": 71,
   "id": "c2ff310c",
   "metadata": {},
   "outputs": [
    {
     "name": "stdout",
     "output_type": "stream",
     "text": [
      "(1+2j)\n"
     ]
    },
    {
     "data": {
      "text/plain": [
       "complex"
      ]
     },
     "execution_count": 71,
     "metadata": {},
     "output_type": "execute_result"
    }
   ],
   "source": [
    "num=1+2j\n",
    "print(num)\n",
    "type(num)"
   ]
  },
  {
   "cell_type": "markdown",
   "id": "246469ee",
   "metadata": {},
   "source": [
    "#### Python String Datatypes"
   ]
  },
  {
   "cell_type": "code",
   "execution_count": 72,
   "id": "cc96f6ed",
   "metadata": {},
   "outputs": [
    {
     "name": "stdout",
     "output_type": "stream",
     "text": [
      "apple\n"
     ]
    },
    {
     "data": {
      "text/plain": [
       "str"
      ]
     },
     "execution_count": 72,
     "metadata": {},
     "output_type": "execute_result"
    }
   ],
   "source": [
    "name = 'apple'\n",
    "print(name)\n",
    "type(name)"
   ]
  },
  {
   "cell_type": "markdown",
   "id": "abc8bbb8",
   "metadata": {},
   "source": [
    "#### Python type conversion"
   ]
  },
  {
   "cell_type": "code",
   "execution_count": 74,
   "id": "67b10dc5",
   "metadata": {},
   "outputs": [
    {
     "name": "stdout",
     "output_type": "stream",
     "text": [
      "3004\n"
     ]
    },
    {
     "data": {
      "text/plain": [
       "int"
      ]
     },
     "execution_count": 74,
     "metadata": {},
     "output_type": "execute_result"
    }
   ],
   "source": [
    "num = 3004\n",
    "print(num)\n",
    "type(num)"
   ]
  },
  {
   "cell_type": "code",
   "execution_count": 76,
   "id": "acfb5da5",
   "metadata": {},
   "outputs": [
    {
     "name": "stdout",
     "output_type": "stream",
     "text": [
      "3004.0\n"
     ]
    },
    {
     "data": {
      "text/plain": [
       "float"
      ]
     },
     "execution_count": 76,
     "metadata": {},
     "output_type": "execute_result"
    }
   ],
   "source": [
    "num = float(3004)\n",
    "print(num)\n",
    "type(num)"
   ]
  },
  {
   "cell_type": "code",
   "execution_count": 77,
   "id": "3a5bc91c",
   "metadata": {},
   "outputs": [
    {
     "name": "stdout",
     "output_type": "stream",
     "text": [
      "3004\n"
     ]
    },
    {
     "data": {
      "text/plain": [
       "str"
      ]
     },
     "execution_count": 77,
     "metadata": {},
     "output_type": "execute_result"
    }
   ],
   "source": [
    "num = str(3004)\n",
    "print(num)\n",
    "type(num)"
   ]
  },
  {
   "cell_type": "code",
   "execution_count": 78,
   "id": "3dcb049e",
   "metadata": {},
   "outputs": [
    {
     "ename": "TypeError",
     "evalue": "unsupported operand type(s) for +: 'int' and 'str'",
     "output_type": "error",
     "traceback": [
      "\u001b[1;31m---------------------------------------------------------------------------\u001b[0m",
      "\u001b[1;31mTypeError\u001b[0m                                 Traceback (most recent call last)",
      "\u001b[1;32m~\\AppData\\Local\\Temp\\ipykernel_20324\\358736743.py\u001b[0m in \u001b[0;36m<module>\u001b[1;34m\u001b[0m\n\u001b[0;32m      1\u001b[0m \u001b[0mi\u001b[0m \u001b[1;33m=\u001b[0m\u001b[1;36m5\u001b[0m\u001b[1;33m\u001b[0m\u001b[1;33m\u001b[0m\u001b[0m\n\u001b[0;32m      2\u001b[0m \u001b[0mf\u001b[0m \u001b[1;33m=\u001b[0m \u001b[1;34m'india'\u001b[0m\u001b[1;33m\u001b[0m\u001b[1;33m\u001b[0m\u001b[0m\n\u001b[1;32m----> 3\u001b[1;33m \u001b[0mj\u001b[0m\u001b[1;33m=\u001b[0m\u001b[0mi\u001b[0m\u001b[1;33m+\u001b[0m\u001b[0mf\u001b[0m\u001b[1;33m\u001b[0m\u001b[1;33m\u001b[0m\u001b[0m\n\u001b[0m\u001b[0;32m      4\u001b[0m \u001b[1;33m\u001b[0m\u001b[0m\n\u001b[0;32m      5\u001b[0m \u001b[0mprint\u001b[0m\u001b[1;33m(\u001b[0m\u001b[0mj\u001b[0m\u001b[1;33m)\u001b[0m\u001b[1;33m\u001b[0m\u001b[1;33m\u001b[0m\u001b[0m\n",
      "\u001b[1;31mTypeError\u001b[0m: unsupported operand type(s) for +: 'int' and 'str'"
     ]
    }
   ],
   "source": [
    "i =5\n",
    "f = 'india'\n",
    "j=i+f\n",
    "\n",
    "print(j)"
   ]
  },
  {
   "cell_type": "code",
   "execution_count": 9,
   "id": "7291e199",
   "metadata": {},
   "outputs": [
    {
     "name": "stdout",
     "output_type": "stream",
     "text": [
      "5india\n"
     ]
    }
   ],
   "source": [
    "i =5\n",
    "f = 'india'\n",
    "j=str(i)+f\n",
    "\n",
    "print(j)"
   ]
  },
  {
   "cell_type": "code",
   "execution_count": null,
   "id": "f62e1a1b",
   "metadata": {},
   "outputs": [],
   "source": []
  },
  {
   "cell_type": "markdown",
   "id": "199d9222",
   "metadata": {},
   "source": [
    "# PYTHON INPUT OUTPUT"
   ]
  },
  {
   "cell_type": "markdown",
   "id": "37562728",
   "metadata": {},
   "source": [
    "24-02-2023"
   ]
  },
  {
   "cell_type": "code",
   "execution_count": 1,
   "id": "db4e3e6d",
   "metadata": {},
   "outputs": [
    {
     "name": "stdout",
     "output_type": "stream",
     "text": [
      "enter your number34\n"
     ]
    }
   ],
   "source": [
    "var=input('enter your number')"
   ]
  },
  {
   "cell_type": "code",
   "execution_count": null,
   "id": "16e1f5d9",
   "metadata": {},
   "outputs": [],
   "source": []
  },
  {
   "cell_type": "code",
   "execution_count": null,
   "id": "1472c208",
   "metadata": {},
   "outputs": [],
   "source": []
  },
  {
   "cell_type": "code",
   "execution_count": 7,
   "id": "49bccbf8",
   "metadata": {},
   "outputs": [],
   "source": [
    "x=1\n",
    "y=2"
   ]
  },
  {
   "cell_type": "code",
   "execution_count": 12,
   "id": "4df8e838",
   "metadata": {},
   "outputs": [
    {
     "name": "stdout",
     "output_type": "stream",
     "text": [
      "The value of x = 1 and y = 2\n"
     ]
    }
   ],
   "source": [
    "print('The value of x =',x,'and y =',y)"
   ]
  },
  {
   "cell_type": "code",
   "execution_count": 6,
   "id": "0f8026df",
   "metadata": {},
   "outputs": [
    {
     "name": "stdout",
     "output_type": "stream",
     "text": [
      "The value of x is 1 and y is 2\n"
     ]
    }
   ],
   "source": [
    "x=1\n",
    "y=2\n",
    "print('The value of x is {} and y is {}'.format(x,y))"
   ]
  },
  {
   "cell_type": "code",
   "execution_count": null,
   "id": "0d3159a0",
   "metadata": {},
   "outputs": [],
   "source": []
  },
  {
   "cell_type": "markdown",
   "id": "8a0fd9da",
   "metadata": {},
   "source": [
    "# OPERATORS"
   ]
  },
  {
   "cell_type": "markdown",
   "id": "fab9ac56",
   "metadata": {},
   "source": [
    "Operators are special symbols that perform operations on variables and values."
   ]
  },
  {
   "cell_type": "markdown",
   "id": "d54dfc69",
   "metadata": {},
   "source": [
    "## TYPES OF OPERATOR"
   ]
  },
  {
   "cell_type": "markdown",
   "id": "b37982af",
   "metadata": {},
   "source": [
    "There are 6 types of operatos in python\n",
    "1. Arithmatic Operator: used to perform mathematical operations('+','-','*','/','//','%','**')"
   ]
  },
  {
   "cell_type": "code",
   "execution_count": 13,
   "id": "89247b73",
   "metadata": {},
   "outputs": [],
   "source": [
    "x=3\n",
    "y=2"
   ]
  },
  {
   "cell_type": "code",
   "execution_count": 16,
   "id": "ded3b8b9",
   "metadata": {},
   "outputs": [
    {
     "name": "stdout",
     "output_type": "stream",
     "text": [
      "z= 5\n"
     ]
    }
   ],
   "source": [
    "#Addition\n",
    "\n",
    "z=x+y\n",
    "\n",
    "print('z=',z)"
   ]
  },
  {
   "cell_type": "code",
   "execution_count": 18,
   "id": "aff0ccdb",
   "metadata": {},
   "outputs": [
    {
     "name": "stdout",
     "output_type": "stream",
     "text": [
      "Sub= 1\n"
     ]
    }
   ],
   "source": [
    "#Subtraction\n",
    "\n",
    "Sub=x-y\n",
    "\n",
    "print('Sub=',Sub)"
   ]
  },
  {
   "cell_type": "code",
   "execution_count": 19,
   "id": "3c578919",
   "metadata": {},
   "outputs": [
    {
     "name": "stdout",
     "output_type": "stream",
     "text": [
      "mul= 6\n"
     ]
    }
   ],
   "source": [
    "#Multiplication\n",
    "\n",
    "mul=x*y\n",
    "print('mul=',mul)"
   ]
  },
  {
   "cell_type": "code",
   "execution_count": 20,
   "id": "5bac16a1",
   "metadata": {},
   "outputs": [
    {
     "name": "stdout",
     "output_type": "stream",
     "text": [
      "div= 1.5\n"
     ]
    }
   ],
   "source": [
    "#Division\n",
    "\n",
    "div=x/y\n",
    "print('div=',div)"
   ]
  },
  {
   "cell_type": "code",
   "execution_count": 21,
   "id": "6ebbed50",
   "metadata": {},
   "outputs": [
    {
     "name": "stdout",
     "output_type": "stream",
     "text": [
      "float division= 1\n"
     ]
    }
   ],
   "source": [
    "#Floor Division\n",
    "\n",
    "FD = x//y\n",
    "print('float division=',FD)"
   ]
  },
  {
   "cell_type": "code",
   "execution_count": 24,
   "id": "2dcd4132",
   "metadata": {},
   "outputs": [
    {
     "name": "stdout",
     "output_type": "stream",
     "text": [
      "mod= 0\n"
     ]
    }
   ],
   "source": [
    "#Modulus\n",
    "\n",
    "a=34\n",
    "b=17\n",
    "\n",
    "mod=a%b\n",
    "print('mod=',mod)"
   ]
  },
  {
   "cell_type": "code",
   "execution_count": 25,
   "id": "a047fa20",
   "metadata": {},
   "outputs": [
    {
     "name": "stdout",
     "output_type": "stream",
     "text": [
      "power= 64\n"
     ]
    }
   ],
   "source": [
    "#Exponent\n",
    "\n",
    "pow=4**3\n",
    "print('power=',pow)"
   ]
  },
  {
   "cell_type": "markdown",
   "id": "0fd4ab7d",
   "metadata": {},
   "source": [
    "2. ASSIGNMENT OPERATOR: Used to assign values to variable. ('=','+=','-=','*=','/=','%=','**=')"
   ]
  },
  {
   "cell_type": "code",
   "execution_count": 2,
   "id": "937a8fb4",
   "metadata": {},
   "outputs": [],
   "source": [
    "\n",
    "a=5"
   ]
  },
  {
   "cell_type": "code",
   "execution_count": 3,
   "id": "1cf79e87",
   "metadata": {},
   "outputs": [],
   "source": [
    "a+=4"
   ]
  },
  {
   "cell_type": "code",
   "execution_count": 4,
   "id": "0ca2326a",
   "metadata": {},
   "outputs": [
    {
     "data": {
      "text/plain": [
       "9"
      ]
     },
     "execution_count": 4,
     "metadata": {},
     "output_type": "execute_result"
    }
   ],
   "source": [
    "a"
   ]
  },
  {
   "cell_type": "code",
   "execution_count": 5,
   "id": "2f686bc9",
   "metadata": {},
   "outputs": [],
   "source": [
    "a-=2"
   ]
  },
  {
   "cell_type": "code",
   "execution_count": 6,
   "id": "df2094e1",
   "metadata": {},
   "outputs": [
    {
     "data": {
      "text/plain": [
       "7"
      ]
     },
     "execution_count": 6,
     "metadata": {},
     "output_type": "execute_result"
    }
   ],
   "source": [
    "a"
   ]
  },
  {
   "cell_type": "code",
   "execution_count": 7,
   "id": "ebbecb4d",
   "metadata": {},
   "outputs": [
    {
     "data": {
      "text/plain": [
       "21"
      ]
     },
     "execution_count": 7,
     "metadata": {},
     "output_type": "execute_result"
    }
   ],
   "source": [
    "a*=3\n",
    "a"
   ]
  },
  {
   "cell_type": "code",
   "execution_count": 8,
   "id": "a75b61be",
   "metadata": {},
   "outputs": [],
   "source": [
    "a/=7"
   ]
  },
  {
   "cell_type": "code",
   "execution_count": 9,
   "id": "283a77be",
   "metadata": {},
   "outputs": [
    {
     "data": {
      "text/plain": [
       "3.0"
      ]
     },
     "execution_count": 9,
     "metadata": {},
     "output_type": "execute_result"
    }
   ],
   "source": [
    "a"
   ]
  },
  {
   "cell_type": "code",
   "execution_count": 10,
   "id": "840c946d",
   "metadata": {},
   "outputs": [],
   "source": [
    "a**=2"
   ]
  },
  {
   "cell_type": "code",
   "execution_count": 11,
   "id": "69c92008",
   "metadata": {},
   "outputs": [
    {
     "data": {
      "text/plain": [
       "9.0"
      ]
     },
     "execution_count": 11,
     "metadata": {},
     "output_type": "execute_result"
    }
   ],
   "source": [
    "a"
   ]
  },
  {
   "cell_type": "code",
   "execution_count": null,
   "id": "ba354eca",
   "metadata": {},
   "outputs": [],
   "source": []
  },
  {
   "cell_type": "markdown",
   "id": "f82adf8d",
   "metadata": {},
   "source": [
    "3. PYTHON COMPARISON OPERATOR"
   ]
  },
  {
   "cell_type": "markdown",
   "id": "1338294a",
   "metadata": {},
   "source": [
    "Comparision operator is used to compare two values and gives the result in boolean format. ('==','!=','>','<','>=','<=')"
   ]
  },
  {
   "cell_type": "code",
   "execution_count": 12,
   "id": "22a3597d",
   "metadata": {},
   "outputs": [],
   "source": [
    "c=334\n",
    "d=32"
   ]
  },
  {
   "cell_type": "code",
   "execution_count": 13,
   "id": "89d46664",
   "metadata": {},
   "outputs": [
    {
     "data": {
      "text/plain": [
       "False"
      ]
     },
     "execution_count": 13,
     "metadata": {},
     "output_type": "execute_result"
    }
   ],
   "source": [
    "c==d"
   ]
  },
  {
   "cell_type": "code",
   "execution_count": 14,
   "id": "db828350",
   "metadata": {},
   "outputs": [
    {
     "data": {
      "text/plain": [
       "True"
      ]
     },
     "execution_count": 14,
     "metadata": {},
     "output_type": "execute_result"
    }
   ],
   "source": [
    "c!=d"
   ]
  },
  {
   "cell_type": "code",
   "execution_count": 15,
   "id": "11b04d12",
   "metadata": {},
   "outputs": [
    {
     "data": {
      "text/plain": [
       "True"
      ]
     },
     "execution_count": 15,
     "metadata": {},
     "output_type": "execute_result"
    }
   ],
   "source": [
    "c>d"
   ]
  },
  {
   "cell_type": "code",
   "execution_count": 16,
   "id": "07c4da78",
   "metadata": {},
   "outputs": [
    {
     "data": {
      "text/plain": [
       "False"
      ]
     },
     "execution_count": 16,
     "metadata": {},
     "output_type": "execute_result"
    }
   ],
   "source": [
    "c<d"
   ]
  },
  {
   "cell_type": "code",
   "execution_count": 17,
   "id": "9857b41d",
   "metadata": {},
   "outputs": [
    {
     "data": {
      "text/plain": [
       "True"
      ]
     },
     "execution_count": 17,
     "metadata": {},
     "output_type": "execute_result"
    }
   ],
   "source": [
    "c>=d"
   ]
  },
  {
   "cell_type": "code",
   "execution_count": 18,
   "id": "dc4fe6ab",
   "metadata": {},
   "outputs": [
    {
     "data": {
      "text/plain": [
       "False"
      ]
     },
     "execution_count": 18,
     "metadata": {},
     "output_type": "execute_result"
    }
   ],
   "source": [
    "c<=d"
   ]
  },
  {
   "cell_type": "code",
   "execution_count": null,
   "id": "0cfbf6b6",
   "metadata": {},
   "outputs": [],
   "source": []
  },
  {
   "cell_type": "markdown",
   "id": "4a7cddec",
   "metadata": {},
   "source": [
    "PYTHON LOGICAL OPERATOR"
   ]
  },
  {
   "cell_type": "markdown",
   "id": "93fbc638",
   "metadata": {},
   "source": [
    "Logical operators are used to check whether an expression is true or false ('and','or','not')"
   ]
  },
  {
   "cell_type": "code",
   "execution_count": 20,
   "id": "b3400a6c",
   "metadata": {},
   "outputs": [],
   "source": [
    "a=23\n",
    "b=23"
   ]
  },
  {
   "cell_type": "code",
   "execution_count": 21,
   "id": "df1da9ae",
   "metadata": {},
   "outputs": [
    {
     "name": "stdout",
     "output_type": "stream",
     "text": [
      "False\n"
     ]
    }
   ],
   "source": [
    "print(a==b and a!=b)"
   ]
  },
  {
   "cell_type": "code",
   "execution_count": 22,
   "id": "7e5dce51",
   "metadata": {},
   "outputs": [
    {
     "name": "stdout",
     "output_type": "stream",
     "text": [
      "True\n"
     ]
    }
   ],
   "source": [
    "print(a==b and a==b)"
   ]
  },
  {
   "cell_type": "code",
   "execution_count": 28,
   "id": "3b828edf",
   "metadata": {},
   "outputs": [
    {
     "name": "stdout",
     "output_type": "stream",
     "text": [
      "False\n"
     ]
    }
   ],
   "source": [
    "print(a!=b and a!=b)"
   ]
  },
  {
   "cell_type": "code",
   "execution_count": 29,
   "id": "046d854d",
   "metadata": {},
   "outputs": [
    {
     "name": "stdout",
     "output_type": "stream",
     "text": [
      "False\n"
     ]
    }
   ],
   "source": [
    "print(a!=b and a==b)"
   ]
  },
  {
   "cell_type": "code",
   "execution_count": null,
   "id": "d6ce0140",
   "metadata": {},
   "outputs": [],
   "source": []
  },
  {
   "cell_type": "code",
   "execution_count": 23,
   "id": "985271e5",
   "metadata": {},
   "outputs": [
    {
     "name": "stdout",
     "output_type": "stream",
     "text": [
      "True\n"
     ]
    }
   ],
   "source": [
    "print(a==b or a==b)"
   ]
  },
  {
   "cell_type": "code",
   "execution_count": 24,
   "id": "5a91ecec",
   "metadata": {},
   "outputs": [
    {
     "name": "stdout",
     "output_type": "stream",
     "text": [
      "True\n"
     ]
    }
   ],
   "source": [
    "print(a==b or a!=b)"
   ]
  },
  {
   "cell_type": "code",
   "execution_count": 25,
   "id": "d4e0f96b",
   "metadata": {},
   "outputs": [
    {
     "name": "stdout",
     "output_type": "stream",
     "text": [
      "False\n"
     ]
    }
   ],
   "source": [
    "print(a!=b or a!=b)"
   ]
  },
  {
   "cell_type": "code",
   "execution_count": 27,
   "id": "16921131",
   "metadata": {},
   "outputs": [
    {
     "name": "stdout",
     "output_type": "stream",
     "text": [
      "True\n"
     ]
    }
   ],
   "source": [
    "print(a!=b or a==b)"
   ]
  },
  {
   "cell_type": "code",
   "execution_count": null,
   "id": "dff39501",
   "metadata": {},
   "outputs": [],
   "source": []
  },
  {
   "cell_type": "code",
   "execution_count": 33,
   "id": "4963ca39",
   "metadata": {},
   "outputs": [
    {
     "name": "stdout",
     "output_type": "stream",
     "text": [
      "False\n"
     ]
    }
   ],
   "source": [
    "print(not a==b)"
   ]
  },
  {
   "cell_type": "code",
   "execution_count": 34,
   "id": "16dff2e7",
   "metadata": {},
   "outputs": [
    {
     "name": "stdout",
     "output_type": "stream",
     "text": [
      "True\n"
     ]
    }
   ],
   "source": [
    "print(not a!=b)"
   ]
  },
  {
   "cell_type": "code",
   "execution_count": null,
   "id": "e18b54e9",
   "metadata": {},
   "outputs": [],
   "source": []
  },
  {
   "cell_type": "markdown",
   "id": "df3ceb7c",
   "metadata": {},
   "source": [
    "PYTHON BITWISE OPERATOR"
   ]
  },
  {
   "cell_type": "markdown",
   "id": "e5bdd33f",
   "metadata": {},
   "source": [
    "This operator is used to perform bitwise calculations (bitwise ' &  |  ~  ^  >>  <<  ')"
   ]
  },
  {
   "cell_type": "code",
   "execution_count": 35,
   "id": "6bb385c6",
   "metadata": {},
   "outputs": [
    {
     "data": {
      "text/plain": [
       "0"
      ]
     },
     "execution_count": 35,
     "metadata": {},
     "output_type": "execute_result"
    }
   ],
   "source": [
    "a=10\n",
    "b=20\n",
    "\n",
    "a&b"
   ]
  },
  {
   "cell_type": "code",
   "execution_count": 36,
   "id": "65b1614a",
   "metadata": {},
   "outputs": [
    {
     "data": {
      "text/plain": [
       "30"
      ]
     },
     "execution_count": 36,
     "metadata": {},
     "output_type": "execute_result"
    }
   ],
   "source": [
    "a|b"
   ]
  },
  {
   "cell_type": "code",
   "execution_count": 37,
   "id": "23c83f9c",
   "metadata": {},
   "outputs": [
    {
     "ename": "SyntaxError",
     "evalue": "invalid syntax (3997473547.py, line 1)",
     "output_type": "error",
     "traceback": [
      "\u001b[1;36m  File \u001b[1;32m\"C:\\Users\\23ady\\AppData\\Local\\Temp\\ipykernel_10788\\3997473547.py\"\u001b[1;36m, line \u001b[1;32m1\u001b[0m\n\u001b[1;33m    a~b\u001b[0m\n\u001b[1;37m     ^\u001b[0m\n\u001b[1;31mSyntaxError\u001b[0m\u001b[1;31m:\u001b[0m invalid syntax\n"
     ]
    }
   ],
   "source": [
    "a~b"
   ]
  },
  {
   "cell_type": "code",
   "execution_count": 38,
   "id": "63d81e5a",
   "metadata": {},
   "outputs": [
    {
     "data": {
      "text/plain": [
       "30"
      ]
     },
     "execution_count": 38,
     "metadata": {},
     "output_type": "execute_result"
    }
   ],
   "source": [
    "a^b"
   ]
  },
  {
   "cell_type": "code",
   "execution_count": 39,
   "id": "5d4cbba0",
   "metadata": {},
   "outputs": [
    {
     "data": {
      "text/plain": [
       "0"
      ]
     },
     "execution_count": 39,
     "metadata": {},
     "output_type": "execute_result"
    }
   ],
   "source": [
    "a>>b"
   ]
  },
  {
   "cell_type": "code",
   "execution_count": 40,
   "id": "a3f8647d",
   "metadata": {},
   "outputs": [
    {
     "data": {
      "text/plain": [
       "10485760"
      ]
     },
     "execution_count": 40,
     "metadata": {},
     "output_type": "execute_result"
    }
   ],
   "source": [
    "a<<b"
   ]
  },
  {
   "cell_type": "markdown",
   "id": "69a90bf8",
   "metadata": {},
   "source": [
    "PYTHON SPECIAL OPERATOR"
   ]
  },
  {
   "cell_type": "markdown",
   "id": "926f0db2",
   "metadata": {},
   "source": [
    "is and is not"
   ]
  },
  {
   "cell_type": "code",
   "execution_count": 41,
   "id": "57850af9",
   "metadata": {},
   "outputs": [],
   "source": [
    "x1=2\n",
    "y1=2\n",
    "\n",
    "x2='adya'\n",
    "y2='adya'"
   ]
  },
  {
   "cell_type": "code",
   "execution_count": 42,
   "id": "e2919ea1",
   "metadata": {},
   "outputs": [
    {
     "name": "stdout",
     "output_type": "stream",
     "text": [
      "False\n"
     ]
    }
   ],
   "source": [
    "print(x1 is x2)"
   ]
  },
  {
   "cell_type": "code",
   "execution_count": 43,
   "id": "5286fa8a",
   "metadata": {},
   "outputs": [
    {
     "name": "stdout",
     "output_type": "stream",
     "text": [
      "True\n"
     ]
    }
   ],
   "source": [
    "print(x2 is y2)"
   ]
  },
  {
   "cell_type": "code",
   "execution_count": 44,
   "id": "a9225f36",
   "metadata": {},
   "outputs": [
    {
     "name": "stdout",
     "output_type": "stream",
     "text": [
      "True\n"
     ]
    }
   ],
   "source": [
    "print(x1 is y1)"
   ]
  },
  {
   "cell_type": "code",
   "execution_count": 45,
   "id": "c8380af5",
   "metadata": {},
   "outputs": [
    {
     "name": "stdout",
     "output_type": "stream",
     "text": [
      "False\n"
     ]
    }
   ],
   "source": [
    "print(x2 is y1)"
   ]
  },
  {
   "cell_type": "code",
   "execution_count": 46,
   "id": "e50d50f7",
   "metadata": {},
   "outputs": [
    {
     "name": "stdout",
     "output_type": "stream",
     "text": [
      "True\n"
     ]
    }
   ],
   "source": [
    "print(x1 is not y2)"
   ]
  },
  {
   "cell_type": "code",
   "execution_count": 47,
   "id": "2b57daa6",
   "metadata": {},
   "outputs": [
    {
     "name": "stdout",
     "output_type": "stream",
     "text": [
      "True\n"
     ]
    }
   ],
   "source": [
    "print(x2 is not y1)"
   ]
  },
  {
   "cell_type": "code",
   "execution_count": null,
   "id": "75f64b46",
   "metadata": {},
   "outputs": [],
   "source": []
  },
  {
   "cell_type": "markdown",
   "id": "647ad4ed",
   "metadata": {},
   "source": [
    "MEMBERSHIP OPERATOR"
   ]
  },
  {
   "cell_type": "markdown",
   "id": "bfdeb34e",
   "metadata": {},
   "source": [
    "in: if value is found in sequence\n",
    "not in: if value is not found in sequence"
   ]
  },
  {
   "cell_type": "code",
   "execution_count": 48,
   "id": "b169edd0",
   "metadata": {},
   "outputs": [
    {
     "name": "stdout",
     "output_type": "stream",
     "text": [
      "True\n"
     ]
    }
   ],
   "source": [
    "x=\"my name is adya\"\n",
    "print('a' in x)"
   ]
  },
  {
   "cell_type": "code",
   "execution_count": 49,
   "id": "cd8774e9",
   "metadata": {},
   "outputs": [
    {
     "name": "stdout",
     "output_type": "stream",
     "text": [
      "True\n"
     ]
    }
   ],
   "source": [
    "print('A' not in x)"
   ]
  },
  {
   "cell_type": "code",
   "execution_count": 50,
   "id": "98fabdd4",
   "metadata": {},
   "outputs": [
    {
     "name": "stdout",
     "output_type": "stream",
     "text": [
      "False\n"
     ]
    }
   ],
   "source": [
    "print('A' in x)"
   ]
  },
  {
   "cell_type": "code",
   "execution_count": null,
   "id": "8bd1ff0d",
   "metadata": {},
   "outputs": [],
   "source": []
  },
  {
   "cell_type": "markdown",
   "id": "dfdd89de",
   "metadata": {},
   "source": [
    "# DATA STRUCTURES IN PYTHON"
   ]
  },
  {
   "cell_type": "markdown",
   "id": "30c8e25d",
   "metadata": {},
   "source": [
    "Python data structures include (i) List (ii) Tuple (iii)Set and (iv) Dictionary"
   ]
  },
  {
   "cell_type": "markdown",
   "id": "25de81d0",
   "metadata": {},
   "source": [
    "### LISTS"
   ]
  },
  {
   "cell_type": "markdown",
   "id": "b5c355d7",
   "metadata": {},
   "source": [
    "A list is an ordered collectio of data. It can be nested which means it can contain any type of object\n",
    "it can contain another list or sublist within it. It can be mutable that means we can search, add, delete,\n",
    "replace, shift and move even after a list is created. "
   ]
  },
  {
   "cell_type": "code",
   "execution_count": 1,
   "id": "a7f462f0",
   "metadata": {},
   "outputs": [
    {
     "name": "stdout",
     "output_type": "stream",
     "text": [
      "L1= [1, 2, 3, 4, 4, 5]\n"
     ]
    }
   ],
   "source": [
    "L1=[1,2,3,4,4,5]\n",
    "\n",
    "print('L1=',L1)"
   ]
  },
  {
   "cell_type": "code",
   "execution_count": 2,
   "id": "39c96a3e",
   "metadata": {},
   "outputs": [
    {
     "name": "stdout",
     "output_type": "stream",
     "text": [
      "L2= ['A', 'DC', 'FR', 'SD', 'HG', 'SE']\n"
     ]
    }
   ],
   "source": [
    "L2=['A','DC','FR','SD','HG','SE']\n",
    "\n",
    "print('L2=',L2)"
   ]
  },
  {
   "cell_type": "code",
   "execution_count": 4,
   "id": "e79cae9a",
   "metadata": {},
   "outputs": [
    {
     "name": "stdout",
     "output_type": "stream",
     "text": [
      "L3= [12, 34, 54, 'SH', 'RRFS', 'DHYGF', 6723.32, 72873.32]\n"
     ]
    }
   ],
   "source": [
    "L3=[12,34,54,'SH','RRFS','DHYGF',6723.32,72873.32]\n",
    "\n",
    "print('L3=',L3)"
   ]
  },
  {
   "cell_type": "code",
   "execution_count": null,
   "id": "093820d3",
   "metadata": {},
   "outputs": [],
   "source": []
  },
  {
   "cell_type": "markdown",
   "id": "2b845522",
   "metadata": {},
   "source": [
    "append function is used to add an object in the end of a list"
   ]
  },
  {
   "cell_type": "code",
   "execution_count": 6,
   "id": "97f879a0",
   "metadata": {},
   "outputs": [
    {
     "ename": "TypeError",
     "evalue": "list.append() takes exactly one argument (3 given)",
     "output_type": "error",
     "traceback": [
      "\u001b[1;31m---------------------------------------------------------------------------\u001b[0m",
      "\u001b[1;31mTypeError\u001b[0m                                 Traceback (most recent call last)",
      "\u001b[1;32m~\\AppData\\Local\\Temp\\ipykernel_10660\\3562487059.py\u001b[0m in \u001b[0;36m<module>\u001b[1;34m\u001b[0m\n\u001b[1;32m----> 1\u001b[1;33m \u001b[0mL2\u001b[0m\u001b[1;33m.\u001b[0m\u001b[0mappend\u001b[0m\u001b[1;33m(\u001b[0m\u001b[1;34m'DSJJ'\u001b[0m\u001b[1;33m,\u001b[0m\u001b[1;34m'YGD'\u001b[0m\u001b[1;33m,\u001b[0m\u001b[1;34m'SGDGE'\u001b[0m\u001b[1;33m)\u001b[0m\u001b[1;33m\u001b[0m\u001b[1;33m\u001b[0m\u001b[0m\n\u001b[0m",
      "\u001b[1;31mTypeError\u001b[0m: list.append() takes exactly one argument (3 given)"
     ]
    }
   ],
   "source": [
    "L2.append('DSJJ','YGD','SGDGE')"
   ]
  },
  {
   "cell_type": "code",
   "execution_count": 7,
   "id": "0aa6a0af",
   "metadata": {},
   "outputs": [
    {
     "data": {
      "text/plain": [
       "['A', 'DC', 'FR', 'SD', 'HG', 'SE', 'DYS']"
      ]
     },
     "execution_count": 7,
     "metadata": {},
     "output_type": "execute_result"
    }
   ],
   "source": [
    "L2.append('DYS')\n",
    "\n",
    "L2"
   ]
  },
  {
   "cell_type": "code",
   "execution_count": 49,
   "id": "986746d4",
   "metadata": {},
   "outputs": [
    {
     "data": {
      "text/plain": [
       "[1, 2, 3, 4, 89, 35265]"
      ]
     },
     "execution_count": 49,
     "metadata": {},
     "output_type": "execute_result"
    }
   ],
   "source": [
    "L1.append(35265)\n",
    "\n",
    "L1"
   ]
  },
  {
   "cell_type": "code",
   "execution_count": 51,
   "id": "e5ab0ba9",
   "metadata": {},
   "outputs": [
    {
     "data": {
      "text/plain": [
       "[12, 34, 54, 'SH', 'RRFS', 'DHYGF', 6723.32, 72873.32, '235', '235']"
      ]
     },
     "execution_count": 51,
     "metadata": {},
     "output_type": "execute_result"
    }
   ],
   "source": [
    "L3.append('235')\n",
    "\n",
    "L3"
   ]
  },
  {
   "cell_type": "markdown",
   "id": "e576fbd5",
   "metadata": {},
   "source": [
    "To add more than 1 object to a list we can use the extend function"
   ]
  },
  {
   "cell_type": "code",
   "execution_count": 53,
   "id": "806e376a",
   "metadata": {},
   "outputs": [
    {
     "data": {
      "text/plain": [
       "[1, 2, 3, 4, 89, 35265, 23, 445, 879]"
      ]
     },
     "execution_count": 53,
     "metadata": {},
     "output_type": "execute_result"
    }
   ],
   "source": [
    "L1.extend([23,445,879])\n",
    "\n",
    "L1"
   ]
  },
  {
   "cell_type": "code",
   "execution_count": 54,
   "id": "5ad418ec",
   "metadata": {},
   "outputs": [
    {
     "data": {
      "text/plain": [
       "['A', 'DC', 'FR', 'HG', 'SD', 'SE', 'fey', 'asfdas', 'sgdvgdg', 'sgfdqdu']"
      ]
     },
     "execution_count": 54,
     "metadata": {},
     "output_type": "execute_result"
    }
   ],
   "source": [
    "L2.extend(['asfdas','sgdvgdg','sgfdqdu'])\n",
    "\n",
    "L2"
   ]
  },
  {
   "cell_type": "code",
   "execution_count": 55,
   "id": "0ae3c085",
   "metadata": {},
   "outputs": [
    {
     "data": {
      "text/plain": [
       "[12,\n",
       " 34,\n",
       " 54,\n",
       " 'SH',\n",
       " 'RRFS',\n",
       " 'DHYGF',\n",
       " 6723.32,\n",
       " 72873.32,\n",
       " '235',\n",
       " '235',\n",
       " '32wcbb',\n",
       " 3554254,\n",
       " 8743.89]"
      ]
     },
     "execution_count": 55,
     "metadata": {},
     "output_type": "execute_result"
    }
   ],
   "source": [
    "L3.extend(['32wcbb',3554254,8743.89])\n",
    "\n",
    "L3"
   ]
  },
  {
   "cell_type": "code",
   "execution_count": null,
   "id": "34ffc4ca",
   "metadata": {},
   "outputs": [],
   "source": []
  },
  {
   "cell_type": "markdown",
   "id": "3fcbeadc",
   "metadata": {},
   "source": [
    "INDEXING"
   ]
  },
  {
   "cell_type": "code",
   "execution_count": 20,
   "id": "f851f0af",
   "metadata": {},
   "outputs": [
    {
     "data": {
      "text/plain": [
       "4"
      ]
     },
     "execution_count": 20,
     "metadata": {},
     "output_type": "execute_result"
    }
   ],
   "source": [
    "L1[4]"
   ]
  },
  {
   "cell_type": "code",
   "execution_count": 21,
   "id": "ddf33dd8",
   "metadata": {},
   "outputs": [
    {
     "data": {
      "text/plain": [
       "'HG'"
      ]
     },
     "execution_count": 21,
     "metadata": {},
     "output_type": "execute_result"
    }
   ],
   "source": [
    "L2[5]"
   ]
  },
  {
   "cell_type": "code",
   "execution_count": 8,
   "id": "2c3593ca",
   "metadata": {},
   "outputs": [
    {
     "data": {
      "text/plain": [
       "'SD'"
      ]
     },
     "execution_count": 8,
     "metadata": {},
     "output_type": "execute_result"
    }
   ],
   "source": [
    "L2[3]"
   ]
  },
  {
   "cell_type": "markdown",
   "id": "3ab57882",
   "metadata": {},
   "source": [
    "SLICING"
   ]
  },
  {
   "cell_type": "code",
   "execution_count": 22,
   "id": "4792d74b",
   "metadata": {},
   "outputs": [
    {
     "data": {
      "text/plain": [
       "['DC', 'FR', 'SD']"
      ]
     },
     "execution_count": 22,
     "metadata": {},
     "output_type": "execute_result"
    }
   ],
   "source": [
    "L2[1:4]"
   ]
  },
  {
   "cell_type": "code",
   "execution_count": 23,
   "id": "e50ba2ab",
   "metadata": {},
   "outputs": [
    {
     "data": {
      "text/plain": [
       "['A', 'DC', 'FR', 'SD', 'fey', 'HG', 'SE', 'DYS']"
      ]
     },
     "execution_count": 23,
     "metadata": {},
     "output_type": "execute_result"
    }
   ],
   "source": [
    "L2"
   ]
  },
  {
   "cell_type": "code",
   "execution_count": 24,
   "id": "8e3c852f",
   "metadata": {},
   "outputs": [
    {
     "data": {
      "text/plain": [
       "['A', 'DC', 'FR', 'SD', 'fey', 'HG', 'SE', 'DYS']"
      ]
     },
     "execution_count": 24,
     "metadata": {},
     "output_type": "execute_result"
    }
   ],
   "source": [
    "L2[0:]"
   ]
  },
  {
   "cell_type": "code",
   "execution_count": 25,
   "id": "9fbb60b6",
   "metadata": {},
   "outputs": [
    {
     "data": {
      "text/plain": [
       "['A', 'DC', 'FR', 'SD', 'fey', 'HG', 'SE']"
      ]
     },
     "execution_count": 25,
     "metadata": {},
     "output_type": "execute_result"
    }
   ],
   "source": [
    "L2[:7]"
   ]
  },
  {
   "cell_type": "code",
   "execution_count": 28,
   "id": "8f04dad7",
   "metadata": {},
   "outputs": [
    {
     "data": {
      "text/plain": [
       "['A', 'DC', 'FR', 'SD', 'fey', 'HG', 'SE']"
      ]
     },
     "execution_count": 28,
     "metadata": {},
     "output_type": "execute_result"
    }
   ],
   "source": [
    "#NEGETIVE SLICING\n",
    "\n",
    "L2[-8:-1]"
   ]
  },
  {
   "cell_type": "code",
   "execution_count": 29,
   "id": "d01dffba",
   "metadata": {},
   "outputs": [
    {
     "data": {
      "text/plain": [
       "['HG', 'SE', 'DYS']"
      ]
     },
     "execution_count": 29,
     "metadata": {},
     "output_type": "execute_result"
    }
   ],
   "source": [
    "L2[-3:]"
   ]
  },
  {
   "cell_type": "code",
   "execution_count": 30,
   "id": "9a9c2ead",
   "metadata": {},
   "outputs": [
    {
     "data": {
      "text/plain": [
       "6"
      ]
     },
     "execution_count": 30,
     "metadata": {},
     "output_type": "execute_result"
    }
   ],
   "source": [
    "len(L1)"
   ]
  },
  {
   "cell_type": "code",
   "execution_count": 31,
   "id": "e1acab04",
   "metadata": {},
   "outputs": [
    {
     "data": {
      "text/plain": [
       "8"
      ]
     },
     "execution_count": 31,
     "metadata": {},
     "output_type": "execute_result"
    }
   ],
   "source": [
    "len(L2)"
   ]
  },
  {
   "cell_type": "code",
   "execution_count": 32,
   "id": "de624e24",
   "metadata": {},
   "outputs": [
    {
     "data": {
      "text/plain": [
       "8"
      ]
     },
     "execution_count": 32,
     "metadata": {},
     "output_type": "execute_result"
    }
   ],
   "source": [
    "len(L3)"
   ]
  },
  {
   "cell_type": "code",
   "execution_count": 33,
   "id": "35bcd199",
   "metadata": {},
   "outputs": [
    {
     "data": {
      "text/plain": [
       "[1, 2, 3, 89, 4, 4]"
      ]
     },
     "execution_count": 33,
     "metadata": {},
     "output_type": "execute_result"
    }
   ],
   "source": [
    "L1[-6:]"
   ]
  },
  {
   "cell_type": "code",
   "execution_count": null,
   "id": "97f83014",
   "metadata": {},
   "outputs": [],
   "source": []
  },
  {
   "cell_type": "code",
   "execution_count": null,
   "id": "ea3539b6",
   "metadata": {},
   "outputs": [],
   "source": []
  },
  {
   "cell_type": "markdown",
   "id": "958061f1",
   "metadata": {},
   "source": [
    "to add any object at a specific location we need to use insert function"
   ]
  },
  {
   "cell_type": "code",
   "execution_count": 10,
   "id": "6e8d99f3",
   "metadata": {},
   "outputs": [
    {
     "data": {
      "text/plain": [
       "['A', 'DC', 'FR', 'SD', 'fey', 'HG', 'SE', 'DYS']"
      ]
     },
     "execution_count": 10,
     "metadata": {},
     "output_type": "execute_result"
    }
   ],
   "source": [
    "L2.insert(4,'fey')\n",
    "\n",
    "L2"
   ]
  },
  {
   "cell_type": "code",
   "execution_count": 12,
   "id": "6fd76bed",
   "metadata": {},
   "outputs": [
    {
     "data": {
      "text/plain": [
       "[1, 2, 3, 89, 89, 4, 4, 5]"
      ]
     },
     "execution_count": 12,
     "metadata": {},
     "output_type": "execute_result"
    }
   ],
   "source": [
    "L1.insert(3,89)\n",
    "\n",
    "L1"
   ]
  },
  {
   "cell_type": "code",
   "execution_count": 13,
   "id": "f6551db4",
   "metadata": {},
   "outputs": [
    {
     "ename": "TypeError",
     "evalue": "insert expected 2 arguments, got 4",
     "output_type": "error",
     "traceback": [
      "\u001b[1;31m---------------------------------------------------------------------------\u001b[0m",
      "\u001b[1;31mTypeError\u001b[0m                                 Traceback (most recent call last)",
      "\u001b[1;32m~\\AppData\\Local\\Temp\\ipykernel_10660\\3191536759.py\u001b[0m in \u001b[0;36m<module>\u001b[1;34m\u001b[0m\n\u001b[1;32m----> 1\u001b[1;33m \u001b[0mL3\u001b[0m\u001b[1;33m.\u001b[0m\u001b[0minsert\u001b[0m\u001b[1;33m(\u001b[0m\u001b[1;36m6\u001b[0m\u001b[1;33m,\u001b[0m\u001b[1;34m'sdbbd'\u001b[0m\u001b[1;33m,\u001b[0m\u001b[1;36m7\u001b[0m\u001b[1;33m,\u001b[0m\u001b[1;36m78347.27\u001b[0m\u001b[1;33m)\u001b[0m\u001b[1;33m\u001b[0m\u001b[1;33m\u001b[0m\u001b[0m\n\u001b[0m",
      "\u001b[1;31mTypeError\u001b[0m: insert expected 2 arguments, got 4"
     ]
    }
   ],
   "source": [
    "L3.insert(6,'sdbbd',7,78347.27)"
   ]
  },
  {
   "cell_type": "code",
   "execution_count": 14,
   "id": "981fdcb9",
   "metadata": {},
   "outputs": [
    {
     "ename": "TypeError",
     "evalue": "'str' object cannot be interpreted as an integer",
     "output_type": "error",
     "traceback": [
      "\u001b[1;31m---------------------------------------------------------------------------\u001b[0m",
      "\u001b[1;31mTypeError\u001b[0m                                 Traceback (most recent call last)",
      "\u001b[1;32m~\\AppData\\Local\\Temp\\ipykernel_10660\\1518816678.py\u001b[0m in \u001b[0;36m<module>\u001b[1;34m\u001b[0m\n\u001b[1;32m----> 1\u001b[1;33m \u001b[0mL3\u001b[0m\u001b[1;33m.\u001b[0m\u001b[0minsert\u001b[0m\u001b[1;33m(\u001b[0m\u001b[1;34m'dfsjehd'\u001b[0m\u001b[1;33m,\u001b[0m\u001b[1;36m878.33\u001b[0m\u001b[1;33m)\u001b[0m\u001b[1;33m\u001b[0m\u001b[1;33m\u001b[0m\u001b[0m\n\u001b[0m",
      "\u001b[1;31mTypeError\u001b[0m: 'str' object cannot be interpreted as an integer"
     ]
    }
   ],
   "source": [
    "L3.insert('dfsjehd',878.33)"
   ]
  },
  {
   "cell_type": "code",
   "execution_count": 15,
   "id": "eff6e7da",
   "metadata": {},
   "outputs": [
    {
     "data": {
      "text/plain": [
       "[1, 2, 3, 89, 89, 4, 4, 5]"
      ]
     },
     "execution_count": 15,
     "metadata": {},
     "output_type": "execute_result"
    }
   ],
   "source": [
    "L1"
   ]
  },
  {
   "cell_type": "code",
   "execution_count": 16,
   "id": "fb921d32",
   "metadata": {},
   "outputs": [
    {
     "ename": "AttributeError",
     "evalue": "'list' object has no attribute 'add'",
     "output_type": "error",
     "traceback": [
      "\u001b[1;31m---------------------------------------------------------------------------\u001b[0m",
      "\u001b[1;31mAttributeError\u001b[0m                            Traceback (most recent call last)",
      "\u001b[1;32m~\\AppData\\Local\\Temp\\ipykernel_10660\\345339831.py\u001b[0m in \u001b[0;36m<module>\u001b[1;34m\u001b[0m\n\u001b[1;32m----> 1\u001b[1;33m \u001b[0mL1\u001b[0m\u001b[1;33m.\u001b[0m\u001b[0madd\u001b[0m\u001b[1;33m(\u001b[0m\u001b[1;36m78.32\u001b[0m\u001b[1;33m,\u001b[0m\u001b[1;36m98\u001b[0m\u001b[1;33m,\u001b[0m\u001b[1;36m34\u001b[0m\u001b[1;33m)\u001b[0m\u001b[1;33m\u001b[0m\u001b[1;33m\u001b[0m\u001b[0m\n\u001b[0m",
      "\u001b[1;31mAttributeError\u001b[0m: 'list' object has no attribute 'add'"
     ]
    }
   ],
   "source": [
    "L1.add(78.32,98,34)"
   ]
  },
  {
   "cell_type": "code",
   "execution_count": 17,
   "id": "edb9fd62",
   "metadata": {},
   "outputs": [
    {
     "data": {
      "text/plain": [
       "5"
      ]
     },
     "execution_count": 17,
     "metadata": {},
     "output_type": "execute_result"
    }
   ],
   "source": [
    "L1.pop()"
   ]
  },
  {
   "cell_type": "code",
   "execution_count": 18,
   "id": "38e75802",
   "metadata": {},
   "outputs": [
    {
     "data": {
      "text/plain": [
       "[1, 2, 3, 89, 89, 4, 4]"
      ]
     },
     "execution_count": 18,
     "metadata": {},
     "output_type": "execute_result"
    }
   ],
   "source": [
    "L1"
   ]
  },
  {
   "cell_type": "code",
   "execution_count": 19,
   "id": "df1c9b3c",
   "metadata": {},
   "outputs": [
    {
     "data": {
      "text/plain": [
       "89"
      ]
     },
     "execution_count": 19,
     "metadata": {},
     "output_type": "execute_result"
    }
   ],
   "source": [
    "L1.pop(4)"
   ]
  },
  {
   "cell_type": "markdown",
   "id": "213917ee",
   "metadata": {},
   "source": [
    "pop function can be used it self to pop/delete an element from the end or can be used with index no to delete from the specific index"
   ]
  },
  {
   "cell_type": "code",
   "execution_count": 35,
   "id": "69bc2754",
   "metadata": {},
   "outputs": [
    {
     "name": "stdout",
     "output_type": "stream",
     "text": [
      "[1, 2, 3, 89, 4, 4]\n",
      "['A', 'DC', 'FR', 'SD', 'fey', 'HG', 'SE', 'DYS']\n",
      "[12, 34, 54, 'SH', 'RRFS', 'DHYGF', 6723.32, 72873.32]\n"
     ]
    }
   ],
   "source": [
    "print(L1)\n",
    "print(L2)\n",
    "print(L3)"
   ]
  },
  {
   "cell_type": "code",
   "execution_count": 36,
   "id": "415db326",
   "metadata": {},
   "outputs": [
    {
     "data": {
      "text/plain": [
       "4"
      ]
     },
     "execution_count": 36,
     "metadata": {},
     "output_type": "execute_result"
    }
   ],
   "source": [
    "L3.index('RRFS')"
   ]
  },
  {
   "cell_type": "code",
   "execution_count": 37,
   "id": "423d2e1c",
   "metadata": {},
   "outputs": [
    {
     "data": {
      "text/plain": [
       "6"
      ]
     },
     "execution_count": 37,
     "metadata": {},
     "output_type": "execute_result"
    }
   ],
   "source": [
    "L3.index(6723.32)"
   ]
  },
  {
   "cell_type": "code",
   "execution_count": 38,
   "id": "13f8ec2f",
   "metadata": {},
   "outputs": [
    {
     "data": {
      "text/plain": [
       "2"
      ]
     },
     "execution_count": 38,
     "metadata": {},
     "output_type": "execute_result"
    }
   ],
   "source": [
    "L2.index('FR')"
   ]
  },
  {
   "cell_type": "code",
   "execution_count": 39,
   "id": "252413b7",
   "metadata": {},
   "outputs": [
    {
     "data": {
      "text/plain": [
       "4"
      ]
     },
     "execution_count": 39,
     "metadata": {},
     "output_type": "execute_result"
    }
   ],
   "source": [
    "L2.index('fey')"
   ]
  },
  {
   "cell_type": "code",
   "execution_count": 40,
   "id": "8b87d639",
   "metadata": {},
   "outputs": [],
   "source": [
    "L2.sort()           #Sort function will sort all the obejcts alphabetically/from ascending to descending"
   ]
  },
  {
   "cell_type": "code",
   "execution_count": 41,
   "id": "9c189764",
   "metadata": {},
   "outputs": [
    {
     "data": {
      "text/plain": [
       "['A', 'DC', 'DYS', 'FR', 'HG', 'SD', 'SE', 'fey']"
      ]
     },
     "execution_count": 41,
     "metadata": {},
     "output_type": "execute_result"
    }
   ],
   "source": [
    "L2"
   ]
  },
  {
   "cell_type": "code",
   "execution_count": 42,
   "id": "cd46eef7",
   "metadata": {},
   "outputs": [
    {
     "ename": "TypeError",
     "evalue": "'<' not supported between instances of 'str' and 'int'",
     "output_type": "error",
     "traceback": [
      "\u001b[1;31m---------------------------------------------------------------------------\u001b[0m",
      "\u001b[1;31mTypeError\u001b[0m                                 Traceback (most recent call last)",
      "\u001b[1;32m~\\AppData\\Local\\Temp\\ipykernel_10660\\2793088132.py\u001b[0m in \u001b[0;36m<module>\u001b[1;34m\u001b[0m\n\u001b[1;32m----> 1\u001b[1;33m \u001b[0mL3\u001b[0m\u001b[1;33m.\u001b[0m\u001b[0msort\u001b[0m\u001b[1;33m(\u001b[0m\u001b[1;33m)\u001b[0m\u001b[1;33m\u001b[0m\u001b[1;33m\u001b[0m\u001b[0m\n\u001b[0m",
      "\u001b[1;31mTypeError\u001b[0m: '<' not supported between instances of 'str' and 'int'"
     ]
    }
   ],
   "source": [
    "L3.sort()"
   ]
  },
  {
   "cell_type": "code",
   "execution_count": 43,
   "id": "4cb45540",
   "metadata": {},
   "outputs": [],
   "source": [
    "L1.sort()"
   ]
  },
  {
   "cell_type": "code",
   "execution_count": 44,
   "id": "36ee9cc9",
   "metadata": {},
   "outputs": [
    {
     "data": {
      "text/plain": [
       "[1, 2, 3, 4, 4, 89]"
      ]
     },
     "execution_count": 44,
     "metadata": {},
     "output_type": "execute_result"
    }
   ],
   "source": [
    "L1"
   ]
  },
  {
   "cell_type": "code",
   "execution_count": 45,
   "id": "d8f1c94c",
   "metadata": {},
   "outputs": [],
   "source": [
    "L1.remove(4)"
   ]
  },
  {
   "cell_type": "code",
   "execution_count": 46,
   "id": "d08c1db6",
   "metadata": {},
   "outputs": [
    {
     "data": {
      "text/plain": [
       "[1, 2, 3, 4, 89]"
      ]
     },
     "execution_count": 46,
     "metadata": {},
     "output_type": "execute_result"
    }
   ],
   "source": [
    "L1"
   ]
  },
  {
   "cell_type": "code",
   "execution_count": 47,
   "id": "02bf876d",
   "metadata": {},
   "outputs": [],
   "source": [
    "L2.remove('DYS')"
   ]
  },
  {
   "cell_type": "code",
   "execution_count": 48,
   "id": "c0c5bf1b",
   "metadata": {},
   "outputs": [
    {
     "data": {
      "text/plain": [
       "['A', 'DC', 'FR', 'HG', 'SD', 'SE', 'fey']"
      ]
     },
     "execution_count": 48,
     "metadata": {},
     "output_type": "execute_result"
    }
   ],
   "source": [
    "L2"
   ]
  },
  {
   "cell_type": "code",
   "execution_count": 56,
   "id": "8f31a029",
   "metadata": {},
   "outputs": [
    {
     "name": "stdout",
     "output_type": "stream",
     "text": [
      "[1, 2, 3, 4, 89, 35265, 23, 445, 879]\n",
      "['A', 'DC', 'FR', 'HG', 'SD', 'SE', 'fey', 'asfdas', 'sgdvgdg', 'sgfdqdu']\n",
      "[12, 34, 54, 'SH', 'RRFS', 'DHYGF', 6723.32, 72873.32, '235', '235', '32wcbb', 3554254, 8743.89]\n"
     ]
    }
   ],
   "source": [
    "print(L1)\n",
    "print(L2)\n",
    "print(L3)"
   ]
  },
  {
   "cell_type": "code",
   "execution_count": null,
   "id": "69bec3b9",
   "metadata": {},
   "outputs": [],
   "source": []
  },
  {
   "cell_type": "markdown",
   "id": "43d14718",
   "metadata": {},
   "source": [
    "to reverse the order of a list we can use the reverse function"
   ]
  },
  {
   "cell_type": "code",
   "execution_count": 57,
   "id": "40daa09f",
   "metadata": {},
   "outputs": [
    {
     "data": {
      "text/plain": [
       "[8743.89,\n",
       " 3554254,\n",
       " '32wcbb',\n",
       " '235',\n",
       " '235',\n",
       " 72873.32,\n",
       " 6723.32,\n",
       " 'DHYGF',\n",
       " 'RRFS',\n",
       " 'SH',\n",
       " 54,\n",
       " 34,\n",
       " 12]"
      ]
     },
     "execution_count": 57,
     "metadata": {},
     "output_type": "execute_result"
    }
   ],
   "source": [
    "L3.reverse()\n",
    "\n",
    "L3"
   ]
  },
  {
   "cell_type": "code",
   "execution_count": 58,
   "id": "0af31398",
   "metadata": {},
   "outputs": [
    {
     "data": {
      "text/plain": [
       "['sgfdqdu', 'sgdvgdg', 'asfdas', 'fey', 'SE', 'SD', 'HG', 'FR', 'DC', 'A']"
      ]
     },
     "execution_count": 58,
     "metadata": {},
     "output_type": "execute_result"
    }
   ],
   "source": [
    "L2.reverse()\n",
    "\n",
    "L2"
   ]
  },
  {
   "cell_type": "code",
   "execution_count": 60,
   "id": "de08c022",
   "metadata": {},
   "outputs": [
    {
     "data": {
      "text/plain": [
       "[1, 2, 3, 4, 89, 35265, 23, 445, 879]"
      ]
     },
     "execution_count": 60,
     "metadata": {},
     "output_type": "execute_result"
    }
   ],
   "source": [
    "L1.reverse()\n",
    "\n",
    "L1"
   ]
  },
  {
   "cell_type": "code",
   "execution_count": 61,
   "id": "1531c646",
   "metadata": {},
   "outputs": [],
   "source": [
    "L1.clear()"
   ]
  },
  {
   "cell_type": "code",
   "execution_count": 62,
   "id": "1b653ef4",
   "metadata": {},
   "outputs": [
    {
     "data": {
      "text/plain": [
       "[]"
      ]
     },
     "execution_count": 62,
     "metadata": {},
     "output_type": "execute_result"
    }
   ],
   "source": [
    "L1          #It will clear all the content of the \n",
    "            #list but the empty list will be there  "
   ]
  },
  {
   "cell_type": "code",
   "execution_count": 63,
   "id": "8acf660f",
   "metadata": {},
   "outputs": [
    {
     "ename": "NameError",
     "evalue": "name 'L1' is not defined",
     "output_type": "error",
     "traceback": [
      "\u001b[1;31m---------------------------------------------------------------------------\u001b[0m",
      "\u001b[1;31mNameError\u001b[0m                                 Traceback (most recent call last)",
      "\u001b[1;32m~\\AppData\\Local\\Temp\\ipykernel_10660\\103968256.py\u001b[0m in \u001b[0;36m<module>\u001b[1;34m\u001b[0m\n\u001b[0;32m      1\u001b[0m \u001b[1;32mdel\u001b[0m \u001b[0mL1\u001b[0m\u001b[1;33m\u001b[0m\u001b[1;33m\u001b[0m\u001b[0m\n\u001b[0;32m      2\u001b[0m \u001b[1;33m\u001b[0m\u001b[0m\n\u001b[1;32m----> 3\u001b[1;33m \u001b[0mL1\u001b[0m\u001b[1;33m\u001b[0m\u001b[1;33m\u001b[0m\u001b[0m\n\u001b[0m",
      "\u001b[1;31mNameError\u001b[0m: name 'L1' is not defined"
     ]
    }
   ],
   "source": [
    "del L1     #del function will delete the whole list\n",
    "\n",
    "L1"
   ]
  },
  {
   "cell_type": "markdown",
   "id": "a991472f",
   "metadata": {},
   "source": [
    "### TUPLES"
   ]
  },
  {
   "cell_type": "markdown",
   "id": "5f98df4d",
   "metadata": {},
   "source": [
    "A tuple is also an ordered collection of objects. Tuples are sequened like list and are unmutable that means it cannot be changes once created"
   ]
  },
  {
   "cell_type": "code",
   "execution_count": 64,
   "id": "16a026e2",
   "metadata": {},
   "outputs": [
    {
     "name": "stdout",
     "output_type": "stream",
     "text": [
      "tup1= (1, 23, 4, 556, 8, 97)\n"
     ]
    }
   ],
   "source": [
    "tup1=(1,23,4,556,8,97)\n",
    "\n",
    "print('tup1=',tup1)"
   ]
  },
  {
   "cell_type": "code",
   "execution_count": 65,
   "id": "e507beee",
   "metadata": {},
   "outputs": [
    {
     "data": {
      "text/plain": [
       "556"
      ]
     },
     "execution_count": 65,
     "metadata": {},
     "output_type": "execute_result"
    }
   ],
   "source": [
    "tup1[3]"
   ]
  },
  {
   "cell_type": "code",
   "execution_count": 66,
   "id": "03103160",
   "metadata": {},
   "outputs": [
    {
     "data": {
      "text/plain": [
       "(1, 23, 4)"
      ]
     },
     "execution_count": 66,
     "metadata": {},
     "output_type": "execute_result"
    }
   ],
   "source": [
    "tup1[0:3]"
   ]
  },
  {
   "cell_type": "code",
   "execution_count": 67,
   "id": "cd8d8a58",
   "metadata": {},
   "outputs": [
    {
     "data": {
      "text/plain": [
       "(1, 23, 4, 556)"
      ]
     },
     "execution_count": 67,
     "metadata": {},
     "output_type": "execute_result"
    }
   ],
   "source": [
    "tup1[-6:-2]"
   ]
  },
  {
   "cell_type": "code",
   "execution_count": 68,
   "id": "72a68b2c",
   "metadata": {},
   "outputs": [
    {
     "ename": "AttributeError",
     "evalue": "'tuple' object has no attribute 'append'",
     "output_type": "error",
     "traceback": [
      "\u001b[1;31m---------------------------------------------------------------------------\u001b[0m",
      "\u001b[1;31mAttributeError\u001b[0m                            Traceback (most recent call last)",
      "\u001b[1;32m~\\AppData\\Local\\Temp\\ipykernel_10660\\2640900610.py\u001b[0m in \u001b[0;36m<module>\u001b[1;34m\u001b[0m\n\u001b[1;32m----> 1\u001b[1;33m \u001b[0mtup1\u001b[0m\u001b[1;33m.\u001b[0m\u001b[0mappend\u001b[0m\u001b[1;33m(\u001b[0m\u001b[1;36m32\u001b[0m\u001b[1;33m)\u001b[0m\u001b[1;33m\u001b[0m\u001b[1;33m\u001b[0m\u001b[0m\n\u001b[0m",
      "\u001b[1;31mAttributeError\u001b[0m: 'tuple' object has no attribute 'append'"
     ]
    }
   ],
   "source": [
    "tup1.append(32)"
   ]
  },
  {
   "cell_type": "code",
   "execution_count": 69,
   "id": "3a7cafef",
   "metadata": {},
   "outputs": [
    {
     "ename": "AttributeError",
     "evalue": "'tuple' object has no attribute 'clear'",
     "output_type": "error",
     "traceback": [
      "\u001b[1;31m---------------------------------------------------------------------------\u001b[0m",
      "\u001b[1;31mAttributeError\u001b[0m                            Traceback (most recent call last)",
      "\u001b[1;32m~\\AppData\\Local\\Temp\\ipykernel_10660\\3552314971.py\u001b[0m in \u001b[0;36m<module>\u001b[1;34m\u001b[0m\n\u001b[1;32m----> 1\u001b[1;33m \u001b[0mtup1\u001b[0m\u001b[1;33m.\u001b[0m\u001b[0mclear\u001b[0m\u001b[1;33m(\u001b[0m\u001b[1;33m)\u001b[0m\u001b[1;33m\u001b[0m\u001b[1;33m\u001b[0m\u001b[0m\n\u001b[0m",
      "\u001b[1;31mAttributeError\u001b[0m: 'tuple' object has no attribute 'clear'"
     ]
    }
   ],
   "source": [
    "tup1.clear()"
   ]
  },
  {
   "cell_type": "code",
   "execution_count": 70,
   "id": "b8a94cc5",
   "metadata": {},
   "outputs": [
    {
     "data": {
      "text/plain": [
       "3"
      ]
     },
     "execution_count": 70,
     "metadata": {},
     "output_type": "execute_result"
    }
   ],
   "source": [
    "tup1.index(556)"
   ]
  },
  {
   "cell_type": "code",
   "execution_count": 72,
   "id": "0dbd68f6",
   "metadata": {},
   "outputs": [],
   "source": [
    "tup2=('ds','er','rt4e','wqe3qr','d5eed',643)"
   ]
  },
  {
   "cell_type": "code",
   "execution_count": 73,
   "id": "2974d71f",
   "metadata": {},
   "outputs": [
    {
     "data": {
      "text/plain": [
       "('ds', 'er', 'rt4e', 'wqe3qr', 'd5eed', 643)"
      ]
     },
     "execution_count": 73,
     "metadata": {},
     "output_type": "execute_result"
    }
   ],
   "source": [
    "tup2"
   ]
  },
  {
   "cell_type": "code",
   "execution_count": 74,
   "id": "81e9884c",
   "metadata": {},
   "outputs": [
    {
     "data": {
      "text/plain": [
       "(2, 34, 55, 3, 2, 3, 56, 753, 76534, 3)"
      ]
     },
     "execution_count": 74,
     "metadata": {},
     "output_type": "execute_result"
    }
   ],
   "source": [
    "tup3=(2,34,55,3,2,3,56,753,76534,3)\n",
    "\n",
    "tup3"
   ]
  },
  {
   "cell_type": "code",
   "execution_count": 76,
   "id": "feae2cbf",
   "metadata": {},
   "outputs": [
    {
     "data": {
      "text/plain": [
       "3"
      ]
     },
     "execution_count": 76,
     "metadata": {},
     "output_type": "execute_result"
    }
   ],
   "source": [
    "tup3.count(3)"
   ]
  },
  {
   "cell_type": "code",
   "execution_count": 77,
   "id": "4d52f476",
   "metadata": {},
   "outputs": [
    {
     "ename": "TypeError",
     "evalue": "'tuple' object does not support item assignment",
     "output_type": "error",
     "traceback": [
      "\u001b[1;31m---------------------------------------------------------------------------\u001b[0m",
      "\u001b[1;31mTypeError\u001b[0m                                 Traceback (most recent call last)",
      "\u001b[1;32m~\\AppData\\Local\\Temp\\ipykernel_10660\\3999343125.py\u001b[0m in \u001b[0;36m<module>\u001b[1;34m\u001b[0m\n\u001b[1;32m----> 1\u001b[1;33m \u001b[0mtup3\u001b[0m\u001b[1;33m[\u001b[0m\u001b[1;36m3\u001b[0m\u001b[1;33m]\u001b[0m\u001b[1;33m=\u001b[0m\u001b[1;36m265\u001b[0m\u001b[1;33m\u001b[0m\u001b[1;33m\u001b[0m\u001b[0m\n\u001b[0m",
      "\u001b[1;31mTypeError\u001b[0m: 'tuple' object does not support item assignment"
     ]
    }
   ],
   "source": [
    "tup3[3]=265"
   ]
  },
  {
   "cell_type": "markdown",
   "id": "2776ca6a",
   "metadata": {},
   "source": [
    "### DICTIONARIES"
   ]
  },
  {
   "cell_type": "markdown",
   "id": "1a46636a",
   "metadata": {},
   "source": [
    "In python a dictionary is a set of {key:value} pair where the key is unique. A dictionary is an unordered collection. List and dictionary objects are mutable"
   ]
  },
  {
   "cell_type": "code",
   "execution_count": 79,
   "id": "3869233f",
   "metadata": {},
   "outputs": [
    {
     "data": {
      "text/plain": [
       "{'Name': 'RAM', 'Age': 24, 'Salary': 50000}"
      ]
     },
     "execution_count": 79,
     "metadata": {},
     "output_type": "execute_result"
    }
   ],
   "source": [
    "dict={'Name':'RAM','Age':24,'Salary':50000}\n",
    "\n",
    "dict"
   ]
  },
  {
   "cell_type": "code",
   "execution_count": 82,
   "id": "72ab6cfa",
   "metadata": {},
   "outputs": [
    {
     "data": {
      "text/plain": [
       "{'Name': 'RAM', 'Age': 24, 'Salary': 50000, 'height': 6}"
      ]
     },
     "execution_count": 82,
     "metadata": {},
     "output_type": "execute_result"
    }
   ],
   "source": [
    "dict['height']=6\n",
    "\n",
    "dict"
   ]
  },
  {
   "cell_type": "code",
   "execution_count": 83,
   "id": "659dce9f",
   "metadata": {},
   "outputs": [
    {
     "data": {
      "text/plain": [
       "24"
      ]
     },
     "execution_count": 83,
     "metadata": {},
     "output_type": "execute_result"
    }
   ],
   "source": [
    "dict['Age']"
   ]
  },
  {
   "cell_type": "code",
   "execution_count": 84,
   "id": "bff45c2c",
   "metadata": {},
   "outputs": [
    {
     "data": {
      "text/plain": [
       "'RAM'"
      ]
     },
     "execution_count": 84,
     "metadata": {},
     "output_type": "execute_result"
    }
   ],
   "source": [
    "dict['Name']"
   ]
  },
  {
   "cell_type": "code",
   "execution_count": 85,
   "id": "8482e406",
   "metadata": {},
   "outputs": [
    {
     "data": {
      "text/plain": [
       "50000"
      ]
     },
     "execution_count": 85,
     "metadata": {},
     "output_type": "execute_result"
    }
   ],
   "source": [
    "dict['Salary']"
   ]
  },
  {
   "cell_type": "code",
   "execution_count": 86,
   "id": "cfbe40d7",
   "metadata": {},
   "outputs": [],
   "source": [
    "del dict['height']"
   ]
  },
  {
   "cell_type": "code",
   "execution_count": 87,
   "id": "f6ea9fb7",
   "metadata": {},
   "outputs": [
    {
     "data": {
      "text/plain": [
       "{'Name': 'RAM', 'Age': 24, 'Salary': 50000}"
      ]
     },
     "execution_count": 87,
     "metadata": {},
     "output_type": "execute_result"
    }
   ],
   "source": [
    "dict"
   ]
  },
  {
   "cell_type": "code",
   "execution_count": 88,
   "id": "52e5f982",
   "metadata": {},
   "outputs": [
    {
     "ename": "NameError",
     "evalue": "name 'keys' is not defined",
     "output_type": "error",
     "traceback": [
      "\u001b[1;31m---------------------------------------------------------------------------\u001b[0m",
      "\u001b[1;31mNameError\u001b[0m                                 Traceback (most recent call last)",
      "\u001b[1;32m~\\AppData\\Local\\Temp\\ipykernel_10660\\2807312733.py\u001b[0m in \u001b[0;36m<module>\u001b[1;34m\u001b[0m\n\u001b[1;32m----> 1\u001b[1;33m \u001b[0mdict\u001b[0m\u001b[1;33m(\u001b[0m\u001b[0mkeys\u001b[0m\u001b[1;33m)\u001b[0m\u001b[1;33m\u001b[0m\u001b[1;33m\u001b[0m\u001b[0m\n\u001b[0m",
      "\u001b[1;31mNameError\u001b[0m: name 'keys' is not defined"
     ]
    }
   ],
   "source": [
    "dict(keys)"
   ]
  },
  {
   "cell_type": "code",
   "execution_count": 89,
   "id": "44498620",
   "metadata": {},
   "outputs": [
    {
     "data": {
      "text/plain": [
       "['Name', 'Age', 'Salary']"
      ]
     },
     "execution_count": 89,
     "metadata": {},
     "output_type": "execute_result"
    }
   ],
   "source": [
    "list(dict)"
   ]
  },
  {
   "cell_type": "code",
   "execution_count": 90,
   "id": "3bafabbb",
   "metadata": {},
   "outputs": [
    {
     "ename": "NameError",
     "evalue": "name 'val' is not defined",
     "output_type": "error",
     "traceback": [
      "\u001b[1;31m---------------------------------------------------------------------------\u001b[0m",
      "\u001b[1;31mNameError\u001b[0m                                 Traceback (most recent call last)",
      "\u001b[1;32m~\\AppData\\Local\\Temp\\ipykernel_10660\\1337175091.py\u001b[0m in \u001b[0;36m<module>\u001b[1;34m\u001b[0m\n\u001b[1;32m----> 1\u001b[1;33m \u001b[0mval\u001b[0m\u001b[1;33m(\u001b[0m\u001b[0mdict\u001b[0m\u001b[1;33m)\u001b[0m\u001b[1;33m\u001b[0m\u001b[1;33m\u001b[0m\u001b[0m\n\u001b[0m",
      "\u001b[1;31mNameError\u001b[0m: name 'val' is not defined"
     ]
    }
   ],
   "source": [
    "val(dict)"
   ]
  },
  {
   "cell_type": "code",
   "execution_count": 92,
   "id": "820277a6",
   "metadata": {},
   "outputs": [
    {
     "data": {
      "text/plain": [
       "['Age', 'Name', 'Salary']"
      ]
     },
     "execution_count": 92,
     "metadata": {},
     "output_type": "execute_result"
    }
   ],
   "source": [
    "sorted(dict)"
   ]
  },
  {
   "cell_type": "code",
   "execution_count": 93,
   "id": "ac2b29af",
   "metadata": {},
   "outputs": [
    {
     "ename": "AttributeError",
     "evalue": "'dict' object has no attribute 'sort'",
     "output_type": "error",
     "traceback": [
      "\u001b[1;31m---------------------------------------------------------------------------\u001b[0m",
      "\u001b[1;31mAttributeError\u001b[0m                            Traceback (most recent call last)",
      "\u001b[1;32m~\\AppData\\Local\\Temp\\ipykernel_10660\\1045209575.py\u001b[0m in \u001b[0;36m<module>\u001b[1;34m\u001b[0m\n\u001b[1;32m----> 1\u001b[1;33m \u001b[0mdict\u001b[0m\u001b[1;33m.\u001b[0m\u001b[0msort\u001b[0m\u001b[1;33m(\u001b[0m\u001b[1;33m)\u001b[0m\u001b[1;33m\u001b[0m\u001b[1;33m\u001b[0m\u001b[0m\n\u001b[0m",
      "\u001b[1;31mAttributeError\u001b[0m: 'dict' object has no attribute 'sort'"
     ]
    }
   ],
   "source": [
    "dict.sort()"
   ]
  },
  {
   "cell_type": "code",
   "execution_count": 95,
   "id": "9d290015",
   "metadata": {},
   "outputs": [
    {
     "data": {
      "text/plain": [
       "False"
      ]
     },
     "execution_count": 95,
     "metadata": {},
     "output_type": "execute_result"
    }
   ],
   "source": [
    "'RAM' in dict"
   ]
  },
  {
   "cell_type": "code",
   "execution_count": 96,
   "id": "b8264147",
   "metadata": {},
   "outputs": [
    {
     "data": {
      "text/plain": [
       "True"
      ]
     },
     "execution_count": 96,
     "metadata": {},
     "output_type": "execute_result"
    }
   ],
   "source": [
    "'Name' in dict"
   ]
  },
  {
   "cell_type": "code",
   "execution_count": 97,
   "id": "b192310e",
   "metadata": {},
   "outputs": [
    {
     "data": {
      "text/plain": [
       "False"
      ]
     },
     "execution_count": 97,
     "metadata": {},
     "output_type": "execute_result"
    }
   ],
   "source": [
    "'Age' not in dict"
   ]
  },
  {
   "cell_type": "code",
   "execution_count": 109,
   "id": "35e1e070",
   "metadata": {},
   "outputs": [
    {
     "ename": "TypeError",
     "evalue": "'list' object is not callable",
     "output_type": "error",
     "traceback": [
      "\u001b[1;31m---------------------------------------------------------------------------\u001b[0m",
      "\u001b[1;31mTypeError\u001b[0m                                 Traceback (most recent call last)",
      "\u001b[1;32m~\\AppData\\Local\\Temp\\ipykernel_10660\\1693236036.py\u001b[0m in \u001b[0;36m<module>\u001b[1;34m\u001b[0m\n\u001b[1;32m----> 1\u001b[1;33m \u001b[0mdict\u001b[0m\u001b[1;33m(\u001b[0m\u001b[1;33m[\u001b[0m\u001b[1;33m(\u001b[0m\u001b[1;34m'Name'\u001b[0m\u001b[1;33m,\u001b[0m\u001b[1;34m'Anusha'\u001b[0m\u001b[1;33m)\u001b[0m\u001b[1;33m,\u001b[0m\u001b[1;33m(\u001b[0m\u001b[1;34m'Age'\u001b[0m\u001b[1;33m,\u001b[0m\u001b[1;36m14\u001b[0m\u001b[1;33m)\u001b[0m\u001b[1;33m,\u001b[0m\u001b[1;33m(\u001b[0m\u001b[1;34m'Class'\u001b[0m\u001b[1;33m,\u001b[0m\u001b[1;36m9\u001b[0m\u001b[1;33m)\u001b[0m\u001b[1;33m]\u001b[0m\u001b[1;33m)\u001b[0m\u001b[1;33m\u001b[0m\u001b[1;33m\u001b[0m\u001b[0m\n\u001b[0m\u001b[0;32m      2\u001b[0m \u001b[1;33m\u001b[0m\u001b[0m\n\u001b[0;32m      3\u001b[0m \u001b[0mdict\u001b[0m\u001b[1;33m(\u001b[0m\u001b[1;34m'Name'\u001b[0m\u001b[1;33m==\u001b[0m\u001b[0mAnusha\u001b[0m\u001b[1;33m,\u001b[0m\u001b[1;34m'Age'\u001b[0m\u001b[1;33m==\u001b[0m\u001b[1;36m15\u001b[0m\u001b[1;33m,\u001b[0m\u001b[1;34m'Class'\u001b[0m\u001b[1;33m==\u001b[0m\u001b[1;36m9\u001b[0m\u001b[1;33m)\u001b[0m\u001b[1;33m\u001b[0m\u001b[1;33m\u001b[0m\u001b[0m\n",
      "\u001b[1;31mTypeError\u001b[0m: 'list' object is not callable"
     ]
    }
   ],
   "source": [
    "dict([('Name','Anusha'),('Age',14),('Class',9)])\n",
    "\n",
    "dict('Name'==Anusha,'Age'==15,'Class'==9)"
   ]
  },
  {
   "cell_type": "code",
   "execution_count": 105,
   "id": "7413fe8b",
   "metadata": {},
   "outputs": [
    {
     "data": {
      "text/plain": [
       "{16: 8.0, 18: 9.0, 200: 100.0}"
      ]
     },
     "execution_count": 105,
     "metadata": {},
     "output_type": "execute_result"
    }
   ],
   "source": [
    "{x:x/2 for x in (16,18,200)}"
   ]
  },
  {
   "cell_type": "code",
   "execution_count": 106,
   "id": "a6dd9f25",
   "metadata": {},
   "outputs": [
    {
     "data": {
      "text/plain": [
       "{16: 8, 18: 9, 200: 100}"
      ]
     },
     "execution_count": 106,
     "metadata": {},
     "output_type": "execute_result"
    }
   ],
   "source": [
    "{x:x//2 for x in (16,18,200)}"
   ]
  },
  {
   "cell_type": "code",
   "execution_count": null,
   "id": "b609c273",
   "metadata": {},
   "outputs": [],
   "source": []
  },
  {
   "cell_type": "markdown",
   "id": "a3ba142c",
   "metadata": {},
   "source": [
    "### SETS"
   ]
  },
  {
   "cell_type": "markdown",
   "id": "6a9f7473",
   "metadata": {},
   "source": [
    "Sets are unordered collection of data types in python which are immutable that means once created cannot be changed. It does not allow any repetetion of elements which is its major advantage."
   ]
  },
  {
   "cell_type": "code",
   "execution_count": 1,
   "id": "2b9ec2de",
   "metadata": {},
   "outputs": [
    {
     "data": {
      "text/plain": [
       "{1, 2, 5, 6, 33, 34, 45, 66}"
      ]
     },
     "execution_count": 1,
     "metadata": {},
     "output_type": "execute_result"
    }
   ],
   "source": [
    "st={1,34,5,6,33,45,66,2,6,2}    # it do not allow repetetion of elements\n",
    "\n",
    "st"
   ]
  },
  {
   "cell_type": "code",
   "execution_count": 2,
   "id": "ce9d5c21",
   "metadata": {},
   "outputs": [
    {
     "ename": "AttributeError",
     "evalue": "'set' object has no attribute 'index'",
     "output_type": "error",
     "traceback": [
      "\u001b[1;31m---------------------------------------------------------------------------\u001b[0m",
      "\u001b[1;31mAttributeError\u001b[0m                            Traceback (most recent call last)",
      "\u001b[1;32m~\\AppData\\Local\\Temp\\ipykernel_14616\\1831383450.py\u001b[0m in \u001b[0;36m<module>\u001b[1;34m\u001b[0m\n\u001b[1;32m----> 1\u001b[1;33m \u001b[0mst\u001b[0m\u001b[1;33m.\u001b[0m\u001b[0mindex\u001b[0m\u001b[1;33m[\u001b[0m\u001b[1;36m5\u001b[0m\u001b[1;33m]\u001b[0m\u001b[1;33m\u001b[0m\u001b[1;33m\u001b[0m\u001b[0m\n\u001b[0m",
      "\u001b[1;31mAttributeError\u001b[0m: 'set' object has no attribute 'index'"
     ]
    }
   ],
   "source": [
    "st.index[5]  #set do not have indexing that is why its unordered"
   ]
  },
  {
   "cell_type": "code",
   "execution_count": 4,
   "id": "16196239",
   "metadata": {},
   "outputs": [],
   "source": [
    "st.add(45)"
   ]
  },
  {
   "cell_type": "code",
   "execution_count": 5,
   "id": "394513e4",
   "metadata": {},
   "outputs": [
    {
     "data": {
      "text/plain": [
       "{1, 2, 5, 6, 33, 34, 45, 66}"
      ]
     },
     "execution_count": 5,
     "metadata": {},
     "output_type": "execute_result"
    }
   ],
   "source": [
    "st"
   ]
  },
  {
   "cell_type": "code",
   "execution_count": 6,
   "id": "3f950277",
   "metadata": {},
   "outputs": [
    {
     "ename": "AttributeError",
     "evalue": "'set' object has no attribute 'append'",
     "output_type": "error",
     "traceback": [
      "\u001b[1;31m---------------------------------------------------------------------------\u001b[0m",
      "\u001b[1;31mAttributeError\u001b[0m                            Traceback (most recent call last)",
      "\u001b[1;32m~\\AppData\\Local\\Temp\\ipykernel_14616\\572820131.py\u001b[0m in \u001b[0;36m<module>\u001b[1;34m\u001b[0m\n\u001b[1;32m----> 1\u001b[1;33m \u001b[0mst\u001b[0m\u001b[1;33m.\u001b[0m\u001b[0mappend\u001b[0m\u001b[1;33m(\u001b[0m\u001b[1;36m25\u001b[0m\u001b[1;33m)\u001b[0m\u001b[1;33m\u001b[0m\u001b[1;33m\u001b[0m\u001b[0m\n\u001b[0m",
      "\u001b[1;31mAttributeError\u001b[0m: 'set' object has no attribute 'append'"
     ]
    }
   ],
   "source": [
    "st.append(25)"
   ]
  },
  {
   "cell_type": "code",
   "execution_count": 7,
   "id": "d961a6e0",
   "metadata": {},
   "outputs": [],
   "source": [
    "st.add(11)"
   ]
  },
  {
   "cell_type": "code",
   "execution_count": 8,
   "id": "a373f83d",
   "metadata": {},
   "outputs": [
    {
     "data": {
      "text/plain": [
       "{1, 2, 5, 6, 11, 33, 34, 45, 66}"
      ]
     },
     "execution_count": 8,
     "metadata": {},
     "output_type": "execute_result"
    }
   ],
   "source": [
    "st        #since its unordered the value can be added anywhere"
   ]
  },
  {
   "cell_type": "code",
   "execution_count": 9,
   "id": "9f4ead2b",
   "metadata": {},
   "outputs": [
    {
     "name": "stdout",
     "output_type": "stream",
     "text": [
      "{'thurs', 'mon', 'sun', 'tues'}\n"
     ]
    }
   ],
   "source": [
    "days=set(['sun','mon','tues','thurs'])   #set can be represented in this format as well\n",
    "\n",
    "print(days)"
   ]
  },
  {
   "cell_type": "code",
   "execution_count": 10,
   "id": "e457604d",
   "metadata": {},
   "outputs": [
    {
     "data": {
      "text/plain": [
       "{'fri', 'mon', 'sun', 'thurs', 'tues'}"
      ]
     },
     "execution_count": 10,
     "metadata": {},
     "output_type": "execute_result"
    }
   ],
   "source": [
    "days.add('fri')\n",
    "\n",
    "days"
   ]
  },
  {
   "cell_type": "code",
   "execution_count": 11,
   "id": "e18966b4",
   "metadata": {},
   "outputs": [
    {
     "data": {
      "text/plain": [
       "set"
      ]
     },
     "execution_count": 11,
     "metadata": {},
     "output_type": "execute_result"
    }
   ],
   "source": [
    "type(days)"
   ]
  },
  {
   "cell_type": "code",
   "execution_count": 12,
   "id": "b044cb3b",
   "metadata": {},
   "outputs": [],
   "source": [
    "days.remove('sun')"
   ]
  },
  {
   "cell_type": "code",
   "execution_count": 13,
   "id": "3c35dcb8",
   "metadata": {},
   "outputs": [
    {
     "data": {
      "text/plain": [
       "{'fri', 'mon', 'thurs', 'tues'}"
      ]
     },
     "execution_count": 13,
     "metadata": {},
     "output_type": "execute_result"
    }
   ],
   "source": [
    "days"
   ]
  },
  {
   "cell_type": "code",
   "execution_count": 14,
   "id": "5282c0e0",
   "metadata": {},
   "outputs": [
    {
     "data": {
      "text/plain": [
       "'mon'"
      ]
     },
     "execution_count": 14,
     "metadata": {},
     "output_type": "execute_result"
    }
   ],
   "source": [
    "days.pop()"
   ]
  },
  {
   "cell_type": "code",
   "execution_count": 15,
   "id": "e80e355b",
   "metadata": {},
   "outputs": [
    {
     "ename": "TypeError",
     "evalue": "set.pop() takes no arguments (1 given)",
     "output_type": "error",
     "traceback": [
      "\u001b[1;31m---------------------------------------------------------------------------\u001b[0m",
      "\u001b[1;31mTypeError\u001b[0m                                 Traceback (most recent call last)",
      "\u001b[1;32m~\\AppData\\Local\\Temp\\ipykernel_14616\\1392800871.py\u001b[0m in \u001b[0;36m<module>\u001b[1;34m\u001b[0m\n\u001b[1;32m----> 1\u001b[1;33m \u001b[0mdays\u001b[0m\u001b[1;33m.\u001b[0m\u001b[0mpop\u001b[0m\u001b[1;33m(\u001b[0m\u001b[1;36m2\u001b[0m\u001b[1;33m)\u001b[0m\u001b[1;33m\u001b[0m\u001b[1;33m\u001b[0m\u001b[0m\n\u001b[0m",
      "\u001b[1;31mTypeError\u001b[0m: set.pop() takes no arguments (1 given)"
     ]
    }
   ],
   "source": [
    "days.pop(2)"
   ]
  },
  {
   "cell_type": "code",
   "execution_count": 16,
   "id": "002f86da",
   "metadata": {},
   "outputs": [
    {
     "data": {
      "text/plain": [
       "{'fri', 'thurs', 'tues'}"
      ]
     },
     "execution_count": 16,
     "metadata": {},
     "output_type": "execute_result"
    }
   ],
   "source": [
    "days"
   ]
  },
  {
   "cell_type": "code",
   "execution_count": 17,
   "id": "8e5e2be6",
   "metadata": {},
   "outputs": [],
   "source": [
    "days.clear()"
   ]
  },
  {
   "cell_type": "code",
   "execution_count": 18,
   "id": "92eab39c",
   "metadata": {},
   "outputs": [
    {
     "data": {
      "text/plain": [
       "set()"
      ]
     },
     "execution_count": 18,
     "metadata": {},
     "output_type": "execute_result"
    }
   ],
   "source": [
    "days"
   ]
  },
  {
   "cell_type": "code",
   "execution_count": 19,
   "id": "7081e325",
   "metadata": {},
   "outputs": [],
   "source": [
    "del days"
   ]
  },
  {
   "cell_type": "code",
   "execution_count": 20,
   "id": "4f8085d4",
   "metadata": {},
   "outputs": [
    {
     "ename": "NameError",
     "evalue": "name 'days' is not defined",
     "output_type": "error",
     "traceback": [
      "\u001b[1;31m---------------------------------------------------------------------------\u001b[0m",
      "\u001b[1;31mNameError\u001b[0m                                 Traceback (most recent call last)",
      "\u001b[1;32m~\\AppData\\Local\\Temp\\ipykernel_14616\\2286027535.py\u001b[0m in \u001b[0;36m<module>\u001b[1;34m\u001b[0m\n\u001b[1;32m----> 1\u001b[1;33m \u001b[0mdays\u001b[0m\u001b[1;33m\u001b[0m\u001b[1;33m\u001b[0m\u001b[0m\n\u001b[0m",
      "\u001b[1;31mNameError\u001b[0m: name 'days' is not defined"
     ]
    }
   ],
   "source": [
    "days"
   ]
  },
  {
   "cell_type": "code",
   "execution_count": null,
   "id": "eb87f4d7",
   "metadata": {},
   "outputs": [],
   "source": []
  },
  {
   "cell_type": "code",
   "execution_count": null,
   "id": "aeb85251",
   "metadata": {},
   "outputs": [],
   "source": []
  },
  {
   "cell_type": "markdown",
   "id": "ddc51725",
   "metadata": {},
   "source": [
    "# LOOPS "
   ]
  },
  {
   "cell_type": "markdown",
   "id": "2dd915b6",
   "metadata": {},
   "source": [
    "### WHILE LOOP"
   ]
  },
  {
   "cell_type": "code",
   "execution_count": 21,
   "id": "5109c169",
   "metadata": {},
   "outputs": [
    {
     "name": "stdout",
     "output_type": "stream",
     "text": [
      "0\n",
      "1\n",
      "2\n",
      "3\n",
      "4\n",
      "5\n",
      "6\n",
      "7\n",
      "8\n",
      "9\n"
     ]
    }
   ],
   "source": [
    "#initialization\n",
    "\n",
    "i=0\n",
    "\n",
    "#condition\n",
    "while (i<10):\n",
    "    print(i)\n",
    "    i=i+1      #increment"
   ]
  },
  {
   "cell_type": "code",
   "execution_count": 24,
   "id": "324d56bc",
   "metadata": {},
   "outputs": [
    {
     "name": "stdout",
     "output_type": "stream",
     "text": [
      "i= 4\n",
      "i= 6\n",
      "i= 8\n",
      "i= 10\n",
      "i= 12\n",
      "i= 14\n",
      "i= 16\n",
      "i= 18\n",
      "i= 20\n",
      "i= 22\n",
      "i= 24\n",
      "i= 26\n",
      "i= 28\n",
      "i= 30\n",
      "i= 32\n",
      "i= 34\n",
      "i= 36\n",
      "i= 38\n"
     ]
    }
   ],
   "source": [
    "i=4\n",
    "\n",
    "while(i<40):\n",
    "    print('i=',i)\n",
    "    i=i+2"
   ]
  },
  {
   "cell_type": "code",
   "execution_count": 25,
   "id": "78db6010",
   "metadata": {},
   "outputs": [
    {
     "name": "stdout",
     "output_type": "stream",
     "text": [
      "0\n",
      "5\n",
      "10\n",
      "15\n",
      "20\n",
      "25\n",
      "30\n",
      "35\n",
      "40\n",
      "45\n",
      "50\n",
      "55\n",
      "60\n"
     ]
    }
   ],
   "source": [
    "m=0\n",
    "while(m<=60):\n",
    "    print(m)\n",
    "    m=m+5"
   ]
  },
  {
   "cell_type": "code",
   "execution_count": 31,
   "id": "92f2264b",
   "metadata": {},
   "outputs": [
    {
     "name": "stdout",
     "output_type": "stream",
     "text": [
      "enter number for table to be generated12\n",
      "0\n",
      "12\n",
      "24\n",
      "36\n",
      "48\n",
      "60\n",
      "72\n",
      "84\n",
      "96\n",
      "108\n",
      "120\n"
     ]
    }
   ],
   "source": [
    "#to generate table\n",
    "i=0\n",
    "p=int(input('enter number for table to be generated'))\n",
    "\n",
    "while(i<=10):\n",
    "    print(i*p)\n",
    "    i=i+1\n",
    "    "
   ]
  },
  {
   "cell_type": "code",
   "execution_count": 34,
   "id": "89da7cf5",
   "metadata": {},
   "outputs": [
    {
     "name": "stdout",
     "output_type": "stream",
     "text": [
      "enter number5\n",
      "5 * 0 = 0\n",
      "5 * 1 = 5\n",
      "5 * 2 = 10\n",
      "5 * 3 = 15\n",
      "5 * 4 = 20\n",
      "5 * 5 = 25\n",
      "5 * 6 = 30\n",
      "5 * 7 = 35\n",
      "5 * 8 = 40\n",
      "5 * 9 = 45\n",
      "5 * 10 = 50\n"
     ]
    }
   ],
   "source": [
    "i=0\n",
    "p=int(input('enter number'))\n",
    "\n",
    "while(i<11):\n",
    "    print(p,'*',i,'=',i*p)\n",
    "    i=i+1"
   ]
  },
  {
   "cell_type": "code",
   "execution_count": 35,
   "id": "1ed759e0",
   "metadata": {},
   "outputs": [
    {
     "name": "stdout",
     "output_type": "stream",
     "text": [
      "enter power2\n",
      "0 ** 2 = 1\n",
      "1 ** 2 = 2\n",
      "2 ** 2 = 4\n",
      "3 ** 2 = 8\n",
      "4 ** 2 = 16\n",
      "5 ** 2 = 32\n",
      "6 ** 2 = 64\n",
      "7 ** 2 = 128\n",
      "8 ** 2 = 256\n",
      "9 ** 2 = 512\n",
      "10 ** 2 = 1024\n"
     ]
    }
   ],
   "source": [
    "#to find the square of any number\n",
    "\n",
    "i=0\n",
    "p=int(input('enter power'))\n",
    "\n",
    "while(i<=10):\n",
    "    print(i,'**',p,'=',p**i)\n",
    "    i=i+1"
   ]
  },
  {
   "cell_type": "code",
   "execution_count": 36,
   "id": "1729fbdb",
   "metadata": {},
   "outputs": [
    {
     "name": "stdout",
     "output_type": "stream",
     "text": [
      "p= 0\n",
      "next\n",
      "p= 5\n",
      "next\n",
      "p= 10\n",
      "next\n",
      "p= 15\n",
      "next\n",
      "p= 20\n",
      "next\n",
      "p= 25\n",
      "next\n",
      "p= 30\n",
      "next\n",
      "p= 35\n",
      "next\n",
      "p= 40\n",
      "next\n",
      "p= 45\n",
      "next\n",
      "p= 50\n",
      "next\n",
      "p= 55\n",
      "next\n",
      "p= 60\n",
      "next\n",
      "p= 65\n",
      "next\n",
      "p= 70\n",
      "next\n",
      "p= 75\n",
      "next\n",
      "p= 80\n",
      "next\n",
      "p= 85\n",
      "next\n",
      "p= 90\n",
      "next\n",
      "p= 95\n",
      "next\n",
      "the end\n"
     ]
    }
   ],
   "source": [
    "p=0\n",
    "\n",
    "while(p<100):\n",
    "    print('p=',p)\n",
    "    print('next')\n",
    "    p=p+5\n",
    "    \n",
    "print('the end')\n"
   ]
  },
  {
   "cell_type": "code",
   "execution_count": null,
   "id": "65de9772",
   "metadata": {},
   "outputs": [],
   "source": []
  },
  {
   "cell_type": "markdown",
   "id": "f0850c57",
   "metadata": {},
   "source": [
    "### FOR LOOP"
   ]
  },
  {
   "cell_type": "code",
   "execution_count": 27,
   "id": "135bf33b",
   "metadata": {},
   "outputs": [
    {
     "name": "stdout",
     "output_type": "stream",
     "text": [
      "1\n",
      "2\n",
      "4\n",
      "5\n"
     ]
    }
   ],
   "source": [
    "for index in [1,2,4,5]:\n",
    "    print(index)\n"
   ]
  },
  {
   "cell_type": "code",
   "execution_count": 28,
   "id": "be7ad958",
   "metadata": {},
   "outputs": [
    {
     "name": "stdout",
     "output_type": "stream",
     "text": [
      "a\n",
      "b\n",
      "c\n",
      "d\n"
     ]
    }
   ],
   "source": [
    "for i in ('a','b','c','d'):\n",
    "    print(i)"
   ]
  },
  {
   "cell_type": "code",
   "execution_count": 37,
   "id": "f5ba8562",
   "metadata": {},
   "outputs": [
    {
     "name": "stdout",
     "output_type": "stream",
     "text": [
      "sun\n",
      "mon\n",
      "tues\n",
      "thurs\n",
      "fri\n"
     ]
    }
   ],
   "source": [
    "lit=['sun','mon','tues','thurs','fri']\n",
    "\n",
    "for i in lit:\n",
    "    print(i)"
   ]
  },
  {
   "cell_type": "code",
   "execution_count": null,
   "id": "f941a981",
   "metadata": {},
   "outputs": [],
   "source": []
  },
  {
   "cell_type": "markdown",
   "id": "23c6f66a",
   "metadata": {},
   "source": [
    "### RANGE"
   ]
  },
  {
   "cell_type": "code",
   "execution_count": 1,
   "id": "d5e9b355",
   "metadata": {},
   "outputs": [
    {
     "data": {
      "text/plain": [
       "range(0, 8)"
      ]
     },
     "execution_count": 1,
     "metadata": {},
     "output_type": "execute_result"
    }
   ],
   "source": [
    "range(8)"
   ]
  },
  {
   "cell_type": "code",
   "execution_count": 2,
   "id": "49e0349b",
   "metadata": {},
   "outputs": [
    {
     "data": {
      "text/plain": [
       "range(0, 7)"
      ]
     },
     "execution_count": 2,
     "metadata": {},
     "output_type": "execute_result"
    }
   ],
   "source": [
    "range(0,7)"
   ]
  },
  {
   "cell_type": "code",
   "execution_count": 3,
   "id": "d7599b36",
   "metadata": {},
   "outputs": [
    {
     "name": "stdout",
     "output_type": "stream",
     "text": [
      "range(0, 6)\n"
     ]
    }
   ],
   "source": [
    "p=range(6)\n",
    "\n",
    "print(p)"
   ]
  },
  {
   "cell_type": "code",
   "execution_count": 4,
   "id": "bc6b91d2",
   "metadata": {},
   "outputs": [
    {
     "data": {
      "text/plain": [
       "[0, 1, 2, 3, 4, 5]"
      ]
     },
     "execution_count": 4,
     "metadata": {},
     "output_type": "execute_result"
    }
   ],
   "source": [
    "list(range(6))"
   ]
  },
  {
   "cell_type": "code",
   "execution_count": 5,
   "id": "721979b5",
   "metadata": {},
   "outputs": [
    {
     "data": {
      "text/plain": [
       "range(4, 9)"
      ]
     },
     "execution_count": 5,
     "metadata": {},
     "output_type": "execute_result"
    }
   ],
   "source": [
    "range(4,9)"
   ]
  },
  {
   "cell_type": "code",
   "execution_count": 6,
   "id": "630d90b0",
   "metadata": {},
   "outputs": [
    {
     "data": {
      "text/plain": [
       "[3, 4, 5, 6, 7, 8]"
      ]
     },
     "execution_count": 6,
     "metadata": {},
     "output_type": "execute_result"
    }
   ],
   "source": [
    "list(range(3,9))"
   ]
  },
  {
   "cell_type": "code",
   "execution_count": 8,
   "id": "1ca0ea8c",
   "metadata": {},
   "outputs": [
    {
     "ename": "TypeError",
     "evalue": "'<' not supported between instances of 'range' and 'int'",
     "output_type": "error",
     "traceback": [
      "\u001b[1;31m---------------------------------------------------------------------------\u001b[0m",
      "\u001b[1;31mTypeError\u001b[0m                                 Traceback (most recent call last)",
      "\u001b[1;32m~\\AppData\\Local\\Temp\\ipykernel_17600\\1547733725.py\u001b[0m in \u001b[0;36m<module>\u001b[1;34m\u001b[0m\n\u001b[0;32m      1\u001b[0m \u001b[0mr\u001b[0m\u001b[1;33m=\u001b[0m\u001b[0mrange\u001b[0m\u001b[1;33m(\u001b[0m\u001b[1;36m2\u001b[0m\u001b[1;33m,\u001b[0m\u001b[1;36m9\u001b[0m\u001b[1;33m)\u001b[0m\u001b[1;33m\u001b[0m\u001b[1;33m\u001b[0m\u001b[0m\n\u001b[0;32m      2\u001b[0m \u001b[1;33m\u001b[0m\u001b[0m\n\u001b[1;32m----> 3\u001b[1;33m \u001b[1;32mwhile\u001b[0m\u001b[1;33m(\u001b[0m\u001b[0mr\u001b[0m\u001b[1;33m<\u001b[0m\u001b[1;36m11\u001b[0m\u001b[1;33m)\u001b[0m\u001b[1;33m:\u001b[0m\u001b[1;33m\u001b[0m\u001b[1;33m\u001b[0m\u001b[0m\n\u001b[0m\u001b[0;32m      4\u001b[0m     \u001b[0mprint\u001b[0m\u001b[1;33m(\u001b[0m\u001b[0mr\u001b[0m\u001b[1;33m)\u001b[0m\u001b[1;33m\u001b[0m\u001b[1;33m\u001b[0m\u001b[0m\n",
      "\u001b[1;31mTypeError\u001b[0m: '<' not supported between instances of 'range' and 'int'"
     ]
    }
   ],
   "source": [
    "r=range(2,9)\n",
    "\n",
    "while(r<11):\n",
    "    print(r)\n"
   ]
  },
  {
   "cell_type": "code",
   "execution_count": 9,
   "id": "af75fc78",
   "metadata": {},
   "outputs": [
    {
     "data": {
      "text/plain": [
       "[0, 1, 2, 3, 4, 5]"
      ]
     },
     "execution_count": 9,
     "metadata": {},
     "output_type": "execute_result"
    }
   ],
   "source": [
    "list(range(6))"
   ]
  },
  {
   "cell_type": "code",
   "execution_count": 10,
   "id": "870a5b44",
   "metadata": {},
   "outputs": [
    {
     "data": {
      "text/plain": [
       "[2, 7, 12, 17, 22, 27, 32, 37, 42, 47, 52, 57, 62, 67, 72, 77, 82, 87, 92, 97]"
      ]
     },
     "execution_count": 10,
     "metadata": {},
     "output_type": "execute_result"
    }
   ],
   "source": [
    "list(range(2,100,5))"
   ]
  },
  {
   "cell_type": "code",
   "execution_count": 11,
   "id": "ef01eafa",
   "metadata": {},
   "outputs": [
    {
     "name": "stdout",
     "output_type": "stream",
     "text": [
      "8\n",
      "9\n",
      "10\n",
      "11\n",
      "12\n",
      "13\n",
      "14\n",
      "15\n"
     ]
    }
   ],
   "source": [
    "range(8,16)\n",
    "\n",
    "for i in range(8,16):\n",
    "    print(i)"
   ]
  },
  {
   "cell_type": "code",
   "execution_count": 12,
   "id": "c06e1cbc",
   "metadata": {},
   "outputs": [
    {
     "name": "stdout",
     "output_type": "stream",
     "text": [
      "8\n",
      "10\n",
      "12\n",
      "14\n",
      "16\n",
      "18\n",
      "20\n",
      "22\n",
      "24\n",
      "26\n",
      "28\n",
      "30\n",
      "32\n",
      "34\n",
      "36\n",
      "38\n"
     ]
    }
   ],
   "source": [
    "range(8,40)\n",
    "\n",
    "for i in range(8,40,2):\n",
    "    print(i)"
   ]
  },
  {
   "cell_type": "code",
   "execution_count": 13,
   "id": "03c78be8",
   "metadata": {},
   "outputs": [
    {
     "name": "stdout",
     "output_type": "stream",
     "text": [
      "enter number for table geneartion15\n",
      "15 * 0 = 0\n",
      "15 * 1 = 15\n",
      "15 * 2 = 30\n",
      "15 * 3 = 45\n",
      "15 * 4 = 60\n",
      "15 * 5 = 75\n",
      "15 * 6 = 90\n",
      "15 * 7 = 105\n",
      "15 * 8 = 120\n",
      "15 * 9 = 135\n",
      "15 * 10 = 150\n"
     ]
    }
   ],
   "source": [
    "#table generation using range\n",
    "\n",
    "p=int(input(\"enter number for table geneartion\"))\n",
    "\n",
    "for i in range(11):\n",
    "    print(p,'*',i,'=',p*i)"
   ]
  },
  {
   "cell_type": "code",
   "execution_count": 21,
   "id": "3eaaa75c",
   "metadata": {},
   "outputs": [
    {
     "name": "stdout",
     "output_type": "stream",
     "text": [
      "enter power3\n",
      "0 ^ 3 = 0\n",
      "1 ^ 3 = 1\n",
      "2 ^ 3 = 8\n",
      "3 ^ 3 = 27\n",
      "4 ^ 3 = 64\n",
      "5 ^ 3 = 125\n",
      "6 ^ 3 = 216\n",
      "7 ^ 3 = 343\n",
      "8 ^ 3 = 512\n",
      "9 ^ 3 = 729\n",
      "10 ^ 3 = 1000\n",
      "11 ^ 3 = 1331\n",
      "12 ^ 3 = 1728\n",
      "13 ^ 3 = 2197\n",
      "14 ^ 3 = 2744\n"
     ]
    }
   ],
   "source": [
    "#squareroot using range\n",
    "\n",
    "p=int(input('enter power'))\n",
    "\n",
    "for i in range(15):\n",
    "    print(i,'^',p,'=',i**p)"
   ]
  },
  {
   "cell_type": "code",
   "execution_count": 20,
   "id": "4d874e0c",
   "metadata": {},
   "outputs": [
    {
     "name": "stdout",
     "output_type": "stream",
     "text": [
      "['samsung']\n",
      "['samsung', 'lg']\n",
      "['samsung', 'lg', 'sony']\n",
      "['samsung', 'lg', 'sony', 'asus']\n",
      "['samsung', 'lg', 'sony', 'asus', 'lenevo']\n",
      "['samsung', 'lg', 'sony', 'asus', 'lenevo', 'hp']\n",
      "some brand names= ['samsung', 'lg', 'sony', 'asus', 'lenevo', 'hp']\n"
     ]
    }
   ],
   "source": [
    "lst1=[]\n",
    "\n",
    "for i in ['samsung','lg','sony','asus','lenevo','hp']:\n",
    "    lst1.append(i)\n",
    "    print(lst1)\n",
    "print('some brand names=',lst1)"
   ]
  },
  {
   "cell_type": "code",
   "execution_count": null,
   "id": "3a6a9e70",
   "metadata": {},
   "outputs": [],
   "source": []
  },
  {
   "cell_type": "code",
   "execution_count": null,
   "id": "23a8e1f0",
   "metadata": {},
   "outputs": [],
   "source": []
  },
  {
   "cell_type": "markdown",
   "id": "65edf673",
   "metadata": {},
   "source": [
    "## IF CONSTRUCT"
   ]
  },
  {
   "cell_type": "code",
   "execution_count": 23,
   "id": "ef4fc12e",
   "metadata": {},
   "outputs": [
    {
     "name": "stdout",
     "output_type": "stream",
     "text": [
      "enter no to determine even or odd2346\n",
      "The given number is even\n"
     ]
    }
   ],
   "source": [
    "p=int(input('enter no to determine even or odd'))\n",
    "\n",
    "if (p%2==0):\n",
    "    print('The given number is even')\n",
    "else:\n",
    "    print('The given number is odd')"
   ]
  },
  {
   "cell_type": "code",
   "execution_count": 25,
   "id": "4b375133",
   "metadata": {},
   "outputs": [
    {
     "name": "stdout",
     "output_type": "stream",
     "text": [
      "enter no to determine odd or even828309930\n",
      "The given number is even\n"
     ]
    }
   ],
   "source": [
    "p=int(input('enter no to determine odd or even'))\n",
    "\n",
    "if (p%2!=0):\n",
    "    print('The given number is odd')\n",
    "else:\n",
    "    print('The given number is even')"
   ]
  },
  {
   "cell_type": "code",
   "execution_count": 27,
   "id": "8ccfec0b",
   "metadata": {},
   "outputs": [
    {
     "name": "stdout",
     "output_type": "stream",
     "text": [
      "enter number78\n",
      "GOOD\n"
     ]
    }
   ],
   "source": [
    "p=int(input('enter number'))\n",
    "\n",
    "if (p>60):\n",
    "    print('GOOD')\n",
    "else:\n",
    "    print('AVERAGE')"
   ]
  },
  {
   "cell_type": "code",
   "execution_count": 32,
   "id": "926a9f77",
   "metadata": {},
   "outputs": [
    {
     "name": "stdout",
     "output_type": "stream",
     "text": [
      "Enter Marks Obtained87\n",
      "A GRADE\n"
     ]
    }
   ],
   "source": [
    "P=int(input('Enter Marks Obtained'))\n",
    "\n",
    "if (P>90):\n",
    "    print('A+ Grade')\n",
    "elif (P>80 and P<90):\n",
    "    print('A GRADE')\n",
    "elif (P>70 and P<80):\n",
    "    print('B GRADE')\n",
    "elif (P>60 and P<70):\n",
    "    print('C GRADE')\n",
    "elif (P<60):\n",
    "    print('D GRADE')\n",
    "    "
   ]
  },
  {
   "cell_type": "code",
   "execution_count": 35,
   "id": "070f048a",
   "metadata": {},
   "outputs": [
    {
     "name": "stdout",
     "output_type": "stream",
     "text": [
      "APPLE\n",
      "BANANA\n"
     ]
    }
   ],
   "source": [
    "for i in ['APPLE','BANANA','CARROT','GRAPES','MANGO']:\n",
    "    if (i=='CARROT'):\n",
    "        break\n",
    "    print(i)\n"
   ]
  },
  {
   "cell_type": "code",
   "execution_count": 36,
   "id": "5e6ac4c0",
   "metadata": {},
   "outputs": [
    {
     "name": "stdout",
     "output_type": "stream",
     "text": [
      "APPLE\n",
      "BANANA\n",
      "GRAPES\n",
      "MANGOE\n",
      "LITCHI\n"
     ]
    }
   ],
   "source": [
    "for i in ['APPLE','BANANA','GRAPES','CARROT','MANGOE','LITCHI']:\n",
    "    if (i=='CARROT'):\n",
    "        continue\n",
    "    print(i)"
   ]
  },
  {
   "cell_type": "code",
   "execution_count": 39,
   "id": "0382de31",
   "metadata": {},
   "outputs": [
    {
     "name": "stdout",
     "output_type": "stream",
     "text": [
      "0\n",
      "1\n",
      "2\n",
      "3\n",
      "4\n",
      "5\n",
      "6\n",
      "7\n"
     ]
    }
   ],
   "source": [
    "for p in range(10):\n",
    "    if (p==8):\n",
    "        break\n",
    "    print(p)"
   ]
  },
  {
   "cell_type": "code",
   "execution_count": 44,
   "id": "a2e76407",
   "metadata": {},
   "outputs": [
    {
     "name": "stdout",
     "output_type": "stream",
     "text": [
      "0\n",
      "1\n",
      "2\n",
      "3\n",
      "4\n",
      "5\n",
      "6\n"
     ]
    }
   ],
   "source": [
    "for i in range(0,17):\n",
    "    if (i>6):\n",
    "        continue\n",
    "    print(i)"
   ]
  },
  {
   "cell_type": "code",
   "execution_count": null,
   "id": "b51f0a0e",
   "metadata": {},
   "outputs": [],
   "source": []
  },
  {
   "cell_type": "markdown",
   "id": "cf58d7a6",
   "metadata": {},
   "source": [
    "LIST COMPREHENSION"
   ]
  },
  {
   "cell_type": "code",
   "execution_count": 46,
   "id": "6b38eccb",
   "metadata": {},
   "outputs": [
    {
     "name": "stdout",
     "output_type": "stream",
     "text": [
      "[1, 23, 4, 55, 6, 65, 3, 42]\n"
     ]
    }
   ],
   "source": [
    "list1=[1,23,4,55,6,65,3,42]\n",
    "m=[i for i in list1]\n",
    "\n",
    "print(m)"
   ]
  },
  {
   "cell_type": "code",
   "execution_count": 47,
   "id": "81d0c1f6",
   "metadata": {},
   "outputs": [
    {
     "name": "stdout",
     "output_type": "stream",
     "text": [
      "[0, 1, 2, 3, 4, 5, 6, 7, 8, 9, 10, 11, 12, 13, 14, 15, 16, 17, 18, 19, 20, 21, 22, 23, 24, 25, 26, 27, 28, 29, 30, 31]\n"
     ]
    }
   ],
   "source": [
    "d=[i for i in range(0,32)]\n",
    "print(d)\n"
   ]
  },
  {
   "cell_type": "code",
   "execution_count": 48,
   "id": "d9f88e95",
   "metadata": {},
   "outputs": [
    {
     "name": "stdout",
     "output_type": "stream",
     "text": [
      "[0, 2, 4, 6, 8, 10, 12, 14, 16, 18, 20, 22, 24, 26, 28, 30]\n"
     ]
    }
   ],
   "source": [
    "d=[i for i in range(0,32) if i%2==0]\n",
    "\n",
    "print(d)"
   ]
  },
  {
   "cell_type": "code",
   "execution_count": 49,
   "id": "e162ade1",
   "metadata": {},
   "outputs": [
    {
     "name": "stdout",
     "output_type": "stream",
     "text": [
      "[21, 22, 23, 24, 25, 26, 27, 28, 29, 30, 31, 32, 33, 34, 35, 36, 37, 38, 39]\n"
     ]
    }
   ],
   "source": [
    "d=[i for i in range(0,40) if i>20]\n",
    "print(d)"
   ]
  },
  {
   "cell_type": "code",
   "execution_count": 56,
   "id": "cd542ac7",
   "metadata": {},
   "outputs": [
    {
     "name": "stdout",
     "output_type": "stream",
     "text": [
      "enter your number8\n"
     ]
    },
    {
     "ename": "TypeError",
     "evalue": "'int' object is not iterable",
     "output_type": "error",
     "traceback": [
      "\u001b[1;31m---------------------------------------------------------------------------\u001b[0m",
      "\u001b[1;31mTypeError\u001b[0m                                 Traceback (most recent call last)",
      "\u001b[1;32m~\\AppData\\Local\\Temp\\ipykernel_17600\\3363420884.py\u001b[0m in \u001b[0;36m<module>\u001b[1;34m\u001b[0m\n\u001b[0;32m      1\u001b[0m \u001b[0ma\u001b[0m\u001b[1;33m=\u001b[0m\u001b[0mint\u001b[0m\u001b[1;33m(\u001b[0m\u001b[0minput\u001b[0m\u001b[1;33m(\u001b[0m\u001b[1;34m'enter your number'\u001b[0m\u001b[1;33m)\u001b[0m\u001b[1;33m)\u001b[0m\u001b[1;33m\u001b[0m\u001b[1;33m\u001b[0m\u001b[0m\n\u001b[0;32m      2\u001b[0m \u001b[1;33m\u001b[0m\u001b[0m\n\u001b[1;32m----> 3\u001b[1;33m \u001b[0mb\u001b[0m\u001b[1;33m=\u001b[0m\u001b[1;33m[\u001b[0m\u001b[0mi\u001b[0m \u001b[1;32mfor\u001b[0m \u001b[0mi\u001b[0m \u001b[1;32min\u001b[0m \u001b[0ma\u001b[0m \u001b[1;32mif\u001b[0m \u001b[0mi\u001b[0m\u001b[1;33m>\u001b[0m\u001b[1;36m3\u001b[0m\u001b[1;33m]\u001b[0m\u001b[1;33m\u001b[0m\u001b[1;33m\u001b[0m\u001b[0m\n\u001b[0m\u001b[0;32m      4\u001b[0m \u001b[0mprint\u001b[0m\u001b[1;33m(\u001b[0m\u001b[0mb\u001b[0m\u001b[1;33m)\u001b[0m\u001b[1;33m\u001b[0m\u001b[1;33m\u001b[0m\u001b[0m\n",
      "\u001b[1;31mTypeError\u001b[0m: 'int' object is not iterable"
     ]
    }
   ],
   "source": [
    "a=int(input('enter your number'))\n",
    "\n",
    "b=[i for i in a if i>3]\n",
    "print(b)"
   ]
  },
  {
   "cell_type": "code",
   "execution_count": null,
   "id": "490eab7a",
   "metadata": {},
   "outputs": [],
   "source": []
  },
  {
   "cell_type": "markdown",
   "id": "79112d5f",
   "metadata": {},
   "source": [
    "## STRING FUNCTION"
   ]
  },
  {
   "cell_type": "code",
   "execution_count": 59,
   "id": "56d35e81",
   "metadata": {},
   "outputs": [],
   "source": [
    "word1='computer'"
   ]
  },
  {
   "cell_type": "code",
   "execution_count": 60,
   "id": "f4bee753",
   "metadata": {},
   "outputs": [
    {
     "data": {
      "text/plain": [
       "'computer'"
      ]
     },
     "execution_count": 60,
     "metadata": {},
     "output_type": "execute_result"
    }
   ],
   "source": [
    "word1"
   ]
  },
  {
   "cell_type": "code",
   "execution_count": 61,
   "id": "578f1af0",
   "metadata": {},
   "outputs": [
    {
     "data": {
      "text/plain": [
       "'COMPUTER'"
      ]
     },
     "execution_count": 61,
     "metadata": {},
     "output_type": "execute_result"
    }
   ],
   "source": [
    "word1.upper()"
   ]
  },
  {
   "cell_type": "code",
   "execution_count": 63,
   "id": "cc8202b1",
   "metadata": {},
   "outputs": [
    {
     "data": {
      "text/plain": [
       "'SCIENCE'"
      ]
     },
     "execution_count": 63,
     "metadata": {},
     "output_type": "execute_result"
    }
   ],
   "source": [
    "word2='SCIENCE'\n",
    "word2"
   ]
  },
  {
   "cell_type": "code",
   "execution_count": 64,
   "id": "f1e623cf",
   "metadata": {},
   "outputs": [
    {
     "data": {
      "text/plain": [
       "'science'"
      ]
     },
     "execution_count": 64,
     "metadata": {},
     "output_type": "execute_result"
    }
   ],
   "source": [
    "word2.lower()"
   ]
  },
  {
   "cell_type": "code",
   "execution_count": 65,
   "id": "45b7672b",
   "metadata": {},
   "outputs": [
    {
     "data": {
      "text/plain": [
       "'i am learning data science'"
      ]
     },
     "execution_count": 65,
     "metadata": {},
     "output_type": "execute_result"
    }
   ],
   "source": [
    "word3='i am learning data science'\n",
    "word3"
   ]
  },
  {
   "cell_type": "code",
   "execution_count": 86,
   "id": "8dc5ae1d",
   "metadata": {},
   "outputs": [
    {
     "data": {
      "text/plain": [
       "'I Am Learning Data Science'"
      ]
     },
     "execution_count": 86,
     "metadata": {},
     "output_type": "execute_result"
    }
   ],
   "source": [
    "p=word3.title()\n",
    "p"
   ]
  },
  {
   "cell_type": "code",
   "execution_count": 87,
   "id": "d5ec9d2a",
   "metadata": {},
   "outputs": [
    {
     "data": {
      "text/plain": [
       "True"
      ]
     },
     "execution_count": 87,
     "metadata": {},
     "output_type": "execute_result"
    }
   ],
   "source": [
    "p.istitle()"
   ]
  },
  {
   "cell_type": "code",
   "execution_count": 68,
   "id": "d2cb00df",
   "metadata": {},
   "outputs": [
    {
     "data": {
      "text/plain": [
       "'i am learning data science'"
      ]
     },
     "execution_count": 68,
     "metadata": {},
     "output_type": "execute_result"
    }
   ],
   "source": [
    "word3"
   ]
  },
  {
   "cell_type": "code",
   "execution_count": 69,
   "id": "ca1d9d63",
   "metadata": {},
   "outputs": [
    {
     "data": {
      "text/plain": [
       "'I am learning data science'"
      ]
     },
     "execution_count": 69,
     "metadata": {},
     "output_type": "execute_result"
    }
   ],
   "source": [
    "word3.capitalize()"
   ]
  },
  {
   "cell_type": "code",
   "execution_count": 70,
   "id": "2f42ff04",
   "metadata": {},
   "outputs": [
    {
     "data": {
      "text/plain": [
       "['i', 'am', 'learning', 'data', 'science']"
      ]
     },
     "execution_count": 70,
     "metadata": {},
     "output_type": "execute_result"
    }
   ],
   "source": [
    "word3.split()"
   ]
  },
  {
   "cell_type": "code",
   "execution_count": 71,
   "id": "282465b5",
   "metadata": {},
   "outputs": [
    {
     "data": {
      "text/plain": [
       "False"
      ]
     },
     "execution_count": 71,
     "metadata": {},
     "output_type": "execute_result"
    }
   ],
   "source": [
    "word1.isupper()"
   ]
  },
  {
   "cell_type": "code",
   "execution_count": 73,
   "id": "2b9f8422",
   "metadata": {},
   "outputs": [
    {
     "data": {
      "text/plain": [
       "True"
      ]
     },
     "execution_count": 73,
     "metadata": {},
     "output_type": "execute_result"
    }
   ],
   "source": [
    "word1.islower()"
   ]
  },
  {
   "cell_type": "code",
   "execution_count": 74,
   "id": "7c64b197",
   "metadata": {},
   "outputs": [
    {
     "data": {
      "text/plain": [
       "True"
      ]
     },
     "execution_count": 74,
     "metadata": {},
     "output_type": "execute_result"
    }
   ],
   "source": [
    "word2.isupper()"
   ]
  },
  {
   "cell_type": "code",
   "execution_count": 75,
   "id": "18709994",
   "metadata": {},
   "outputs": [
    {
     "data": {
      "text/plain": [
       "False"
      ]
     },
     "execution_count": 75,
     "metadata": {},
     "output_type": "execute_result"
    }
   ],
   "source": [
    "word2.islower()"
   ]
  },
  {
   "cell_type": "code",
   "execution_count": 77,
   "id": "0c8e6adf",
   "metadata": {},
   "outputs": [
    {
     "data": {
      "text/plain": [
       "'Analytics'"
      ]
     },
     "execution_count": 77,
     "metadata": {},
     "output_type": "execute_result"
    }
   ],
   "source": [
    "word4='Analytics'\n",
    "word4"
   ]
  },
  {
   "cell_type": "code",
   "execution_count": 79,
   "id": "3cbfaf7f",
   "metadata": {},
   "outputs": [
    {
     "data": {
      "text/plain": [
       "True"
      ]
     },
     "execution_count": 79,
     "metadata": {},
     "output_type": "execute_result"
    }
   ],
   "source": [
    "word4.isalpha()"
   ]
  },
  {
   "cell_type": "code",
   "execution_count": 92,
   "id": "f4c7521a",
   "metadata": {},
   "outputs": [
    {
     "data": {
      "text/plain": [
       "'674276378'"
      ]
     },
     "execution_count": 92,
     "metadata": {},
     "output_type": "execute_result"
    }
   ],
   "source": [
    "x='674276378'\n",
    "x"
   ]
  },
  {
   "cell_type": "code",
   "execution_count": 93,
   "id": "69946ad9",
   "metadata": {},
   "outputs": [
    {
     "data": {
      "text/plain": [
       "True"
      ]
     },
     "execution_count": 93,
     "metadata": {},
     "output_type": "execute_result"
    }
   ],
   "source": [
    "x.isdigit()"
   ]
  },
  {
   "cell_type": "code",
   "execution_count": 81,
   "id": "01a82f66",
   "metadata": {},
   "outputs": [
    {
     "data": {
      "text/plain": [
       "False"
      ]
     },
     "execution_count": 81,
     "metadata": {},
     "output_type": "execute_result"
    }
   ],
   "source": [
    "word4.isdigit()"
   ]
  },
  {
   "cell_type": "code",
   "execution_count": 82,
   "id": "9025e9d2",
   "metadata": {},
   "outputs": [
    {
     "data": {
      "text/plain": [
       "'adya215'"
      ]
     },
     "execution_count": 82,
     "metadata": {},
     "output_type": "execute_result"
    }
   ],
   "source": [
    "word5='adya215'\n",
    "word5"
   ]
  },
  {
   "cell_type": "code",
   "execution_count": 83,
   "id": "14bfd7a2",
   "metadata": {},
   "outputs": [
    {
     "data": {
      "text/plain": [
       "True"
      ]
     },
     "execution_count": 83,
     "metadata": {},
     "output_type": "execute_result"
    }
   ],
   "source": [
    "word5.isalnum()"
   ]
  },
  {
   "cell_type": "code",
   "execution_count": 88,
   "id": "84d6927d",
   "metadata": {},
   "outputs": [
    {
     "data": {
      "text/plain": [
       "'data science'"
      ]
     },
     "execution_count": 88,
     "metadata": {},
     "output_type": "execute_result"
    }
   ],
   "source": [
    "word='data science'\n",
    "word"
   ]
  },
  {
   "cell_type": "code",
   "execution_count": 89,
   "id": "84889253",
   "metadata": {},
   "outputs": [
    {
     "data": {
      "text/plain": [
       "'DATA SCIENCE'"
      ]
     },
     "execution_count": 89,
     "metadata": {},
     "output_type": "execute_result"
    }
   ],
   "source": [
    "word.swapcase()"
   ]
  },
  {
   "cell_type": "code",
   "execution_count": 98,
   "id": "463b9334",
   "metadata": {},
   "outputs": [
    {
     "data": {
      "text/plain": [
       "2"
      ]
     },
     "execution_count": 98,
     "metadata": {},
     "output_type": "execute_result"
    }
   ],
   "source": [
    "word.count('a')"
   ]
  },
  {
   "cell_type": "code",
   "execution_count": 99,
   "id": "6ac25277",
   "metadata": {},
   "outputs": [
    {
     "data": {
      "text/plain": [
       "'i am learning data science'"
      ]
     },
     "execution_count": 99,
     "metadata": {},
     "output_type": "execute_result"
    }
   ],
   "source": [
    "word3"
   ]
  },
  {
   "cell_type": "code",
   "execution_count": 100,
   "id": "65a01b83",
   "metadata": {},
   "outputs": [
    {
     "data": {
      "text/plain": [
       "1"
      ]
     },
     "execution_count": 100,
     "metadata": {},
     "output_type": "execute_result"
    }
   ],
   "source": [
    "word3.count('data')"
   ]
  },
  {
   "cell_type": "code",
   "execution_count": 101,
   "id": "e4f24c4d",
   "metadata": {},
   "outputs": [
    {
     "data": {
      "text/plain": [
       "False"
      ]
     },
     "execution_count": 101,
     "metadata": {},
     "output_type": "execute_result"
    }
   ],
   "source": [
    "word3.startswith('A')\n"
   ]
  },
  {
   "cell_type": "code",
   "execution_count": 102,
   "id": "5a67ee0d",
   "metadata": {},
   "outputs": [
    {
     "data": {
      "text/plain": [
       "True"
      ]
     },
     "execution_count": 102,
     "metadata": {},
     "output_type": "execute_result"
    }
   ],
   "source": [
    "word3.startswith('i')"
   ]
  },
  {
   "cell_type": "code",
   "execution_count": 103,
   "id": "bffd0d93",
   "metadata": {},
   "outputs": [
    {
     "data": {
      "text/plain": [
       "True"
      ]
     },
     "execution_count": 103,
     "metadata": {},
     "output_type": "execute_result"
    }
   ],
   "source": [
    "word3.endswith('science')"
   ]
  },
  {
   "cell_type": "code",
   "execution_count": 104,
   "id": "66865df5",
   "metadata": {},
   "outputs": [
    {
     "data": {
      "text/plain": [
       "False"
      ]
     },
     "execution_count": 104,
     "metadata": {},
     "output_type": "execute_result"
    }
   ],
   "source": [
    "word3.endswith('analyst')"
   ]
  },
  {
   "cell_type": "code",
   "execution_count": 105,
   "id": "8b7cb23b",
   "metadata": {},
   "outputs": [
    {
     "data": {
      "text/plain": [
       "5"
      ]
     },
     "execution_count": 105,
     "metadata": {},
     "output_type": "execute_result"
    }
   ],
   "source": [
    "word3.find('learning')"
   ]
  },
  {
   "cell_type": "code",
   "execution_count": 106,
   "id": "1007d487",
   "metadata": {},
   "outputs": [
    {
     "data": {
      "text/plain": [
       "14"
      ]
     },
     "execution_count": 106,
     "metadata": {},
     "output_type": "execute_result"
    }
   ],
   "source": [
    "word3.find('data')"
   ]
  },
  {
   "cell_type": "code",
   "execution_count": 107,
   "id": "5e7be334",
   "metadata": {},
   "outputs": [
    {
     "data": {
      "text/plain": [
       "'i can do it'"
      ]
     },
     "execution_count": 107,
     "metadata": {},
     "output_type": "execute_result"
    }
   ],
   "source": [
    "word19=('i can do it')\n",
    "word19"
   ]
  },
  {
   "cell_type": "code",
   "execution_count": 108,
   "id": "fdbf94da",
   "metadata": {},
   "outputs": [
    {
     "data": {
      "text/plain": [
       "'i can do everything'"
      ]
     },
     "execution_count": 108,
     "metadata": {},
     "output_type": "execute_result"
    }
   ],
   "source": [
    "word19.replace('it','everything')"
   ]
  },
  {
   "cell_type": "code",
   "execution_count": 109,
   "id": "3611e115",
   "metadata": {},
   "outputs": [
    {
     "data": {
      "text/plain": [
       "['i', 'need', 'more', 'knowledge']"
      ]
     },
     "execution_count": 109,
     "metadata": {},
     "output_type": "execute_result"
    }
   ],
   "source": [
    "a=['i','need','more','knowledge']\n",
    "a"
   ]
  },
  {
   "cell_type": "code",
   "execution_count": 110,
   "id": "88fa8b40",
   "metadata": {},
   "outputs": [
    {
     "data": {
      "text/plain": [
       "'ineedmoreknowledge'"
      ]
     },
     "execution_count": 110,
     "metadata": {},
     "output_type": "execute_result"
    }
   ],
   "source": [
    "''.join(a)"
   ]
  },
  {
   "cell_type": "code",
   "execution_count": 111,
   "id": "26712486",
   "metadata": {},
   "outputs": [
    {
     "data": {
      "text/plain": [
       "'i need more knowledge'"
      ]
     },
     "execution_count": 111,
     "metadata": {},
     "output_type": "execute_result"
    }
   ],
   "source": [
    "' '.join(a)"
   ]
  },
  {
   "cell_type": "code",
   "execution_count": 114,
   "id": "b8d3cc4a",
   "metadata": {},
   "outputs": [
    {
     "name": "stdout",
     "output_type": "stream",
     "text": [
      "Its not a match\n"
     ]
    }
   ],
   "source": [
    "#casefold isn't casesensitive that means it wont check for uppercase and lowercase letter\n",
    "\n",
    "x1='Python'\n",
    "x2='python'\n",
    "\n",
    "if x1 == x2:\n",
    "    print('Its a match')\n",
    "else:\n",
    "    print('Its not a match')"
   ]
  },
  {
   "cell_type": "code",
   "execution_count": 116,
   "id": "ecd8b5ca",
   "metadata": {},
   "outputs": [
    {
     "name": "stdout",
     "output_type": "stream",
     "text": [
      "Its a match\n"
     ]
    }
   ],
   "source": [
    "if x1.casefold()==x2.casefold():\n",
    "    print('Its a match')\n",
    "else:\n",
    "    print('Its not a match')"
   ]
  },
  {
   "cell_type": "code",
   "execution_count": null,
   "id": "997a285d",
   "metadata": {},
   "outputs": [],
   "source": []
  },
  {
   "cell_type": "code",
   "execution_count": null,
   "id": "2996ffb5",
   "metadata": {},
   "outputs": [],
   "source": []
  },
  {
   "cell_type": "code",
   "execution_count": null,
   "id": "0e15cf21",
   "metadata": {},
   "outputs": [],
   "source": [
    "#string printing format\n",
    "c-style format\n",
    "string.format"
   ]
  },
  {
   "cell_type": "code",
   "execution_count": 1,
   "id": "5b3c7972",
   "metadata": {},
   "outputs": [
    {
     "name": "stdout",
     "output_type": "stream",
     "text": [
      "hello, john\n"
     ]
    }
   ],
   "source": [
    "name='john'\n",
    "print(\"hello, %s\" % name)"
   ]
  },
  {
   "cell_type": "code",
   "execution_count": 3,
   "id": "f72a6546",
   "metadata": {},
   "outputs": [
    {
     "name": "stdout",
     "output_type": "stream",
     "text": [
      "john is 23 years old taking salary 87434.438000 \n",
      "john id 23 years old taking salary 87434.44 \n"
     ]
    }
   ],
   "source": [
    "name='john'\n",
    "age=23\n",
    "salary=87434.438\n",
    "print('%s is %d years old taking salary %f ' % (name,age,salary))\n",
    "print('%s id %d years old taking salary %0.2f ' % (name,age,salary))"
   ]
  },
  {
   "cell_type": "code",
   "execution_count": 7,
   "id": "a83a5175",
   "metadata": {},
   "outputs": [
    {
     "name": "stdout",
     "output_type": "stream",
     "text": [
      "area of rectangle with length 23 and breadth 12.560000 is 288\n"
     ]
    }
   ],
   "source": [
    "length=23\n",
    "breadth=12.56\n",
    "area=length*breadth\n",
    "name='rectangle'\n",
    "print('area of %s with length %d and breadth %f is %d' % (name,length,breadth,area))"
   ]
  },
  {
   "cell_type": "code",
   "execution_count": 8,
   "id": "b8d9a7af",
   "metadata": {},
   "outputs": [
    {
     "name": "stdout",
     "output_type": "stream",
     "text": [
      "i like mango and grapes more than apple\n"
     ]
    }
   ],
   "source": [
    "fruit1='mango'\n",
    "fruit2='apple'\n",
    "fruit3='grapes'\n",
    "print('i like %s and %s more than %s' %(fruit1,fruit3,fruit2))"
   ]
  },
  {
   "cell_type": "code",
   "execution_count": null,
   "id": "2fabe7f8",
   "metadata": {},
   "outputs": [],
   "source": []
  },
  {
   "cell_type": "markdown",
   "id": "92a31c18",
   "metadata": {},
   "source": [
    "string.format functions"
   ]
  },
  {
   "cell_type": "code",
   "execution_count": 10,
   "id": "8f5f1647",
   "metadata": {},
   "outputs": [
    {
     "name": "stdout",
     "output_type": "stream",
     "text": [
      "people generally take coke with pizza\n"
     ]
    }
   ],
   "source": [
    "print('people generally take {} with {}'.format('coke','pizza'))"
   ]
  },
  {
   "cell_type": "code",
   "execution_count": 11,
   "id": "17d0867c",
   "metadata": {},
   "outputs": [
    {
     "name": "stdout",
     "output_type": "stream",
     "text": [
      "people generally take bread with jam\n"
     ]
    }
   ],
   "source": [
    "print('people generally take {0} with {1}'.format('bread','jam'))"
   ]
  },
  {
   "cell_type": "code",
   "execution_count": 12,
   "id": "9006e5bc",
   "metadata": {},
   "outputs": [
    {
     "name": "stdout",
     "output_type": "stream",
     "text": [
      "people generally take chowmine with beer\n"
     ]
    }
   ],
   "source": [
    "print('people generally take {1} with {0}'.format('beer','chowmine'))"
   ]
  },
  {
   "cell_type": "code",
   "execution_count": 15,
   "id": "1482c1e2",
   "metadata": {},
   "outputs": [
    {
     "name": "stdout",
     "output_type": "stream",
     "text": [
      "enter name here ADYASHA\n",
      "enter age here 24\n",
      "enter salary here 133454\n",
      "his name is ADYASHA , he is 24 , his salary is 133454.0 ,\n"
     ]
    }
   ],
   "source": [
    "name=str(input('enter name here '))\n",
    "age=int(input('enter age here '))\n",
    "salary=float(input('enter salary here '))\n",
    "\n",
    "print('his name is {} , he is {} , his salary is {} ,'.format(name,age,salary))"
   ]
  },
  {
   "cell_type": "code",
   "execution_count": null,
   "id": "a569d502",
   "metadata": {},
   "outputs": [],
   "source": []
  },
  {
   "cell_type": "code",
   "execution_count": null,
   "id": "e3dd3163",
   "metadata": {},
   "outputs": [],
   "source": []
  },
  {
   "cell_type": "markdown",
   "id": "0cd390cc",
   "metadata": {},
   "source": [
    "# FUNCTIONS"
   ]
  },
  {
   "cell_type": "markdown",
   "id": "f3bfcd7b",
   "metadata": {},
   "source": [
    "Function is a group of related statements that perform a specific task\n",
    "\n",
    "Functions are of 3 type.\n",
    "\n",
    "i.   pre-defined function\n",
    "\n",
    "ii.  user defined function\n",
    "\n",
    "iii. lambda function/annonymous function\n"
   ]
  },
  {
   "cell_type": "code",
   "execution_count": null,
   "id": "b72922fe",
   "metadata": {},
   "outputs": [],
   "source": []
  },
  {
   "cell_type": "markdown",
   "id": "7ea21fd9",
   "metadata": {},
   "source": [
    "i. pre-defined function / Built-in function"
   ]
  },
  {
   "cell_type": "code",
   "execution_count": null,
   "id": "a1108731",
   "metadata": {},
   "outputs": [],
   "source": [
    "help(),print(),int(),float(),str(),range(),min(),max(),input(),list()"
   ]
  },
  {
   "cell_type": "code",
   "execution_count": 17,
   "id": "2521e96a",
   "metadata": {},
   "outputs": [
    {
     "name": "stdout",
     "output_type": "stream",
     "text": [
      "\n",
      "Welcome to Python 3.9's help utility!\n",
      "\n",
      "If this is your first time using Python, you should definitely check out\n",
      "the tutorial on the Internet at https://docs.python.org/3.9/tutorial/.\n",
      "\n",
      "Enter the name of any module, keyword, or topic to get help on writing\n",
      "Python programs and using Python modules.  To quit this help utility and\n",
      "return to the interpreter, just type \"quit\".\n",
      "\n",
      "To get a list of available modules, keywords, symbols, or topics, type\n",
      "\"modules\", \"keywords\", \"symbols\", or \"topics\".  Each module also comes\n",
      "with a one-line summary of what it does; to list the modules whose name\n",
      "or summary contain a given string such as \"spam\", type \"modules spam\".\n",
      "\n",
      "help> range\n",
      "Help on class range in module builtins:\n",
      "\n",
      "class range(object)\n",
      " |  range(stop) -> range object\n",
      " |  range(start, stop[, step]) -> range object\n",
      " |  \n",
      " |  Return an object that produces a sequence of integers from start (inclusive)\n",
      " |  to stop (exclusive) by step.  range(i, j) produces i, i+1, i+2, ..., j-1.\n",
      " |  start defaults to 0, and stop is omitted!  range(4) produces 0, 1, 2, 3.\n",
      " |  These are exactly the valid indices for a list of 4 elements.\n",
      " |  When step is given, it specifies the increment (or decrement).\n",
      " |  \n",
      " |  Methods defined here:\n",
      " |  \n",
      " |  __bool__(self, /)\n",
      " |      True if self else False\n",
      " |  \n",
      " |  __contains__(self, key, /)\n",
      " |      Return key in self.\n",
      " |  \n",
      " |  __eq__(self, value, /)\n",
      " |      Return self==value.\n",
      " |  \n",
      " |  __ge__(self, value, /)\n",
      " |      Return self>=value.\n",
      " |  \n",
      " |  __getattribute__(self, name, /)\n",
      " |      Return getattr(self, name).\n",
      " |  \n",
      " |  __getitem__(self, key, /)\n",
      " |      Return self[key].\n",
      " |  \n",
      " |  __gt__(self, value, /)\n",
      " |      Return self>value.\n",
      " |  \n",
      " |  __hash__(self, /)\n",
      " |      Return hash(self).\n",
      " |  \n",
      " |  __iter__(self, /)\n",
      " |      Implement iter(self).\n",
      " |  \n",
      " |  __le__(self, value, /)\n",
      " |      Return self<=value.\n",
      " |  \n",
      " |  __len__(self, /)\n",
      " |      Return len(self).\n",
      " |  \n",
      " |  __lt__(self, value, /)\n",
      " |      Return self<value.\n",
      " |  \n",
      " |  __ne__(self, value, /)\n",
      " |      Return self!=value.\n",
      " |  \n",
      " |  __reduce__(...)\n",
      " |      Helper for pickle.\n",
      " |  \n",
      " |  __repr__(self, /)\n",
      " |      Return repr(self).\n",
      " |  \n",
      " |  __reversed__(...)\n",
      " |      Return a reverse iterator.\n",
      " |  \n",
      " |  count(...)\n",
      " |      rangeobject.count(value) -> integer -- return number of occurrences of value\n",
      " |  \n",
      " |  index(...)\n",
      " |      rangeobject.index(value) -> integer -- return index of value.\n",
      " |      Raise ValueError if the value is not present.\n",
      " |  \n",
      " |  ----------------------------------------------------------------------\n",
      " |  Static methods defined here:\n",
      " |  \n",
      " |  __new__(*args, **kwargs) from builtins.type\n",
      " |      Create and return a new object.  See help(type) for accurate signature.\n",
      " |  \n",
      " |  ----------------------------------------------------------------------\n",
      " |  Data descriptors defined here:\n",
      " |  \n",
      " |  start\n",
      " |  \n",
      " |  step\n",
      " |  \n",
      " |  stop\n",
      "\n",
      "help> keywords\n",
      "\n",
      "Here is a list of the Python keywords.  Enter any keyword to get more help.\n",
      "\n",
      "False               break               for                 not\n",
      "None                class               from                or\n",
      "True                continue            global              pass\n",
      "__peg_parser__      def                 if                  raise\n",
      "and                 del                 import              return\n",
      "as                  elif                in                  try\n",
      "assert              else                is                  while\n",
      "async               except              lambda              with\n",
      "await               finally             nonlocal            yield\n",
      "\n",
      "help> class\n",
      "Class definitions\n",
      "*****************\n",
      "\n",
      "A class definition defines a class object (see section The standard\n",
      "type hierarchy):\n",
      "\n",
      "   classdef    ::= [decorators] \"class\" classname [inheritance] \":\" suite\n",
      "   inheritance ::= \"(\" [argument_list] \")\"\n",
      "   classname   ::= identifier\n",
      "\n",
      "A class definition is an executable statement.  The inheritance list\n",
      "usually gives a list of base classes (see Metaclasses for more\n",
      "advanced uses), so each item in the list should evaluate to a class\n",
      "object which allows subclassing.  Classes without an inheritance list\n",
      "inherit, by default, from the base class \"object\"; hence,\n",
      "\n",
      "   class Foo:\n",
      "       pass\n",
      "\n",
      "is equivalent to\n",
      "\n",
      "   class Foo(object):\n",
      "       pass\n",
      "\n",
      "The class’s suite is then executed in a new execution frame (see\n",
      "Naming and binding), using a newly created local namespace and the\n",
      "original global namespace. (Usually, the suite contains mostly\n",
      "function definitions.)  When the class’s suite finishes execution, its\n",
      "execution frame is discarded but its local namespace is saved. [3] A\n",
      "class object is then created using the inheritance list for the base\n",
      "classes and the saved local namespace for the attribute dictionary.\n",
      "The class name is bound to this class object in the original local\n",
      "namespace.\n",
      "\n",
      "The order in which attributes are defined in the class body is\n",
      "preserved in the new class’s \"__dict__\".  Note that this is reliable\n",
      "only right after the class is created and only for classes that were\n",
      "defined using the definition syntax.\n",
      "\n",
      "Class creation can be customized heavily using metaclasses.\n",
      "\n",
      "Classes can also be decorated: just like when decorating functions,\n",
      "\n",
      "   @f1(arg)\n",
      "   @f2\n",
      "   class Foo: pass\n",
      "\n",
      "is roughly equivalent to\n",
      "\n",
      "   class Foo: pass\n",
      "   Foo = f1(arg)(f2(Foo))\n",
      "\n",
      "The evaluation rules for the decorator expressions are the same as for\n",
      "function decorators.  The result is then bound to the class name.\n",
      "\n",
      "Changed in version 3.9: Classes may be decorated with any valid\n",
      "\"assignment_expression\". Previously, the grammar was much more\n",
      "restrictive; see **PEP 614** for details.\n",
      "\n",
      "**Programmer’s note:** Variables defined in the class definition are\n",
      "class attributes; they are shared by instances.  Instance attributes\n",
      "can be set in a method with \"self.name = value\".  Both class and\n",
      "instance attributes are accessible through the notation “\"self.name\"”,\n",
      "and an instance attribute hides a class attribute with the same name\n",
      "when accessed in this way.  Class attributes can be used as defaults\n",
      "for instance attributes, but using mutable values there can lead to\n",
      "unexpected results.  Descriptors can be used to create instance\n",
      "variables with different implementation details.\n",
      "\n",
      "See also:\n",
      "\n",
      "  **PEP 3115** - Metaclasses in Python 3000\n",
      "     The proposal that changed the declaration of metaclasses to the\n",
      "     current syntax, and the semantics for how classes with\n",
      "     metaclasses are constructed.\n",
      "\n",
      "  **PEP 3129** - Class Decorators\n",
      "     The proposal that added class decorators.  Function and method\n",
      "     decorators were introduced in **PEP 318**.\n",
      "\n",
      "Related help topics: CLASSES, SPECIALMETHODS\n",
      "\n",
      "help> functions\n",
      "No Python documentation found for 'functions'.\n",
      "Use help() to get the interactive help utility.\n",
      "Use help(str) for help on the str class.\n",
      "\n",
      "help> function\n",
      "No Python documentation found for 'function'.\n",
      "Use help() to get the interactive help utility.\n",
      "Use help(str) for help on the str class.\n",
      "\n",
      "help> symbols\n",
      "\n",
      "Here is a list of the punctuation symbols which Python assigns special meaning\n",
      "to. Enter any symbol to get more help.\n",
      "\n",
      "!=                  +                   <=                  __\n",
      "\"                   +=                  <>                  `\n",
      "\"\"\"                 ,                   ==                  b\"\n",
      "%                   -                   >                   b'\n",
      "%=                  -=                  >=                  f\"\n",
      "&                   .                   >>                  f'\n",
      "&=                  ...                 >>=                 j\n",
      "'                   /                   @                   r\"\n",
      "'''                 //                  J                   r'\n",
      "(                   //=                 [                   u\"\n",
      ")                   /=                  \\                   u'\n",
      "*                   :                   ]                   |\n",
      "**                  <                   ^                   |=\n",
      "**=                 <<                  ^=                  ~\n",
      "*=                  <<=                 _                   \n",
      "\n",
      "\n",
      "You are now leaving help and returning to the Python interpreter.\n",
      "If you want to ask for help on a particular object directly from the\n",
      "interpreter, you can type \"help(object)\".  Executing \"help('string')\"\n",
      "has the same effect as typing a particular string at the help> prompt.\n"
     ]
    }
   ],
   "source": [
    "help()"
   ]
  },
  {
   "cell_type": "code",
   "execution_count": 18,
   "id": "8256a6f7",
   "metadata": {},
   "outputs": [
    {
     "name": "stdout",
     "output_type": "stream",
     "text": [
      "Help on built-in function len in module builtins:\n",
      "\n",
      "len(obj, /)\n",
      "    Return the number of items in a container.\n",
      "\n"
     ]
    }
   ],
   "source": [
    "help(len)"
   ]
  },
  {
   "cell_type": "code",
   "execution_count": 19,
   "id": "09b6e015",
   "metadata": {},
   "outputs": [
    {
     "name": "stdout",
     "output_type": "stream",
     "text": [
      "Help on built-in function min in module builtins:\n",
      "\n",
      "min(...)\n",
      "    min(iterable, *[, default=obj, key=func]) -> value\n",
      "    min(arg1, arg2, *args, *[, key=func]) -> value\n",
      "    \n",
      "    With a single iterable argument, return its smallest item. The\n",
      "    default keyword-only argument specifies an object to return if\n",
      "    the provided iterable is empty.\n",
      "    With two or more arguments, return the smallest argument.\n",
      "\n"
     ]
    }
   ],
   "source": [
    "help(min)"
   ]
  },
  {
   "cell_type": "code",
   "execution_count": 20,
   "id": "cb5c1096",
   "metadata": {},
   "outputs": [
    {
     "data": {
      "text/plain": [
       "23"
      ]
     },
     "execution_count": 20,
     "metadata": {},
     "output_type": "execute_result"
    }
   ],
   "source": [
    "k=[23,435,67,334,75]\n",
    "min(k)"
   ]
  },
  {
   "cell_type": "code",
   "execution_count": 21,
   "id": "5df12f07",
   "metadata": {},
   "outputs": [
    {
     "data": {
      "text/plain": [
       "567"
      ]
     },
     "execution_count": 21,
     "metadata": {},
     "output_type": "execute_result"
    }
   ],
   "source": [
    "k=[45,567,234,78,453]\n",
    "max(k)"
   ]
  },
  {
   "cell_type": "code",
   "execution_count": null,
   "id": "40a386c8",
   "metadata": {},
   "outputs": [],
   "source": []
  },
  {
   "cell_type": "markdown",
   "id": "3fcecf6e",
   "metadata": {},
   "source": [
    "ii. user defined function"
   ]
  },
  {
   "cell_type": "code",
   "execution_count": 24,
   "id": "71738d69",
   "metadata": {},
   "outputs": [],
   "source": [
    "#defining a function\n",
    "def function1():\n",
    "    print('Hii Bun Bun')"
   ]
  },
  {
   "cell_type": "code",
   "execution_count": 30,
   "id": "8ff39d8d",
   "metadata": {},
   "outputs": [],
   "source": [
    "def function2():\n",
    "    print('kn karucha')"
   ]
  },
  {
   "cell_type": "code",
   "execution_count": 31,
   "id": "a69859f9",
   "metadata": {},
   "outputs": [],
   "source": [
    "def function3():\n",
    "    print('mo katha mane paduni ki???')\n"
   ]
  },
  {
   "cell_type": "code",
   "execution_count": 32,
   "id": "2749dafe",
   "metadata": {},
   "outputs": [
    {
     "name": "stdout",
     "output_type": "stream",
     "text": [
      "Hii Bun Bun\n"
     ]
    }
   ],
   "source": [
    "#calling a function\n",
    "function1()"
   ]
  },
  {
   "cell_type": "code",
   "execution_count": 33,
   "id": "3c954b16",
   "metadata": {},
   "outputs": [
    {
     "name": "stdout",
     "output_type": "stream",
     "text": [
      "kn karucha\n"
     ]
    }
   ],
   "source": [
    "function2()"
   ]
  },
  {
   "cell_type": "code",
   "execution_count": 34,
   "id": "952b86d7",
   "metadata": {},
   "outputs": [
    {
     "name": "stdout",
     "output_type": "stream",
     "text": [
      "mo katha mane paduni ki???\n"
     ]
    }
   ],
   "source": [
    "function3()"
   ]
  },
  {
   "cell_type": "code",
   "execution_count": 35,
   "id": "daabe082",
   "metadata": {},
   "outputs": [],
   "source": [
    "def addition():\n",
    "    a=3\n",
    "    b=4\n",
    "    c=a+b\n",
    "    print('value of c = ',c)"
   ]
  },
  {
   "cell_type": "code",
   "execution_count": 36,
   "id": "0fbb149d",
   "metadata": {},
   "outputs": [
    {
     "name": "stdout",
     "output_type": "stream",
     "text": [
      "value of c =  7\n"
     ]
    }
   ],
   "source": [
    "addition()"
   ]
  },
  {
   "cell_type": "code",
   "execution_count": 37,
   "id": "8e6693f2",
   "metadata": {},
   "outputs": [],
   "source": [
    "def subtraction():\n",
    "    e=32\n",
    "    f=23\n",
    "    g=e-f\n",
    "    print('value of g = ',g)"
   ]
  },
  {
   "cell_type": "code",
   "execution_count": 39,
   "id": "dcb5f3fb",
   "metadata": {},
   "outputs": [
    {
     "name": "stdout",
     "output_type": "stream",
     "text": [
      "value of g =  9\n"
     ]
    }
   ],
   "source": [
    "subtraction()"
   ]
  },
  {
   "cell_type": "code",
   "execution_count": 40,
   "id": "4c2ca609",
   "metadata": {},
   "outputs": [],
   "source": [
    "def multiplication():\n",
    "    a=23\n",
    "    b=34\n",
    "    c=a*b\n",
    "    print('value of c = ',c)"
   ]
  },
  {
   "cell_type": "code",
   "execution_count": 41,
   "id": "c6ccebaf",
   "metadata": {},
   "outputs": [
    {
     "name": "stdout",
     "output_type": "stream",
     "text": [
      "value of c =  782\n"
     ]
    }
   ],
   "source": [
    "multiplication()"
   ]
  },
  {
   "cell_type": "code",
   "execution_count": 42,
   "id": "3ad1a2d7",
   "metadata": {},
   "outputs": [],
   "source": [
    "def areaofrectangle():\n",
    "    length=123\n",
    "    breadth=77\n",
    "    area=length*breadth\n",
    "    print('area of reactangle with length = ',length,'and breadth = ',breadth,'is',area)"
   ]
  },
  {
   "cell_type": "code",
   "execution_count": 43,
   "id": "d1dc71ed",
   "metadata": {},
   "outputs": [
    {
     "name": "stdout",
     "output_type": "stream",
     "text": [
      "area of reactangle with length =  123 and breadth =  77 is 9471\n"
     ]
    }
   ],
   "source": [
    "areaofrectangle()"
   ]
  },
  {
   "cell_type": "code",
   "execution_count": 45,
   "id": "cd3a4595",
   "metadata": {},
   "outputs": [],
   "source": [
    "def areaofcircle():\n",
    "    pi=3.14\n",
    "    radius=235\n",
    "    area=pi*radius**2\n",
    "    circumferance=2*pi*radius\n",
    "    print('area and circumferance of circle with radius =',radius,'is ',area,circumferance,'cm square')"
   ]
  },
  {
   "cell_type": "code",
   "execution_count": 47,
   "id": "54c1a171",
   "metadata": {},
   "outputs": [
    {
     "name": "stdout",
     "output_type": "stream",
     "text": [
      "area and circumferance of circle with radius = 235 is  173406.5 1475.8 cm square\n"
     ]
    }
   ],
   "source": [
    "areaofcircle()"
   ]
  },
  {
   "cell_type": "code",
   "execution_count": 48,
   "id": "945ea471",
   "metadata": {},
   "outputs": [],
   "source": [
    "def areaofsquare():\n",
    "    side=int(input('enter side of square'))\n",
    "    area=side*side\n",
    "    print('area of square with side =',side,'is',area)"
   ]
  },
  {
   "cell_type": "code",
   "execution_count": 50,
   "id": "8c402387",
   "metadata": {},
   "outputs": [
    {
     "name": "stdout",
     "output_type": "stream",
     "text": [
      "enter side of square24\n",
      "area of square with side = 24 is 576\n"
     ]
    }
   ],
   "source": [
    "areaofsquare()"
   ]
  },
  {
   "cell_type": "code",
   "execution_count": null,
   "id": "fb23e80a",
   "metadata": {},
   "outputs": [],
   "source": []
  },
  {
   "cell_type": "markdown",
   "id": "125515b7",
   "metadata": {},
   "source": [
    "PARAMETRIC FUNCTION"
   ]
  },
  {
   "cell_type": "code",
   "execution_count": 51,
   "id": "a54c1814",
   "metadata": {},
   "outputs": [],
   "source": [
    "def add(a,b):\n",
    "    c=a+b\n",
    "    print('Addiation',c)"
   ]
  },
  {
   "cell_type": "code",
   "execution_count": 52,
   "id": "e69c5864",
   "metadata": {},
   "outputs": [
    {
     "name": "stdout",
     "output_type": "stream",
     "text": [
      "Addiation 6\n"
     ]
    }
   ],
   "source": [
    "add(2,4)"
   ]
  },
  {
   "cell_type": "code",
   "execution_count": 53,
   "id": "a1ee30ff",
   "metadata": {},
   "outputs": [
    {
     "name": "stdout",
     "output_type": "stream",
     "text": [
      "Addiation 670\n"
     ]
    }
   ],
   "source": [
    "add(234,436)"
   ]
  },
  {
   "cell_type": "code",
   "execution_count": 54,
   "id": "4898cc76",
   "metadata": {},
   "outputs": [
    {
     "name": "stdout",
     "output_type": "stream",
     "text": [
      "Addiation 1129\n"
     ]
    }
   ],
   "source": [
    "add(345,784)"
   ]
  },
  {
   "cell_type": "code",
   "execution_count": 55,
   "id": "c7b384cf",
   "metadata": {},
   "outputs": [],
   "source": [
    "def multi(e,t):\n",
    "    s=e*t\n",
    "    print('multiplication',s)"
   ]
  },
  {
   "cell_type": "code",
   "execution_count": 56,
   "id": "e89a8464",
   "metadata": {},
   "outputs": [
    {
     "name": "stdout",
     "output_type": "stream",
     "text": [
      "multiplication 1035\n"
     ]
    }
   ],
   "source": [
    "multi(23,45)"
   ]
  },
  {
   "cell_type": "code",
   "execution_count": 57,
   "id": "bfc27105",
   "metadata": {},
   "outputs": [
    {
     "name": "stdout",
     "output_type": "stream",
     "text": [
      "multiplication 420\n"
     ]
    }
   ],
   "source": [
    "multi(12,35)"
   ]
  },
  {
   "cell_type": "code",
   "execution_count": 58,
   "id": "74a8447b",
   "metadata": {},
   "outputs": [],
   "source": [
    "def arearect(l,b):\n",
    "    area=l*b\n",
    "    print('The area of rectangle =',area)"
   ]
  },
  {
   "cell_type": "code",
   "execution_count": 60,
   "id": "9ffc8aef",
   "metadata": {},
   "outputs": [
    {
     "name": "stdout",
     "output_type": "stream",
     "text": [
      "Enter length24\n",
      "Enter Breadth54\n",
      "The area of rectangle = 1296\n"
     ]
    }
   ],
   "source": [
    "l=int(input('Enter length'))\n",
    "b=int(input('Enter Breadth'))\n",
    "arearect(l,b)"
   ]
  },
  {
   "cell_type": "code",
   "execution_count": 61,
   "id": "e51b0cc6",
   "metadata": {},
   "outputs": [],
   "source": [
    "def areacir(pi,r):\n",
    "    area=pi*r**2\n",
    "    print('area of circle = ',area)"
   ]
  },
  {
   "cell_type": "code",
   "execution_count": 63,
   "id": "67972347",
   "metadata": {},
   "outputs": [
    {
     "name": "stdout",
     "output_type": "stream",
     "text": [
      "enter radius889\n",
      "area of circle =  2481607.94\n"
     ]
    }
   ],
   "source": [
    "pi=3.14\n",
    "r=int(input('enter radius'))\n",
    "areacir(pi,r)"
   ]
  },
  {
   "cell_type": "code",
   "execution_count": 82,
   "id": "330d8d9d",
   "metadata": {},
   "outputs": [],
   "source": [
    "def task():\n",
    "    name=input('enter your name here ')\n",
    "    mark1=int(input('enter 1st test mark '))\n",
    "    mark2=int(input('enter 2nd test mark '))\n",
    "    total_marks=mark1+mark2\n",
    "    print('Congratulations',name,', you have got',total_marks,'marks')\n",
    "    \n",
    "    "
   ]
  },
  {
   "cell_type": "code",
   "execution_count": 83,
   "id": "cb5bbfce",
   "metadata": {},
   "outputs": [
    {
     "name": "stdout",
     "output_type": "stream",
     "text": [
      "enter your name here Adyasha\n",
      "enter 1st test mark 34\n",
      "enter 2nd test mark 56\n",
      "Congratulations Adyasha , you have got 90 marks\n"
     ]
    }
   ],
   "source": [
    "task()"
   ]
  },
  {
   "cell_type": "code",
   "execution_count": 84,
   "id": "b0d217ee",
   "metadata": {},
   "outputs": [],
   "source": [
    "def task2(name,mark1,mark2):\n",
    "    total=mark1+mark2\n",
    "    print('congrats',name,', you have got',total,'marks')"
   ]
  },
  {
   "cell_type": "code",
   "execution_count": 85,
   "id": "7ed2a602",
   "metadata": {},
   "outputs": [
    {
     "name": "stdout",
     "output_type": "stream",
     "text": [
      "congrats Adya , you have got 68 marks\n"
     ]
    }
   ],
   "source": [
    "task2('Adya',23,45)"
   ]
  },
  {
   "cell_type": "code",
   "execution_count": 86,
   "id": "0c92ca58",
   "metadata": {},
   "outputs": [],
   "source": [
    "#kwargs\n",
    "\n",
    "def kwargs(**kwargs):\n",
    "    for key,value in kwargs.items():\n",
    "        print(key,value)"
   ]
  },
  {
   "cell_type": "code",
   "execution_count": 88,
   "id": "02286c10",
   "metadata": {},
   "outputs": [
    {
     "name": "stdout",
     "output_type": "stream",
     "text": [
      "name ['Adyasha', 'Adya']\n",
      "occupation ['student', 'engineer']\n"
     ]
    }
   ],
   "source": [
    "kwargs(name=['Adyasha','Adya'],occupation=['student','engineer'])\n"
   ]
  },
  {
   "cell_type": "code",
   "execution_count": 90,
   "id": "a7311a9d",
   "metadata": {},
   "outputs": [
    {
     "name": "stdout",
     "output_type": "stream",
     "text": [
      "age [25, 30, 45]\n",
      "salary [25000, 30000, 45000]\n"
     ]
    }
   ],
   "source": [
    "def sal(**kwargs):\n",
    "    for k,v in kwargs.items():\n",
    "        print(k,v)\n",
    "        \n",
    "sal_fun=sal(age=[25,30,45],salary=[25000,30000,45000])"
   ]
  },
  {
   "cell_type": "code",
   "execution_count": 94,
   "id": "e83a910f",
   "metadata": {},
   "outputs": [
    {
     "ename": "NameError",
     "evalue": "name 'age' is not defined",
     "output_type": "error",
     "traceback": [
      "\u001b[1;31m---------------------------------------------------------------------------\u001b[0m",
      "\u001b[1;31mNameError\u001b[0m                                 Traceback (most recent call last)",
      "\u001b[1;32m~\\AppData\\Local\\Temp\\ipykernel_8204\\907386841.py\u001b[0m in \u001b[0;36m<module>\u001b[1;34m\u001b[0m\n\u001b[1;32m----> 1\u001b[1;33m \u001b[1;32mfor\u001b[0m \u001b[0mi\u001b[0m \u001b[1;32min\u001b[0m \u001b[0mage\u001b[0m\u001b[1;33m(\u001b[0m\u001b[1;33m)\u001b[0m\u001b[1;33m:\u001b[0m\u001b[1;33m\u001b[0m\u001b[1;33m\u001b[0m\u001b[0m\n\u001b[0m\u001b[0;32m      2\u001b[0m     \u001b[1;32mif\u001b[0m \u001b[0mi\u001b[0m\u001b[1;33m==\u001b[0m\u001b[1;36m30\u001b[0m\u001b[1;33m:\u001b[0m\u001b[1;33m\u001b[0m\u001b[1;33m\u001b[0m\u001b[0m\n\u001b[0;32m      3\u001b[0m         \u001b[0mprint\u001b[0m\u001b[1;33m(\u001b[0m\u001b[1;34m'Age'\u001b[0m\u001b[1;33m,\u001b[0m\u001b[0mi\u001b[0m\u001b[1;33m)\u001b[0m\u001b[1;33m\u001b[0m\u001b[1;33m\u001b[0m\u001b[0m\n\u001b[0;32m      4\u001b[0m \u001b[1;32mfor\u001b[0m \u001b[0mj\u001b[0m \u001b[1;32min\u001b[0m \u001b[0msalary\u001b[0m\u001b[1;33m(\u001b[0m\u001b[1;33m)\u001b[0m\u001b[1;33m:\u001b[0m\u001b[1;33m\u001b[0m\u001b[1;33m\u001b[0m\u001b[0m\n\u001b[0;32m      5\u001b[0m     \u001b[1;32mif\u001b[0m \u001b[0mj\u001b[0m\u001b[1;33m==\u001b[0m\u001b[1;36m45000\u001b[0m\u001b[1;33m:\u001b[0m\u001b[1;33m\u001b[0m\u001b[1;33m\u001b[0m\u001b[0m\n",
      "\u001b[1;31mNameError\u001b[0m: name 'age' is not defined"
     ]
    }
   ],
   "source": [
    "for i in age():\n",
    "    if i==30:\n",
    "        print('Age',i)\n",
    "for j in salary():\n",
    "    if j==45000:\n",
    "        print('Salary',j)"
   ]
  },
  {
   "cell_type": "code",
   "execution_count": null,
   "id": "089c9278",
   "metadata": {},
   "outputs": [],
   "source": []
  },
  {
   "cell_type": "markdown",
   "id": "4c18bca9",
   "metadata": {},
   "source": [
    "### GLOBAL VARIALBE AND LOCAL VARIABLE"
   ]
  },
  {
   "cell_type": "code",
   "execution_count": 1,
   "id": "706289e1",
   "metadata": {},
   "outputs": [],
   "source": [
    "x=23"
   ]
  },
  {
   "cell_type": "code",
   "execution_count": 2,
   "id": "a8a6b53f",
   "metadata": {},
   "outputs": [
    {
     "data": {
      "text/plain": [
       "23"
      ]
     },
     "execution_count": 2,
     "metadata": {},
     "output_type": "execute_result"
    }
   ],
   "source": [
    "x"
   ]
  },
  {
   "cell_type": "code",
   "execution_count": 3,
   "id": "4b1b2704",
   "metadata": {},
   "outputs": [],
   "source": [
    "def fun():\n",
    "    a=233\n",
    "    print(a)"
   ]
  },
  {
   "cell_type": "code",
   "execution_count": 4,
   "id": "67f22ab4",
   "metadata": {},
   "outputs": [
    {
     "name": "stdout",
     "output_type": "stream",
     "text": [
      "233\n"
     ]
    }
   ],
   "source": [
    "fun()"
   ]
  },
  {
   "cell_type": "code",
   "execution_count": 13,
   "id": "71ee1d55",
   "metadata": {},
   "outputs": [],
   "source": [
    "def fun():\n",
    "    print(x)\n",
    "    a=234\n",
    "    print(a)\n",
    "    x=3266\n",
    "    print(x)"
   ]
  },
  {
   "cell_type": "code",
   "execution_count": 14,
   "id": "485706a4",
   "metadata": {},
   "outputs": [
    {
     "ename": "UnboundLocalError",
     "evalue": "local variable 'x' referenced before assignment",
     "output_type": "error",
     "traceback": [
      "\u001b[1;31m---------------------------------------------------------------------------\u001b[0m",
      "\u001b[1;31mUnboundLocalError\u001b[0m                         Traceback (most recent call last)",
      "\u001b[1;32m~\\AppData\\Local\\Temp\\ipykernel_912\\529771688.py\u001b[0m in \u001b[0;36m<module>\u001b[1;34m\u001b[0m\n\u001b[1;32m----> 1\u001b[1;33m \u001b[0mfun\u001b[0m\u001b[1;33m(\u001b[0m\u001b[1;33m)\u001b[0m\u001b[1;33m\u001b[0m\u001b[1;33m\u001b[0m\u001b[0m\n\u001b[0m",
      "\u001b[1;32m~\\AppData\\Local\\Temp\\ipykernel_912\\2798126879.py\u001b[0m in \u001b[0;36mfun\u001b[1;34m()\u001b[0m\n\u001b[0;32m      1\u001b[0m \u001b[1;32mdef\u001b[0m \u001b[0mfun\u001b[0m\u001b[1;33m(\u001b[0m\u001b[1;33m)\u001b[0m\u001b[1;33m:\u001b[0m\u001b[1;33m\u001b[0m\u001b[1;33m\u001b[0m\u001b[0m\n\u001b[1;32m----> 2\u001b[1;33m     \u001b[0mprint\u001b[0m\u001b[1;33m(\u001b[0m\u001b[0mx\u001b[0m\u001b[1;33m)\u001b[0m\u001b[1;33m\u001b[0m\u001b[1;33m\u001b[0m\u001b[0m\n\u001b[0m\u001b[0;32m      3\u001b[0m     \u001b[0ma\u001b[0m\u001b[1;33m=\u001b[0m\u001b[1;36m234\u001b[0m\u001b[1;33m\u001b[0m\u001b[1;33m\u001b[0m\u001b[0m\n\u001b[0;32m      4\u001b[0m     \u001b[0mprint\u001b[0m\u001b[1;33m(\u001b[0m\u001b[0ma\u001b[0m\u001b[1;33m)\u001b[0m\u001b[1;33m\u001b[0m\u001b[1;33m\u001b[0m\u001b[0m\n\u001b[0;32m      5\u001b[0m     \u001b[0mx\u001b[0m\u001b[1;33m=\u001b[0m\u001b[1;36m3266\u001b[0m\u001b[1;33m\u001b[0m\u001b[1;33m\u001b[0m\u001b[0m\n",
      "\u001b[1;31mUnboundLocalError\u001b[0m: local variable 'x' referenced before assignment"
     ]
    }
   ],
   "source": [
    "fun()"
   ]
  },
  {
   "cell_type": "code",
   "execution_count": 12,
   "id": "6466845c",
   "metadata": {},
   "outputs": [
    {
     "ename": "NameError",
     "evalue": "name 'a' is not defined",
     "output_type": "error",
     "traceback": [
      "\u001b[1;31m---------------------------------------------------------------------------\u001b[0m",
      "\u001b[1;31mNameError\u001b[0m                                 Traceback (most recent call last)",
      "\u001b[1;32m~\\AppData\\Local\\Temp\\ipykernel_912\\2167009006.py\u001b[0m in \u001b[0;36m<module>\u001b[1;34m\u001b[0m\n\u001b[1;32m----> 1\u001b[1;33m \u001b[0ma\u001b[0m\u001b[1;33m\u001b[0m\u001b[1;33m\u001b[0m\u001b[0m\n\u001b[0m",
      "\u001b[1;31mNameError\u001b[0m: name 'a' is not defined"
     ]
    }
   ],
   "source": [
    "a"
   ]
  },
  {
   "cell_type": "code",
   "execution_count": 15,
   "id": "7f5218c4",
   "metadata": {},
   "outputs": [],
   "source": [
    "def funadd():\n",
    "    a=10\n",
    "    b=463\n",
    "    c=a+b\n",
    "    print(c)"
   ]
  },
  {
   "cell_type": "code",
   "execution_count": null,
   "id": "af7b3d13",
   "metadata": {},
   "outputs": [],
   "source": []
  },
  {
   "cell_type": "code",
   "execution_count": 22,
   "id": "48f72aaf",
   "metadata": {},
   "outputs": [],
   "source": [
    "d=funadd()"
   ]
  },
  {
   "cell_type": "code",
   "execution_count": 23,
   "id": "3d29ec16",
   "metadata": {},
   "outputs": [
    {
     "data": {
      "text/plain": [
       "789"
      ]
     },
     "execution_count": 23,
     "metadata": {},
     "output_type": "execute_result"
    }
   ],
   "source": [
    "d"
   ]
  },
  {
   "cell_type": "code",
   "execution_count": 16,
   "id": "16b515f6",
   "metadata": {},
   "outputs": [
    {
     "name": "stdout",
     "output_type": "stream",
     "text": [
      "473\n"
     ]
    }
   ],
   "source": [
    "funadd()"
   ]
  },
  {
   "cell_type": "code",
   "execution_count": 17,
   "id": "37839880",
   "metadata": {},
   "outputs": [],
   "source": [
    "def funadd():\n",
    "    a=443\n",
    "    b=346\n",
    "    c=a+b\n",
    "    return c"
   ]
  },
  {
   "cell_type": "code",
   "execution_count": 18,
   "id": "9178517c",
   "metadata": {},
   "outputs": [
    {
     "data": {
      "text/plain": [
       "789"
      ]
     },
     "execution_count": 18,
     "metadata": {},
     "output_type": "execute_result"
    }
   ],
   "source": [
    "funadd()"
   ]
  },
  {
   "cell_type": "code",
   "execution_count": 19,
   "id": "1ebf4570",
   "metadata": {},
   "outputs": [],
   "source": [
    "k=funadd()"
   ]
  },
  {
   "cell_type": "code",
   "execution_count": 20,
   "id": "3e3d3afb",
   "metadata": {},
   "outputs": [
    {
     "data": {
      "text/plain": [
       "789"
      ]
     },
     "execution_count": 20,
     "metadata": {},
     "output_type": "execute_result"
    }
   ],
   "source": [
    "k"
   ]
  },
  {
   "cell_type": "code",
   "execution_count": 26,
   "id": "e586fb79",
   "metadata": {},
   "outputs": [
    {
     "ename": "NameError",
     "evalue": "name 'b' is not defined",
     "output_type": "error",
     "traceback": [
      "\u001b[1;31m---------------------------------------------------------------------------\u001b[0m",
      "\u001b[1;31mNameError\u001b[0m                                 Traceback (most recent call last)",
      "\u001b[1;32m~\\AppData\\Local\\Temp\\ipykernel_912\\1266785725.py\u001b[0m in \u001b[0;36m<module>\u001b[1;34m\u001b[0m\n\u001b[0;32m      1\u001b[0m \u001b[0mlength\u001b[0m\u001b[1;33m=\u001b[0m\u001b[1;36m234\u001b[0m\u001b[1;33m\u001b[0m\u001b[1;33m\u001b[0m\u001b[0m\n\u001b[1;32m----> 2\u001b[1;33m \u001b[0marea\u001b[0m\u001b[1;33m=\u001b[0m\u001b[0mlength\u001b[0m\u001b[1;33m*\u001b[0m\u001b[0mb\u001b[0m\u001b[1;33m\u001b[0m\u001b[1;33m\u001b[0m\u001b[0m\n\u001b[0m\u001b[0;32m      3\u001b[0m \u001b[0mprint\u001b[0m\u001b[1;33m(\u001b[0m\u001b[0marea\u001b[0m\u001b[1;33m)\u001b[0m\u001b[1;33m\u001b[0m\u001b[1;33m\u001b[0m\u001b[0m\n",
      "\u001b[1;31mNameError\u001b[0m: name 'b' is not defined"
     ]
    }
   ],
   "source": [
    "length=234\n",
    "area=length*b\n",
    "print(area)"
   ]
  },
  {
   "cell_type": "code",
   "execution_count": 33,
   "id": "e5d4cc1f",
   "metadata": {},
   "outputs": [],
   "source": [
    "def fun1():\n",
    "    l=23\n",
    "    b=35\n",
    "    are=l*b\n",
    "    return are\n",
    "    print('area = ',are)"
   ]
  },
  {
   "cell_type": "code",
   "execution_count": 34,
   "id": "51d244ca",
   "metadata": {},
   "outputs": [
    {
     "data": {
      "text/plain": [
       "805"
      ]
     },
     "execution_count": 34,
     "metadata": {},
     "output_type": "execute_result"
    }
   ],
   "source": [
    "fun1()"
   ]
  },
  {
   "cell_type": "code",
   "execution_count": 35,
   "id": "251b9ec3",
   "metadata": {},
   "outputs": [],
   "source": [
    "def circlearea():\n",
    "    pi=3.14\n",
    "    red=56\n",
    "    carea=pi*red**2\n",
    "    print('area of circle = ',carea)\n",
    "    return carea"
   ]
  },
  {
   "cell_type": "code",
   "execution_count": 36,
   "id": "f025d2e6",
   "metadata": {},
   "outputs": [
    {
     "name": "stdout",
     "output_type": "stream",
     "text": [
      "area of circle =  9847.04\n"
     ]
    },
    {
     "data": {
      "text/plain": [
       "9847.04"
      ]
     },
     "execution_count": 36,
     "metadata": {},
     "output_type": "execute_result"
    }
   ],
   "source": [
    "circlearea()"
   ]
  },
  {
   "cell_type": "code",
   "execution_count": null,
   "id": "9768241b",
   "metadata": {},
   "outputs": [],
   "source": [
    "#we can also hold the value of one function in another function\n",
    "\n",
    "def outerfunction():\n",
    "    \n",
    "    "
   ]
  },
  {
   "cell_type": "code",
   "execution_count": 37,
   "id": "d6b367e8",
   "metadata": {},
   "outputs": [],
   "source": [
    "def ff():\n",
    "    for i in range(10):\n",
    "        if i==5:\n",
    "            print(i)"
   ]
  },
  {
   "cell_type": "code",
   "execution_count": 38,
   "id": "3ad3a440",
   "metadata": {},
   "outputs": [
    {
     "name": "stdout",
     "output_type": "stream",
     "text": [
      "5\n"
     ]
    }
   ],
   "source": [
    "ff()"
   ]
  },
  {
   "cell_type": "code",
   "execution_count": 44,
   "id": "f2ca6651",
   "metadata": {},
   "outputs": [],
   "source": [
    "def ff():\n",
    "    for i in range(10):\n",
    "        if i==5:\n",
    "            return"
   ]
  },
  {
   "cell_type": "code",
   "execution_count": 45,
   "id": "6b71c256",
   "metadata": {},
   "outputs": [],
   "source": [
    "ff()"
   ]
  },
  {
   "cell_type": "code",
   "execution_count": 46,
   "id": "401373cc",
   "metadata": {},
   "outputs": [],
   "source": [
    "def ff():\n",
    "    for i in range(10):\n",
    "        if i==5:\n",
    "            return i"
   ]
  },
  {
   "cell_type": "code",
   "execution_count": 47,
   "id": "33e93bc0",
   "metadata": {},
   "outputs": [
    {
     "data": {
      "text/plain": [
       "5"
      ]
     },
     "execution_count": 47,
     "metadata": {},
     "output_type": "execute_result"
    }
   ],
   "source": [
    "ff()"
   ]
  },
  {
   "cell_type": "code",
   "execution_count": 48,
   "id": "9d008719",
   "metadata": {},
   "outputs": [],
   "source": [
    "def ff():\n",
    "    for i in range(10):\n",
    "        if i==5:\n",
    "            return\n",
    "        print(i)"
   ]
  },
  {
   "cell_type": "code",
   "execution_count": 49,
   "id": "29d6ff9e",
   "metadata": {},
   "outputs": [
    {
     "name": "stdout",
     "output_type": "stream",
     "text": [
      "0\n",
      "1\n",
      "2\n",
      "3\n",
      "4\n"
     ]
    }
   ],
   "source": [
    "ff()"
   ]
  },
  {
   "cell_type": "code",
   "execution_count": 50,
   "id": "ef6f2a94",
   "metadata": {},
   "outputs": [],
   "source": [
    "def ff():\n",
    "    for i in range(10):\n",
    "        if i==5:\n",
    "            return\n",
    "    print(i)"
   ]
  },
  {
   "cell_type": "code",
   "execution_count": 51,
   "id": "8de5a30f",
   "metadata": {},
   "outputs": [],
   "source": [
    "ff()"
   ]
  },
  {
   "cell_type": "code",
   "execution_count": null,
   "id": "64b5b5c3",
   "metadata": {},
   "outputs": [],
   "source": []
  },
  {
   "cell_type": "markdown",
   "id": "8bf95eb2",
   "metadata": {},
   "source": [
    "Temprature Conversion"
   ]
  },
  {
   "cell_type": "code",
   "execution_count": 4,
   "id": "40d39d05",
   "metadata": {},
   "outputs": [],
   "source": [
    "def temp_far_cel(temp):\n",
    "    return ((9/5)*temp+32)\n"
   ]
  },
  {
   "cell_type": "code",
   "execution_count": 5,
   "id": "ecffa6aa",
   "metadata": {},
   "outputs": [
    {
     "data": {
      "text/plain": [
       "68.0"
      ]
     },
     "execution_count": 5,
     "metadata": {},
     "output_type": "execute_result"
    }
   ],
   "source": [
    "temp_far_cel(20)"
   ]
  },
  {
   "cell_type": "code",
   "execution_count": 6,
   "id": "5d3c5d3c",
   "metadata": {},
   "outputs": [
    {
     "data": {
      "text/plain": [
       "93.2"
      ]
     },
     "execution_count": 6,
     "metadata": {},
     "output_type": "execute_result"
    }
   ],
   "source": [
    "temp_far_cel(34)"
   ]
  },
  {
   "cell_type": "code",
   "execution_count": 7,
   "id": "786b8f2f",
   "metadata": {},
   "outputs": [],
   "source": [
    "def cel_far(tempr):\n",
    "    return ((5/9)*tempr-32)"
   ]
  },
  {
   "cell_type": "code",
   "execution_count": 9,
   "id": "41e0f485",
   "metadata": {},
   "outputs": [
    {
     "data": {
      "text/plain": [
       "98.0"
      ]
     },
     "execution_count": 9,
     "metadata": {},
     "output_type": "execute_result"
    }
   ],
   "source": [
    "cel_far(234)"
   ]
  },
  {
   "cell_type": "code",
   "execution_count": 10,
   "id": "dd548b09",
   "metadata": {},
   "outputs": [
    {
     "data": {
      "text/plain": [
       "149.11111111111111"
      ]
     },
     "execution_count": 10,
     "metadata": {},
     "output_type": "execute_result"
    }
   ],
   "source": [
    "cel_far(326)"
   ]
  },
  {
   "cell_type": "code",
   "execution_count": 11,
   "id": "1d5c49ea",
   "metadata": {},
   "outputs": [],
   "source": []
  },
  {
   "cell_type": "code",
   "execution_count": 21,
   "id": "21b4725c",
   "metadata": {},
   "outputs": [
    {
     "data": {
      "text/plain": [
       "101.223"
      ]
     },
     "execution_count": 21,
     "metadata": {},
     "output_type": "execute_result"
    }
   ],
   "source": [
    "tc(24.235)"
   ]
  },
  {
   "cell_type": "code",
   "execution_count": 23,
   "id": "91bd7c47",
   "metadata": {},
   "outputs": [
    {
     "data": {
      "text/plain": [
       "101.96"
      ]
     },
     "execution_count": 23,
     "metadata": {},
     "output_type": "execute_result"
    }
   ],
   "source": [
    "round(tc(24.645),2)"
   ]
  },
  {
   "cell_type": "code",
   "execution_count": null,
   "id": "3357b932",
   "metadata": {},
   "outputs": [],
   "source": []
  },
  {
   "cell_type": "code",
   "execution_count": 13,
   "id": "49be4e9f",
   "metadata": {},
   "outputs": [],
   "source": [
    "tz=[23,45,63,21,45,68,91]\n",
    "tc1=lambda t:((5/9)*(t-32),tz)"
   ]
  },
  {
   "cell_type": "code",
   "execution_count": 24,
   "id": "522a4d86",
   "metadata": {},
   "outputs": [
    {
     "ename": "NameError",
     "evalue": "name 'tc1' is not defined",
     "output_type": "error",
     "traceback": [
      "\u001b[1;31m---------------------------------------------------------------------------\u001b[0m",
      "\u001b[1;31mNameError\u001b[0m                                 Traceback (most recent call last)",
      "\u001b[1;32m~\\AppData\\Local\\Temp\\ipykernel_13932\\2556128548.py\u001b[0m in \u001b[0;36m<module>\u001b[1;34m\u001b[0m\n\u001b[1;32m----> 1\u001b[1;33m \u001b[0mtc1\u001b[0m\u001b[1;33m\u001b[0m\u001b[1;33m\u001b[0m\u001b[0m\n\u001b[0m",
      "\u001b[1;31mNameError\u001b[0m: name 'tc1' is not defined"
     ]
    }
   ],
   "source": [
    "tc1"
   ]
  },
  {
   "cell_type": "code",
   "execution_count": 15,
   "id": "7e99793c",
   "metadata": {},
   "outputs": [],
   "source": [
    "tc=lambda t:((9/5)*(t+32))"
   ]
  },
  {
   "cell_type": "code",
   "execution_count": 16,
   "id": "2d92976a",
   "metadata": {},
   "outputs": [
    {
     "data": {
      "text/plain": [
       "194.4"
      ]
     },
     "execution_count": 16,
     "metadata": {},
     "output_type": "execute_result"
    }
   ],
   "source": [
    "tc(76)"
   ]
  },
  {
   "cell_type": "code",
   "execution_count": 32,
   "id": "cf91a8f1",
   "metadata": {},
   "outputs": [],
   "source": [
    "def testin():\n",
    "    x=int(input('enetr x'))\n",
    "    y=int(input('enter y'))\n",
    "    t=lambda x,y:x**y\n",
    "    return t(x,y)"
   ]
  },
  {
   "cell_type": "code",
   "execution_count": 33,
   "id": "9900ad01",
   "metadata": {},
   "outputs": [
    {
     "name": "stdout",
     "output_type": "stream",
     "text": [
      "enetr x23\n",
      "enter y2\n"
     ]
    },
    {
     "data": {
      "text/plain": [
       "529"
      ]
     },
     "execution_count": 33,
     "metadata": {},
     "output_type": "execute_result"
    }
   ],
   "source": [
    "testin()"
   ]
  },
  {
   "cell_type": "code",
   "execution_count": 30,
   "id": "a1ea7f4f",
   "metadata": {},
   "outputs": [],
   "source": [
    "def testin():\n",
    "    x=int(input('enetr x'))\n",
    "    y=int(input('enter y'))\n",
    "    t=lambda x,y:x**y\n",
    "    print(t(x,y))"
   ]
  },
  {
   "cell_type": "code",
   "execution_count": 31,
   "id": "bc2cb928",
   "metadata": {},
   "outputs": [
    {
     "name": "stdout",
     "output_type": "stream",
     "text": [
      "enetr x12\n",
      "enter y2\n",
      "144\n"
     ]
    }
   ],
   "source": [
    "testin()"
   ]
  },
  {
   "cell_type": "code",
   "execution_count": 34,
   "id": "22ee7696",
   "metadata": {},
   "outputs": [],
   "source": [
    "celcius =lambda t:(9/5)*t+32"
   ]
  },
  {
   "cell_type": "code",
   "execution_count": 36,
   "id": "c627f301",
   "metadata": {},
   "outputs": [
    {
     "data": {
      "text/plain": [
       "89.6"
      ]
     },
     "execution_count": 36,
     "metadata": {},
     "output_type": "execute_result"
    }
   ],
   "source": [
    "celcius(32)"
   ]
  },
  {
   "cell_type": "code",
   "execution_count": 37,
   "id": "b5014eba",
   "metadata": {},
   "outputs": [],
   "source": [
    "faren=lambda t:(5/9)*t-32"
   ]
  },
  {
   "cell_type": "code",
   "execution_count": 38,
   "id": "e5eee479",
   "metadata": {},
   "outputs": [
    {
     "data": {
      "text/plain": [
       "98.0"
      ]
     },
     "execution_count": 38,
     "metadata": {},
     "output_type": "execute_result"
    }
   ],
   "source": [
    "faren(234)"
   ]
  },
  {
   "cell_type": "code",
   "execution_count": 39,
   "id": "41c1609c",
   "metadata": {},
   "outputs": [],
   "source": [
    "tz=[23,45,63,21,45,68,91]\n",
    "tc=lambda t:((5/9)*(t-32))"
   ]
  },
  {
   "cell_type": "code",
   "execution_count": 40,
   "id": "2870967b",
   "metadata": {},
   "outputs": [
    {
     "data": {
      "text/plain": [
       "<function __main__.<lambda>(t)>"
      ]
     },
     "execution_count": 40,
     "metadata": {},
     "output_type": "execute_result"
    }
   ],
   "source": [
    "tc"
   ]
  },
  {
   "cell_type": "markdown",
   "id": "720ea679",
   "metadata": {},
   "source": [
    "MAP IN LAMBDA"
   ]
  },
  {
   "cell_type": "code",
   "execution_count": 42,
   "id": "138a9b79",
   "metadata": {},
   "outputs": [],
   "source": [
    "f=map(lambda x:x+2,tz)"
   ]
  },
  {
   "cell_type": "code",
   "execution_count": 43,
   "id": "884ab253",
   "metadata": {},
   "outputs": [
    {
     "data": {
      "text/plain": [
       "<map at 0x1758b014ac0>"
      ]
     },
     "execution_count": 43,
     "metadata": {},
     "output_type": "execute_result"
    }
   ],
   "source": [
    "f"
   ]
  },
  {
   "cell_type": "code",
   "execution_count": 44,
   "id": "63048a98",
   "metadata": {},
   "outputs": [],
   "source": [
    "f=list(map(lambda x:x+2,tz))"
   ]
  },
  {
   "cell_type": "code",
   "execution_count": 45,
   "id": "1d836e12",
   "metadata": {},
   "outputs": [
    {
     "data": {
      "text/plain": [
       "[25, 47, 65, 23, 47, 70, 93]"
      ]
     },
     "execution_count": 45,
     "metadata": {},
     "output_type": "execute_result"
    }
   ],
   "source": [
    "f"
   ]
  },
  {
   "cell_type": "code",
   "execution_count": 57,
   "id": "0b974425",
   "metadata": {},
   "outputs": [],
   "source": [
    "temprature=list(map(lambda t:((9/5)*t+32),f))"
   ]
  },
  {
   "cell_type": "code",
   "execution_count": 58,
   "id": "4e334502",
   "metadata": {},
   "outputs": [
    {
     "name": "stdout",
     "output_type": "stream",
     "text": [
      "[77.0, 116.60000000000001, 149.0, 73.4, 116.60000000000001, 158.0, 199.4]\n"
     ]
    }
   ],
   "source": [
    "print(temprature)"
   ]
  },
  {
   "cell_type": "code",
   "execution_count": 60,
   "id": "17272dea",
   "metadata": {},
   "outputs": [],
   "source": [
    "newlist=[round(x,2) for x in temprature]"
   ]
  },
  {
   "cell_type": "code",
   "execution_count": 61,
   "id": "4e5df95d",
   "metadata": {},
   "outputs": [
    {
     "data": {
      "text/plain": [
       "[77.0, 116.6, 149.0, 73.4, 116.6, 158.0, 199.4]"
      ]
     },
     "execution_count": 61,
     "metadata": {},
     "output_type": "execute_result"
    }
   ],
   "source": [
    "newlist"
   ]
  },
  {
   "cell_type": "code",
   "execution_count": 64,
   "id": "0fc7518a",
   "metadata": {},
   "outputs": [],
   "source": [
    "list1=['%.2f' % j for j in temprature]"
   ]
  },
  {
   "cell_type": "code",
   "execution_count": 65,
   "id": "513a6637",
   "metadata": {},
   "outputs": [
    {
     "data": {
      "text/plain": [
       "['77.00', '116.60', '149.00', '73.40', '116.60', '158.00', '199.40']"
      ]
     },
     "execution_count": 65,
     "metadata": {},
     "output_type": "execute_result"
    }
   ],
   "source": [
    "list1"
   ]
  },
  {
   "cell_type": "code",
   "execution_count": null,
   "id": "5339e427",
   "metadata": {},
   "outputs": [],
   "source": []
  },
  {
   "cell_type": "markdown",
   "id": "d2a14ebf",
   "metadata": {},
   "source": [
    "# FILTER IN LAMBDA"
   ]
  },
  {
   "cell_type": "code",
   "execution_count": 66,
   "id": "08009e62",
   "metadata": {},
   "outputs": [
    {
     "data": {
      "text/plain": [
       "[2, 3, 4, 5, 5]"
      ]
     },
     "execution_count": 66,
     "metadata": {},
     "output_type": "execute_result"
    }
   ],
   "source": [
    "mylist=[1,2,3,4,5,5]\n",
    "list(filter(lambda x:x>1 ,mylist))"
   ]
  },
  {
   "cell_type": "code",
   "execution_count": 67,
   "id": "f0ed4a4e",
   "metadata": {},
   "outputs": [
    {
     "data": {
      "text/plain": [
       "[2, 4, 6, 8, 10, 12, 14, 16, 18]"
      ]
     },
     "execution_count": 67,
     "metadata": {},
     "output_type": "execute_result"
    }
   ],
   "source": [
    "even=lambda x:x%2==0\n",
    "list(filter(even,range(2,20)))"
   ]
  },
  {
   "cell_type": "code",
   "execution_count": 68,
   "id": "21338814",
   "metadata": {},
   "outputs": [
    {
     "data": {
      "text/plain": [
       "[2, 4, 6, 8, 10, 12, 14, 16, 18]"
      ]
     },
     "execution_count": 68,
     "metadata": {},
     "output_type": "execute_result"
    }
   ],
   "source": [
    "#it can also be done by list comprehension\n",
    "[x for x in range(2,20) if x%2==0]"
   ]
  },
  {
   "cell_type": "code",
   "execution_count": null,
   "id": "789ab4e1",
   "metadata": {},
   "outputs": [],
   "source": []
  },
  {
   "cell_type": "markdown",
   "id": "0054001f",
   "metadata": {},
   "source": [
    "# OOPS: OBJECT ORIENTED PROGRAMMING SYSTEM "
   ]
  },
  {
   "cell_type": "code",
   "execution_count": 1,
   "id": "4c2f015a",
   "metadata": {},
   "outputs": [],
   "source": [
    "class Student():\n",
    "    def __init__(self,rollno,name):                         #constructor to initialize\n",
    "        self.rollno=rollno\n",
    "        self.name=name\n",
    "    def display(self):\n",
    "        print('roll :',self.rollno,'and name :',self.name)"
   ]
  },
  {
   "cell_type": "code",
   "execution_count": 2,
   "id": "7b678dd9",
   "metadata": {},
   "outputs": [
    {
     "name": "stdout",
     "output_type": "stream",
     "text": [
      "roll : 101 and name : Adyasha\n"
     ]
    }
   ],
   "source": [
    "st1=Student(101,'Adyasha')\n",
    "st1.display()"
   ]
  },
  {
   "cell_type": "code",
   "execution_count": 3,
   "id": "cf8367d5",
   "metadata": {},
   "outputs": [
    {
     "name": "stdout",
     "output_type": "stream",
     "text": [
      "roll : 102 and name : Bunny\n"
     ]
    }
   ],
   "source": [
    "st2=Student(102,'Bunny')\n",
    "st2.display()"
   ]
  },
  {
   "cell_type": "code",
   "execution_count": 4,
   "id": "b3582381",
   "metadata": {},
   "outputs": [
    {
     "name": "stdout",
     "output_type": "stream",
     "text": [
      "roll : 103 and name : XYZ\n"
     ]
    }
   ],
   "source": [
    "st3=Student(103,'XYZ')\n",
    "st3.display()"
   ]
  },
  {
   "cell_type": "code",
   "execution_count": 5,
   "id": "27371e0b",
   "metadata": {},
   "outputs": [],
   "source": [
    "class Employee():\n",
    "    def __init__(self,name,age,salary,dept):\n",
    "        self.name=name\n",
    "        self.age=age\n",
    "        self.salary=salary\n",
    "        self.dept=dept\n",
    "    def empdata(self):\n",
    "        print('Employee Name = ',self.name)\n",
    "        print('Employee Age = ',self.age)\n",
    "        print('Employee Salary = ',self.salary)\n",
    "        print('Employee Department = ',self.dept)"
   ]
  },
  {
   "cell_type": "code",
   "execution_count": 6,
   "id": "cd19c8c8",
   "metadata": {},
   "outputs": [
    {
     "name": "stdout",
     "output_type": "stream",
     "text": [
      "Employee Name =  Adyasha\n",
      "Employee Age =  24\n",
      "Employee Salary =  132900\n",
      "Employee Department =  Data Science\n"
     ]
    }
   ],
   "source": [
    "empid1=Employee('Adyasha',24,132900,'Data Science')\n",
    "empid1.empdata()"
   ]
  },
  {
   "cell_type": "code",
   "execution_count": 7,
   "id": "038f7ada",
   "metadata": {},
   "outputs": [
    {
     "name": "stdout",
     "output_type": "stream",
     "text": [
      "Employee Name =  Bunny\n",
      "Employee Age =  31\n",
      "Employee Salary =  213871\n",
      "Employee Department =  Transportation\n"
     ]
    }
   ],
   "source": [
    "empid2=Employee('Bunny',31,213871,'Transportation')\n",
    "empid2.empdata()"
   ]
  },
  {
   "cell_type": "code",
   "execution_count": 18,
   "id": "d4df9153",
   "metadata": {},
   "outputs": [],
   "source": [
    "class Company():\n",
    "    company_name='Microsoft'\n",
    "    def __init__(self,name,iid,salary,dept):\n",
    "        self.name=name\n",
    "        self.iid=iid\n",
    "        self.salary=salary\n",
    "        self.dept=dept\n",
    "    def display_data(self):\n",
    "        print('Name = ',self.name)\n",
    "        print('Id = ',self.iid)\n",
    "        print('Salary = ',self.salary)\n",
    "        print('Department = ',self.dept)"
   ]
  },
  {
   "cell_type": "code",
   "execution_count": 19,
   "id": "f34a9a20",
   "metadata": {},
   "outputs": [
    {
     "name": "stdout",
     "output_type": "stream",
     "text": [
      "Name =  Adyasha\n",
      "Id =  101\n",
      "Salary =  2317122\n",
      "Department =  Datascience\n"
     ]
    },
    {
     "data": {
      "text/plain": [
       "'Microsoft'"
      ]
     },
     "execution_count": 19,
     "metadata": {},
     "output_type": "execute_result"
    }
   ],
   "source": [
    "emp1=Company('Adyasha',101,2317122,'Datascience')\n",
    "emp1.display_data()\n",
    "Company.company_name"
   ]
  },
  {
   "cell_type": "code",
   "execution_count": 23,
   "id": "9a69fefd",
   "metadata": {},
   "outputs": [],
   "source": [
    "class Car():\n",
    "    brand='internatonal'\n",
    "    def __init__(self,name,colour):\n",
    "        self.name=name\n",
    "        self.colour=colour"
   ]
  },
  {
   "cell_type": "code",
   "execution_count": 27,
   "id": "98c2e820",
   "metadata": {},
   "outputs": [
    {
     "name": "stdout",
     "output_type": "stream",
     "text": [
      "Audi\n",
      "white\n"
     ]
    },
    {
     "data": {
      "text/plain": [
       "'internatonal'"
      ]
     },
     "execution_count": 27,
     "metadata": {},
     "output_type": "execute_result"
    }
   ],
   "source": [
    "C=Car('Audi','white')\n",
    "print(C.name)\n",
    "print(C.colour)\n",
    "Car.brand"
   ]
  },
  {
   "cell_type": "code",
   "execution_count": 29,
   "id": "50f3cd60",
   "metadata": {},
   "outputs": [],
   "source": [
    "class Campus():\n",
    "    strength='9000'\n",
    "    def __init__(self,name,no,branch):\n",
    "        self.name=name\n",
    "        self.no=no\n",
    "        self.branch=branch\n",
    "        \n",
    "    def show(self):\n",
    "        print('Name = ',self.name,'Number = ',self.no,'Branch = ',self.branch)"
   ]
  },
  {
   "cell_type": "code",
   "execution_count": 34,
   "id": "a87e5737",
   "metadata": {},
   "outputs": [],
   "source": [
    "def main():\n",
    "    c=Campus('Shell',1,'Asterdam')\n",
    "    c.show()"
   ]
  },
  {
   "cell_type": "code",
   "execution_count": 35,
   "id": "beb2df7c",
   "metadata": {},
   "outputs": [
    {
     "name": "stdout",
     "output_type": "stream",
     "text": [
      "Name =  Shell Number =  1 Branch =  Asterdam\n"
     ]
    },
    {
     "data": {
      "text/plain": [
       "'9000'"
      ]
     },
     "execution_count": 35,
     "metadata": {},
     "output_type": "execute_result"
    }
   ],
   "source": [
    "if __name__==\"__main__\":\n",
    "    main()\n",
    "Campus.strength"
   ]
  },
  {
   "cell_type": "code",
   "execution_count": 1,
   "id": "c6d187d2",
   "metadata": {},
   "outputs": [],
   "source": [
    "class School():\n",
    "    def __init__(self,call,branch):\n",
    "        self.call=call\n",
    "        self.branch=branch\n",
    "    def shows(self):\n",
    "        print('name',self.call,'Branch',self.branch)"
   ]
  },
  {
   "cell_type": "code",
   "execution_count": 2,
   "id": "22ece535",
   "metadata": {},
   "outputs": [],
   "source": [
    "def main():\n",
    "    S=School('DAV','BBSR')\n",
    "    S.shows()"
   ]
  },
  {
   "cell_type": "code",
   "execution_count": 3,
   "id": "4ce9abce",
   "metadata": {},
   "outputs": [
    {
     "name": "stdout",
     "output_type": "stream",
     "text": [
      "name DAV Branch BBSR\n"
     ]
    }
   ],
   "source": [
    "if __name__=='__main__':\n",
    "    main()"
   ]
  },
  {
   "cell_type": "code",
   "execution_count": 6,
   "id": "0e4427a7",
   "metadata": {},
   "outputs": [
    {
     "name": "stdout",
     "output_type": "stream",
     "text": [
      "this is  MS Dhoni he is  43 he plays  Cricket\n",
      "this is  Sunil Chettri he is  45 he plays  Football\n"
     ]
    }
   ],
   "source": [
    "#getdata and displaydata\n",
    "\n",
    "class Sports():\n",
    "    \n",
    "    def __init__(self,name,age,field):\n",
    "        self.name=name\n",
    "        self.age=age\n",
    "        self.field=field\n",
    "        \n",
    "    def getdata(self,name,age,field):\n",
    "        #print('getdata values are printed')\n",
    "        self.name=name\n",
    "        self.age=age\n",
    "        self.field=field\n",
    "        \n",
    "    def displaydata(self):\n",
    "        print('this is ',self.name,'he is ',self.age,'he plays ',self.field)\n",
    "        \n",
    "def main():\n",
    "    s=Sports('MS Dhoni',43,'Cricket')\n",
    "    s.displaydata()\n",
    "    \n",
    "    s.getdata('Sunil Chettri',45,'Football')\n",
    "    s.displaydata()\n",
    "        \n",
    "if __name__==main():\n",
    "    main()\n",
    "\n",
    "\n",
    "    "
   ]
  },
  {
   "cell_type": "code",
   "execution_count": null,
   "id": "2945d09c",
   "metadata": {},
   "outputs": [],
   "source": []
  },
  {
   "cell_type": "markdown",
   "id": "054a0ccd",
   "metadata": {},
   "source": [
    "# MODULES"
   ]
  },
  {
   "cell_type": "code",
   "execution_count": null,
   "id": "e86f73f6",
   "metadata": {},
   "outputs": [],
   "source": []
  },
  {
   "cell_type": "code",
   "execution_count": 7,
   "id": "3e180c3b",
   "metadata": {},
   "outputs": [],
   "source": [
    "import keyword"
   ]
  },
  {
   "cell_type": "code",
   "execution_count": 8,
   "id": "6e5b599d",
   "metadata": {},
   "outputs": [
    {
     "name": "stdout",
     "output_type": "stream",
     "text": [
      "['False', 'None', 'True', '__peg_parser__', 'and', 'as', 'assert', 'async', 'await', 'break', 'class', 'continue', 'def', 'del', 'elif', 'else', 'except', 'finally', 'for', 'from', 'global', 'if', 'import', 'in', 'is', 'lambda', 'nonlocal', 'not', 'or', 'pass', 'raise', 'return', 'try', 'while', 'with', 'yield']\n"
     ]
    }
   ],
   "source": [
    "print(keyword.kwlist)"
   ]
  },
  {
   "cell_type": "code",
   "execution_count": 9,
   "id": "e2755039",
   "metadata": {},
   "outputs": [],
   "source": [
    "import sys"
   ]
  },
  {
   "cell_type": "code",
   "execution_count": 10,
   "id": "9b3262a8",
   "metadata": {},
   "outputs": [
    {
     "data": {
      "text/plain": [
       "['C:\\\\Users\\\\23ady',\n",
       " 'C:\\\\Users\\\\23ady\\\\anaconda3\\\\python39.zip',\n",
       " 'C:\\\\Users\\\\23ady\\\\anaconda3\\\\DLLs',\n",
       " 'C:\\\\Users\\\\23ady\\\\anaconda3\\\\lib',\n",
       " 'C:\\\\Users\\\\23ady\\\\anaconda3',\n",
       " '',\n",
       " 'C:\\\\Users\\\\23ady\\\\anaconda3\\\\lib\\\\site-packages',\n",
       " 'C:\\\\Users\\\\23ady\\\\anaconda3\\\\lib\\\\site-packages\\\\win32',\n",
       " 'C:\\\\Users\\\\23ady\\\\anaconda3\\\\lib\\\\site-packages\\\\win32\\\\lib',\n",
       " 'C:\\\\Users\\\\23ady\\\\anaconda3\\\\lib\\\\site-packages\\\\Pythonwin',\n",
       " 'C:\\\\Users\\\\23ady\\\\anaconda3\\\\lib\\\\site-packages\\\\IPython\\\\extensions',\n",
       " 'C:\\\\Users\\\\23ady\\\\.ipython']"
      ]
     },
     "execution_count": 10,
     "metadata": {},
     "output_type": "execute_result"
    }
   ],
   "source": [
    "sys.path"
   ]
  },
  {
   "cell_type": "code",
   "execution_count": 11,
   "id": "4289a841",
   "metadata": {},
   "outputs": [],
   "source": [
    "import os"
   ]
  },
  {
   "cell_type": "code",
   "execution_count": 12,
   "id": "5ad27824",
   "metadata": {},
   "outputs": [
    {
     "data": {
      "text/plain": [
       "dict_keys(['__name__', '__doc__', '__package__', '__loader__', '__spec__', '__file__', '__cached__', '__builtins__', 'abc', 'sys', 'st', '_check_methods', 'GenericAlias', '__all__', '_exists', '_get_exports_list', 'name', 'linesep', 'stat', 'access', 'chdir', 'chmod', 'getcwd', 'getcwdb', 'link', 'listdir', 'lstat', 'mkdir', 'readlink', 'rename', 'replace', 'rmdir', 'symlink', 'system', 'umask', 'unlink', 'remove', 'utime', 'times', 'execv', 'execve', 'spawnv', 'spawnve', 'getpid', 'getppid', 'getlogin', 'kill', 'startfile', 'waitpid', 'open', 'close', 'closerange', 'device_encoding', 'dup', 'dup2', 'lseek', 'read', 'write', 'fstat', 'isatty', 'pipe', 'ftruncate', 'truncate', 'putenv', 'unsetenv', 'strerror', 'fsync', 'abort', 'urandom', 'get_terminal_size', 'cpu_count', 'get_inheritable', 'set_inheritable', 'get_handle_inheritable', 'set_handle_inheritable', 'scandir', 'fspath', 'waitstatus_to_exitcode', 'environ', 'F_OK', 'R_OK', 'W_OK', 'X_OK', 'TMP_MAX', 'O_RDONLY', 'O_WRONLY', 'O_RDWR', 'O_APPEND', 'O_CREAT', 'O_EXCL', 'O_TRUNC', 'O_BINARY', 'O_TEXT', 'O_NOINHERIT', 'O_SHORT_LIVED', 'O_TEMPORARY', 'O_RANDOM', 'O_SEQUENTIAL', 'P_WAIT', 'P_NOWAIT', 'P_NOWAITO', 'P_OVERLAY', 'P_DETACH', 'error', 'stat_result', 'statvfs_result', 'terminal_size', 'DirEntry', 'times_result', 'uname_result', '_exit', 'path', 'curdir', 'pardir', 'sep', 'pathsep', 'defpath', 'extsep', 'altsep', 'devnull', 'supports_dir_fd', 'supports_effective_ids', 'supports_fd', 'supports_follow_symlinks', 'SEEK_SET', 'SEEK_CUR', 'SEEK_END', 'makedirs', 'removedirs', 'renames', 'walk', '_walk', 'execl', 'execle', 'execlp', 'execlpe', 'execvp', 'execvpe', '_execvpe', 'get_exec_path', 'MutableMapping', 'Mapping', '_Environ', 'getenv', 'supports_bytes_environ', 'fsencode', 'fsdecode', 'spawnl', 'spawnle', 'popen', '_wrap_close', 'fdopen', '_fspath', 'PathLike', '_AddedDllDirectory', 'add_dll_directory'])"
      ]
     },
     "execution_count": 12,
     "metadata": {},
     "output_type": "execute_result"
    }
   ],
   "source": [
    "os.__dict__.keys()"
   ]
  },
  {
   "cell_type": "code",
   "execution_count": 19,
   "id": "78bd7dbc",
   "metadata": {},
   "outputs": [
    {
     "data": {
      "text/plain": [
       "['.bash_history',\n",
       " '.cache',\n",
       " '.conda',\n",
       " '.condarc',\n",
       " '.continuum',\n",
       " '.eclipse',\n",
       " '.git',\n",
       " '.gitconfig',\n",
       " '.ipynb_checkpoints',\n",
       " '.ipython',\n",
       " '.jupyter',\n",
       " '.lesshst',\n",
       " '.matplotlib',\n",
       " '.p2',\n",
       " '.ssh',\n",
       " '.VirtualBox',\n",
       " 'abalone.csv',\n",
       " 'anaconda3',\n",
       " 'AppData',\n",
       " 'Application Data',\n",
       " 'Assignment 3.ipynb',\n",
       " 'Assignment 4.ipynb',\n",
       " 'bikes.csv',\n",
       " 'brain_size.csv',\n",
       " 'Contacts',\n",
       " 'Cookies',\n",
       " 'Documents',\n",
       " 'Downloads',\n",
       " 'eclipse-workspace',\n",
       " 'emp1test.html',\n",
       " 'emptest.csv',\n",
       " 'Favorites',\n",
       " 'headbrain.csv',\n",
       " 'house_pred_submission.csv',\n",
       " 'house_price.csv',\n",
       " 'house_price_data_median.csv',\n",
       " 'hrdata.csv',\n",
       " 'hr_attrition_rate.csv',\n",
       " 'iris.csv',\n",
       " 'Links',\n",
       " 'Local Settings',\n",
       " 'Machine Learning.ipynb',\n",
       " 'MSTeamsSetup_c_l_.exe',\n",
       " 'Music',\n",
       " 'My Documents',\n",
       " 'my_studentdatabase.db',\n",
       " 'NetHood',\n",
       " 'New folder',\n",
       " 'NTUSER.DAT',\n",
       " 'ntuser.dat.LOG1',\n",
       " 'ntuser.dat.LOG2',\n",
       " 'NTUSER.DAT{a2332f18-cdbf-11ec-8680-002248483d79}.TM.blf',\n",
       " 'NTUSER.DAT{a2332f18-cdbf-11ec-8680-002248483d79}.TMContainer00000000000000000001.regtrans-ms',\n",
       " 'NTUSER.DAT{a2332f18-cdbf-11ec-8680-002248483d79}.TMContainer00000000000000000002.regtrans-ms',\n",
       " 'ntuser.ini',\n",
       " 'OneDrive',\n",
       " 'pima_india_diabetes.csv',\n",
       " 'plantgrowth.csv',\n",
       " 'president_heights.csv',\n",
       " 'PrintHood',\n",
       " 'python.ipynb',\n",
       " 'Recent',\n",
       " 'Saved Games',\n",
       " 'Searches',\n",
       " 'selenium Assignment-1.ipynb',\n",
       " 'Selenium Assignment-2.ipynb',\n",
       " 'SendTo',\n",
       " 'SQL 04-02.ipynb',\n",
       " 'Start Menu',\n",
       " 'student_marks.csv',\n",
       " 'Templates',\n",
       " 'titanic_train.csv',\n",
       " 'Tracing',\n",
       " 'Untitled.ipynb',\n",
       " 'Untitled1.ipynb',\n",
       " 'Untitled3.ipynb',\n",
       " 'Videos',\n",
       " 'VirtualBox VMs',\n",
       " 'web',\n",
       " 'Web Scrapping using BeaytifulSoup.ipynb',\n",
       " 'web1',\n",
       " 'Webscrapping Assignment 1.ipynb',\n",
       " 'website',\n",
       " 'winedataset.csv',\n",
       " 'winequality.csv']"
      ]
     },
     "execution_count": 19,
     "metadata": {},
     "output_type": "execute_result"
    }
   ],
   "source": [
    "os.listdir()"
   ]
  },
  {
   "cell_type": "code",
   "execution_count": 13,
   "id": "b5714a5b",
   "metadata": {},
   "outputs": [],
   "source": [
    "import math"
   ]
  },
  {
   "cell_type": "code",
   "execution_count": 14,
   "id": "e5eb225d",
   "metadata": {},
   "outputs": [
    {
     "data": {
      "text/plain": [
       "3.141592653589793"
      ]
     },
     "execution_count": 14,
     "metadata": {},
     "output_type": "execute_result"
    }
   ],
   "source": [
    "math.pi"
   ]
  },
  {
   "cell_type": "code",
   "execution_count": 17,
   "id": "5fee6f8c",
   "metadata": {},
   "outputs": [
    {
     "data": {
      "text/plain": [
       "1661.9025137490005"
      ]
     },
     "execution_count": 17,
     "metadata": {},
     "output_type": "execute_result"
    }
   ],
   "source": [
    "rad=23\n",
    "area_of_circle=math.pi*rad**2\n",
    "area_of_circle"
   ]
  },
  {
   "cell_type": "code",
   "execution_count": 20,
   "id": "5e231b18",
   "metadata": {},
   "outputs": [
    {
     "data": {
      "text/plain": [
       "9.0"
      ]
     },
     "execution_count": 20,
     "metadata": {},
     "output_type": "execute_result"
    }
   ],
   "source": [
    "math.sqrt(81)"
   ]
  },
  {
   "cell_type": "code",
   "execution_count": 22,
   "id": "5794afbc",
   "metadata": {},
   "outputs": [
    {
     "data": {
      "text/plain": [
       "54756.0"
      ]
     },
     "execution_count": 22,
     "metadata": {},
     "output_type": "execute_result"
    }
   ],
   "source": [
    "math.pow(234,2)"
   ]
  },
  {
   "cell_type": "code",
   "execution_count": 23,
   "id": "617f662f",
   "metadata": {},
   "outputs": [
    {
     "data": {
      "text/plain": [
       "18.0"
      ]
     },
     "execution_count": 23,
     "metadata": {},
     "output_type": "execute_result"
    }
   ],
   "source": [
    "math.sqrt(324)"
   ]
  },
  {
   "cell_type": "code",
   "execution_count": 24,
   "id": "b8b84cc8",
   "metadata": {},
   "outputs": [
    {
     "data": {
      "text/plain": [
       "276.26798583983634"
      ]
     },
     "execution_count": 24,
     "metadata": {},
     "output_type": "execute_result"
    }
   ],
   "source": [
    "math.sqrt(76324)"
   ]
  },
  {
   "cell_type": "code",
   "execution_count": 25,
   "id": "ae8a9051",
   "metadata": {},
   "outputs": [
    {
     "data": {
      "text/plain": [
       "279841.0"
      ]
     },
     "execution_count": 25,
     "metadata": {},
     "output_type": "execute_result"
    }
   ],
   "source": [
    "math.pow(23,4)"
   ]
  },
  {
   "cell_type": "code",
   "execution_count": 26,
   "id": "b811e967",
   "metadata": {},
   "outputs": [],
   "source": [
    "import math as mt"
   ]
  },
  {
   "cell_type": "code",
   "execution_count": 27,
   "id": "50cbb116",
   "metadata": {},
   "outputs": [
    {
     "data": {
      "text/plain": [
       "3.141592653589793"
      ]
     },
     "execution_count": 27,
     "metadata": {},
     "output_type": "execute_result"
    }
   ],
   "source": [
    "mt.pi"
   ]
  },
  {
   "cell_type": "code",
   "execution_count": 28,
   "id": "d3849166",
   "metadata": {},
   "outputs": [
    {
     "data": {
      "text/plain": [
       "269.5125229001428"
      ]
     },
     "execution_count": 28,
     "metadata": {},
     "output_type": "execute_result"
    }
   ],
   "source": [
    "mt.sqrt(72637)"
   ]
  },
  {
   "cell_type": "code",
   "execution_count": 29,
   "id": "ae30eb6e",
   "metadata": {},
   "outputs": [
    {
     "data": {
      "text/plain": [
       "279841.0"
      ]
     },
     "execution_count": 29,
     "metadata": {},
     "output_type": "execute_result"
    }
   ],
   "source": [
    "mt.pow(23,4)"
   ]
  },
  {
   "cell_type": "code",
   "execution_count": 30,
   "id": "c8cefe21",
   "metadata": {},
   "outputs": [],
   "source": [
    "from math import pi"
   ]
  },
  {
   "cell_type": "code",
   "execution_count": 31,
   "id": "5ac22485",
   "metadata": {},
   "outputs": [
    {
     "data": {
      "text/plain": [
       "3.141592653589793"
      ]
     },
     "execution_count": 31,
     "metadata": {},
     "output_type": "execute_result"
    }
   ],
   "source": [
    "pi"
   ]
  },
  {
   "cell_type": "code",
   "execution_count": 32,
   "id": "d62029a0",
   "metadata": {},
   "outputs": [
    {
     "data": {
      "text/plain": [
       "28.274333882308138"
      ]
     },
     "execution_count": 32,
     "metadata": {},
     "output_type": "execute_result"
    }
   ],
   "source": [
    "r=3\n",
    "pi*r**2"
   ]
  },
  {
   "cell_type": "code",
   "execution_count": 33,
   "id": "00c78fb3",
   "metadata": {},
   "outputs": [
    {
     "ename": "NameError",
     "evalue": "name 'sqrt' is not defined",
     "output_type": "error",
     "traceback": [
      "\u001b[1;31m---------------------------------------------------------------------------\u001b[0m",
      "\u001b[1;31mNameError\u001b[0m                                 Traceback (most recent call last)",
      "\u001b[1;32m~\\AppData\\Local\\Temp\\ipykernel_8204\\40072514.py\u001b[0m in \u001b[0;36m<module>\u001b[1;34m\u001b[0m\n\u001b[1;32m----> 1\u001b[1;33m \u001b[0msqrt\u001b[0m\u001b[1;33m(\u001b[0m\u001b[1;36m36\u001b[0m\u001b[1;33m)\u001b[0m\u001b[1;33m\u001b[0m\u001b[1;33m\u001b[0m\u001b[0m\n\u001b[0m",
      "\u001b[1;31mNameError\u001b[0m: name 'sqrt' is not defined"
     ]
    }
   ],
   "source": [
    "sqrt(36)"
   ]
  },
  {
   "cell_type": "code",
   "execution_count": 35,
   "id": "6a61fd31",
   "metadata": {},
   "outputs": [],
   "source": [
    "from math import sqrt"
   ]
  },
  {
   "cell_type": "code",
   "execution_count": 36,
   "id": "18d9d32c",
   "metadata": {},
   "outputs": [
    {
     "data": {
      "text/plain": [
       "7.0"
      ]
     },
     "execution_count": 36,
     "metadata": {},
     "output_type": "execute_result"
    }
   ],
   "source": [
    "sqrt(49)"
   ]
  },
  {
   "cell_type": "code",
   "execution_count": 39,
   "id": "6ef87a99",
   "metadata": {},
   "outputs": [
    {
     "data": {
      "text/plain": [
       "dict_keys(['__name__', '__doc__', '__package__', '__loader__', '__spec__', 'acos', 'acosh', 'asin', 'asinh', 'atan', 'atan2', 'atanh', 'ceil', 'copysign', 'cos', 'cosh', 'degrees', 'dist', 'erf', 'erfc', 'exp', 'expm1', 'fabs', 'factorial', 'floor', 'fmod', 'frexp', 'fsum', 'gamma', 'gcd', 'hypot', 'isclose', 'isfinite', 'isinf', 'isnan', 'isqrt', 'lcm', 'ldexp', 'lgamma', 'log', 'log1p', 'log10', 'log2', 'modf', 'pow', 'radians', 'remainder', 'sin', 'sinh', 'sqrt', 'tan', 'tanh', 'trunc', 'prod', 'perm', 'comb', 'nextafter', 'ulp', 'pi', 'e', 'tau', 'inf', 'nan'])"
      ]
     },
     "execution_count": 39,
     "metadata": {},
     "output_type": "execute_result"
    }
   ],
   "source": [
    "math.__dict__.keys()"
   ]
  },
  {
   "cell_type": "code",
   "execution_count": 40,
   "id": "82fb3e16",
   "metadata": {},
   "outputs": [],
   "source": [
    "from math import log"
   ]
  },
  {
   "cell_type": "code",
   "execution_count": 41,
   "id": "71ee1a2b",
   "metadata": {},
   "outputs": [
    {
     "data": {
      "text/plain": [
       "2.302585092994046"
      ]
     },
     "execution_count": 41,
     "metadata": {},
     "output_type": "execute_result"
    }
   ],
   "source": [
    "log(10)"
   ]
  },
  {
   "cell_type": "code",
   "execution_count": 43,
   "id": "59b3c196",
   "metadata": {},
   "outputs": [],
   "source": [
    "from math import degrees"
   ]
  },
  {
   "cell_type": "code",
   "execution_count": 44,
   "id": "7b55dfbe",
   "metadata": {},
   "outputs": [
    {
     "data": {
      "text/plain": [
       "10313.240312354817"
      ]
     },
     "execution_count": 44,
     "metadata": {},
     "output_type": "execute_result"
    }
   ],
   "source": [
    "degrees(180)"
   ]
  },
  {
   "cell_type": "code",
   "execution_count": 46,
   "id": "a061e649",
   "metadata": {},
   "outputs": [
    {
     "data": {
      "text/plain": [
       "1317.8029288008934"
      ]
     },
     "execution_count": 46,
     "metadata": {},
     "output_type": "execute_result"
    }
   ],
   "source": [
    "degrees(23)"
   ]
  },
  {
   "cell_type": "code",
   "execution_count": 65,
   "id": "5a872953",
   "metadata": {},
   "outputs": [
    {
     "name": "stdout",
     "output_type": "stream",
     "text": [
      "30\n"
     ]
    }
   ],
   "source": [
    "dct={'sal':[10,20,30],'emp_num':[1,22,333]}\n",
    "\n",
    "for i,j in dct.items():\n",
    "    if i=='sal':\n",
    "        print(j[2])"
   ]
  },
  {
   "cell_type": "code",
   "execution_count": null,
   "id": "88804db5",
   "metadata": {},
   "outputs": [],
   "source": []
  },
  {
   "cell_type": "markdown",
   "id": "10916ae8",
   "metadata": {},
   "source": [
    "EXCEPTION HANDELING"
   ]
  },
  {
   "cell_type": "code",
   "execution_count": 66,
   "id": "8d9b4b20",
   "metadata": {},
   "outputs": [],
   "source": [
    "def excep():\n",
    "    try:\n",
    "        user=int(input('Enter a no'))\n",
    "    except:\n",
    "        out=print('thats not a number')"
   ]
  },
  {
   "cell_type": "code",
   "execution_count": 67,
   "id": "51f83f60",
   "metadata": {},
   "outputs": [
    {
     "name": "stdout",
     "output_type": "stream",
     "text": [
      "Enter a nofds\n",
      "thats not a number\n"
     ]
    }
   ],
   "source": [
    "excep()"
   ]
  },
  {
   "cell_type": "code",
   "execution_count": 68,
   "id": "599939b4",
   "metadata": {},
   "outputs": [
    {
     "name": "stdout",
     "output_type": "stream",
     "text": [
      "Enter a no213\n"
     ]
    }
   ],
   "source": [
    "excep()"
   ]
  },
  {
   "cell_type": "code",
   "execution_count": 69,
   "id": "2fd8ab0b",
   "metadata": {},
   "outputs": [],
   "source": [
    "def exce():\n",
    "    try:\n",
    "        user=int(input('Enter a no '))\n",
    "    except:\n",
    "        out=print('Thats no a number')\n",
    "    finally:\n",
    "        print('am printed anyway')"
   ]
  },
  {
   "cell_type": "code",
   "execution_count": 70,
   "id": "87075325",
   "metadata": {},
   "outputs": [
    {
     "name": "stdout",
     "output_type": "stream",
     "text": [
      "Enter a no wees\n",
      "Thats no a number\n",
      "am printed anyway\n"
     ]
    }
   ],
   "source": [
    "exce()"
   ]
  },
  {
   "cell_type": "code",
   "execution_count": 71,
   "id": "57c03f60",
   "metadata": {},
   "outputs": [
    {
     "name": "stdout",
     "output_type": "stream",
     "text": [
      "Enter a no 32465235\n",
      "am printed anyway\n"
     ]
    }
   ],
   "source": [
    "exce()"
   ]
  },
  {
   "cell_type": "code",
   "execution_count": 72,
   "id": "4e62dfb4",
   "metadata": {},
   "outputs": [],
   "source": [
    "def exc():\n",
    "    try:\n",
    "        user=int(input('Enter any number'))\n",
    "    except:\n",
    "        out=print('Nope thats no a number')\n",
    "        user=int(input('Try again enter a number'))\n",
    "    finally:\n",
    "        print('am executed anyway')"
   ]
  },
  {
   "cell_type": "code",
   "execution_count": 73,
   "id": "c0b697ad",
   "metadata": {},
   "outputs": [
    {
     "name": "stdout",
     "output_type": "stream",
     "text": [
      "Enter any numberrw\n",
      "Nope thats no a number\n",
      "Try again enter a numbersf\n",
      "am executed anyway\n"
     ]
    },
    {
     "ename": "ValueError",
     "evalue": "invalid literal for int() with base 10: 'sf'",
     "output_type": "error",
     "traceback": [
      "\u001b[1;31m---------------------------------------------------------------------------\u001b[0m",
      "\u001b[1;31mValueError\u001b[0m                                Traceback (most recent call last)",
      "\u001b[1;32m~\\AppData\\Local\\Temp\\ipykernel_8204\\651358680.py\u001b[0m in \u001b[0;36mexc\u001b[1;34m()\u001b[0m\n\u001b[0;32m      2\u001b[0m     \u001b[1;32mtry\u001b[0m\u001b[1;33m:\u001b[0m\u001b[1;33m\u001b[0m\u001b[1;33m\u001b[0m\u001b[0m\n\u001b[1;32m----> 3\u001b[1;33m         \u001b[0muser\u001b[0m\u001b[1;33m=\u001b[0m\u001b[0mint\u001b[0m\u001b[1;33m(\u001b[0m\u001b[0minput\u001b[0m\u001b[1;33m(\u001b[0m\u001b[1;34m'Enter any number'\u001b[0m\u001b[1;33m)\u001b[0m\u001b[1;33m)\u001b[0m\u001b[1;33m\u001b[0m\u001b[1;33m\u001b[0m\u001b[0m\n\u001b[0m\u001b[0;32m      4\u001b[0m     \u001b[1;32mexcept\u001b[0m\u001b[1;33m:\u001b[0m\u001b[1;33m\u001b[0m\u001b[1;33m\u001b[0m\u001b[0m\n",
      "\u001b[1;31mValueError\u001b[0m: invalid literal for int() with base 10: 'rw'",
      "\nDuring handling of the above exception, another exception occurred:\n",
      "\u001b[1;31mValueError\u001b[0m                                Traceback (most recent call last)",
      "\u001b[1;32m~\\AppData\\Local\\Temp\\ipykernel_8204\\1900745421.py\u001b[0m in \u001b[0;36m<module>\u001b[1;34m\u001b[0m\n\u001b[1;32m----> 1\u001b[1;33m \u001b[0mexc\u001b[0m\u001b[1;33m(\u001b[0m\u001b[1;33m)\u001b[0m\u001b[1;33m\u001b[0m\u001b[1;33m\u001b[0m\u001b[0m\n\u001b[0m",
      "\u001b[1;32m~\\AppData\\Local\\Temp\\ipykernel_8204\\651358680.py\u001b[0m in \u001b[0;36mexc\u001b[1;34m()\u001b[0m\n\u001b[0;32m      4\u001b[0m     \u001b[1;32mexcept\u001b[0m\u001b[1;33m:\u001b[0m\u001b[1;33m\u001b[0m\u001b[1;33m\u001b[0m\u001b[0m\n\u001b[0;32m      5\u001b[0m         \u001b[0mout\u001b[0m\u001b[1;33m=\u001b[0m\u001b[0mprint\u001b[0m\u001b[1;33m(\u001b[0m\u001b[1;34m'Nope thats no a number'\u001b[0m\u001b[1;33m)\u001b[0m\u001b[1;33m\u001b[0m\u001b[1;33m\u001b[0m\u001b[0m\n\u001b[1;32m----> 6\u001b[1;33m         \u001b[0muser\u001b[0m\u001b[1;33m=\u001b[0m\u001b[0mint\u001b[0m\u001b[1;33m(\u001b[0m\u001b[0minput\u001b[0m\u001b[1;33m(\u001b[0m\u001b[1;34m'Try again enter a number'\u001b[0m\u001b[1;33m)\u001b[0m\u001b[1;33m)\u001b[0m\u001b[1;33m\u001b[0m\u001b[1;33m\u001b[0m\u001b[0m\n\u001b[0m\u001b[0;32m      7\u001b[0m     \u001b[1;32mfinally\u001b[0m\u001b[1;33m:\u001b[0m\u001b[1;33m\u001b[0m\u001b[1;33m\u001b[0m\u001b[0m\n\u001b[0;32m      8\u001b[0m         \u001b[0mprint\u001b[0m\u001b[1;33m(\u001b[0m\u001b[1;34m'am executed anyway'\u001b[0m\u001b[1;33m)\u001b[0m\u001b[1;33m\u001b[0m\u001b[1;33m\u001b[0m\u001b[0m\n",
      "\u001b[1;31mValueError\u001b[0m: invalid literal for int() with base 10: 'sf'"
     ]
    }
   ],
   "source": [
    "exc()"
   ]
  },
  {
   "cell_type": "code",
   "execution_count": 74,
   "id": "9eb506ea",
   "metadata": {},
   "outputs": [
    {
     "name": "stdout",
     "output_type": "stream",
     "text": [
      "Enter any numberdfg\n",
      "Nope thats no a number\n",
      "Try again enter a numberqweq\n",
      "am executed anyway\n"
     ]
    },
    {
     "ename": "ValueError",
     "evalue": "invalid literal for int() with base 10: 'qweq'",
     "output_type": "error",
     "traceback": [
      "\u001b[1;31m---------------------------------------------------------------------------\u001b[0m",
      "\u001b[1;31mValueError\u001b[0m                                Traceback (most recent call last)",
      "\u001b[1;32m~\\AppData\\Local\\Temp\\ipykernel_8204\\651358680.py\u001b[0m in \u001b[0;36mexc\u001b[1;34m()\u001b[0m\n\u001b[0;32m      2\u001b[0m     \u001b[1;32mtry\u001b[0m\u001b[1;33m:\u001b[0m\u001b[1;33m\u001b[0m\u001b[1;33m\u001b[0m\u001b[0m\n\u001b[1;32m----> 3\u001b[1;33m         \u001b[0muser\u001b[0m\u001b[1;33m=\u001b[0m\u001b[0mint\u001b[0m\u001b[1;33m(\u001b[0m\u001b[0minput\u001b[0m\u001b[1;33m(\u001b[0m\u001b[1;34m'Enter any number'\u001b[0m\u001b[1;33m)\u001b[0m\u001b[1;33m)\u001b[0m\u001b[1;33m\u001b[0m\u001b[1;33m\u001b[0m\u001b[0m\n\u001b[0m\u001b[0;32m      4\u001b[0m     \u001b[1;32mexcept\u001b[0m\u001b[1;33m:\u001b[0m\u001b[1;33m\u001b[0m\u001b[1;33m\u001b[0m\u001b[0m\n",
      "\u001b[1;31mValueError\u001b[0m: invalid literal for int() with base 10: 'dfg'",
      "\nDuring handling of the above exception, another exception occurred:\n",
      "\u001b[1;31mValueError\u001b[0m                                Traceback (most recent call last)",
      "\u001b[1;32m~\\AppData\\Local\\Temp\\ipykernel_8204\\1900745421.py\u001b[0m in \u001b[0;36m<module>\u001b[1;34m\u001b[0m\n\u001b[1;32m----> 1\u001b[1;33m \u001b[0mexc\u001b[0m\u001b[1;33m(\u001b[0m\u001b[1;33m)\u001b[0m\u001b[1;33m\u001b[0m\u001b[1;33m\u001b[0m\u001b[0m\n\u001b[0m",
      "\u001b[1;32m~\\AppData\\Local\\Temp\\ipykernel_8204\\651358680.py\u001b[0m in \u001b[0;36mexc\u001b[1;34m()\u001b[0m\n\u001b[0;32m      4\u001b[0m     \u001b[1;32mexcept\u001b[0m\u001b[1;33m:\u001b[0m\u001b[1;33m\u001b[0m\u001b[1;33m\u001b[0m\u001b[0m\n\u001b[0;32m      5\u001b[0m         \u001b[0mout\u001b[0m\u001b[1;33m=\u001b[0m\u001b[0mprint\u001b[0m\u001b[1;33m(\u001b[0m\u001b[1;34m'Nope thats no a number'\u001b[0m\u001b[1;33m)\u001b[0m\u001b[1;33m\u001b[0m\u001b[1;33m\u001b[0m\u001b[0m\n\u001b[1;32m----> 6\u001b[1;33m         \u001b[0muser\u001b[0m\u001b[1;33m=\u001b[0m\u001b[0mint\u001b[0m\u001b[1;33m(\u001b[0m\u001b[0minput\u001b[0m\u001b[1;33m(\u001b[0m\u001b[1;34m'Try again enter a number'\u001b[0m\u001b[1;33m)\u001b[0m\u001b[1;33m)\u001b[0m\u001b[1;33m\u001b[0m\u001b[1;33m\u001b[0m\u001b[0m\n\u001b[0m\u001b[0;32m      7\u001b[0m     \u001b[1;32mfinally\u001b[0m\u001b[1;33m:\u001b[0m\u001b[1;33m\u001b[0m\u001b[1;33m\u001b[0m\u001b[0m\n\u001b[0;32m      8\u001b[0m         \u001b[0mprint\u001b[0m\u001b[1;33m(\u001b[0m\u001b[1;34m'am executed anyway'\u001b[0m\u001b[1;33m)\u001b[0m\u001b[1;33m\u001b[0m\u001b[1;33m\u001b[0m\u001b[0m\n",
      "\u001b[1;31mValueError\u001b[0m: invalid literal for int() with base 10: 'qweq'"
     ]
    }
   ],
   "source": [
    "exc()"
   ]
  },
  {
   "cell_type": "code",
   "execution_count": 75,
   "id": "767f13dc",
   "metadata": {},
   "outputs": [
    {
     "name": "stdout",
     "output_type": "stream",
     "text": [
      "Enter any numberedv\n",
      "Nope thats no a number\n",
      "Try again enter a number2134\n",
      "am executed anyway\n"
     ]
    }
   ],
   "source": [
    "exc()"
   ]
  },
  {
   "cell_type": "code",
   "execution_count": 80,
   "id": "df538281",
   "metadata": {},
   "outputs": [],
   "source": [
    "def ex():\n",
    "    while True:\n",
    "        try:\n",
    "            user=int(input('Number'))\n",
    "        except:\n",
    "            out=print('Nope thats not a number')\n",
    "            continue\n",
    "        else:\n",
    "            print('Yep looks like we have an integer')\n",
    "            break\n",
    "        finally:\n",
    "            print('finally done')"
   ]
  },
  {
   "cell_type": "code",
   "execution_count": 81,
   "id": "75cd5f95",
   "metadata": {},
   "outputs": [
    {
     "name": "stdout",
     "output_type": "stream",
     "text": [
      "NumberLDSFKJDSNF\n",
      "Nope thats not a number\n",
      "finally done\n",
      "NumberNSBEF\n",
      "Nope thats not a number\n",
      "finally done\n",
      "NumberJHSDDFGSUGFEU\n",
      "Nope thats not a number\n",
      "finally done\n",
      "NumberGDYIUHDBJD\n",
      "Nope thats not a number\n",
      "finally done\n",
      "NumberEDFTGEYF\n",
      "Nope thats not a number\n",
      "finally done\n",
      "NumberE\n",
      "Nope thats not a number\n",
      "finally done\n",
      "NumberSF\n",
      "Nope thats not a number\n",
      "finally done\n",
      "Number36452\n",
      "Yep looks like we have an integer\n",
      "finally done\n"
     ]
    }
   ],
   "source": [
    "ex()"
   ]
  },
  {
   "cell_type": "code",
   "execution_count": null,
   "id": "6af1d736",
   "metadata": {},
   "outputs": [],
   "source": []
  }
 ],
 "metadata": {
  "kernelspec": {
   "display_name": "Python 3 (ipykernel)",
   "language": "python",
   "name": "python3"
  },
  "language_info": {
   "codemirror_mode": {
    "name": "ipython",
    "version": 3
   },
   "file_extension": ".py",
   "mimetype": "text/x-python",
   "name": "python",
   "nbconvert_exporter": "python",
   "pygments_lexer": "ipython3",
   "version": "3.9.13"
  }
 },
 "nbformat": 4,
 "nbformat_minor": 5
}
